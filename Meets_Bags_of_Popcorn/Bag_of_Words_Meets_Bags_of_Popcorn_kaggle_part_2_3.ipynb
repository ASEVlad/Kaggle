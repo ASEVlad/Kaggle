{
  "nbformat": 4,
  "nbformat_minor": 0,
  "metadata": {
    "colab": {
      "name": "Bag of Words Meets Bags of Popcorn - kaggle part 2-3.ipynb",
      "version": "0.3.2",
      "provenance": [],
      "collapsed_sections": []
    },
    "kernelspec": {
      "name": "python3",
      "display_name": "Python 3"
    }
  },
  "cells": [
    {
      "cell_type": "code",
      "metadata": {
        "id": "Ocgh4bgYg6cp",
        "colab_type": "code",
        "colab": {}
      },
      "source": [
        "from google.colab import files\n",
        "import pandas as pd"
      ],
      "execution_count": 0,
      "outputs": []
    },
    {
      "cell_type": "code",
      "metadata": {
        "id": "RjNtf16YhXkD",
        "colab_type": "code",
        "outputId": "06f9bf9f-80f7-4b85-fd8a-f9cf55927e12",
        "colab": {
          "base_uri": "https://localhost:8080/",
          "height": 52
        }
      },
      "source": [
        "train = pd.read_csv( \"labeledTrainData.tsv\", header=0, \n",
        " delimiter=\"\\t\", quoting=3 )\n",
        "\n",
        "test = pd.read_csv( \"testData.tsv\", header=0, delimiter=\"\\t\", quoting=3 )\n",
        "unlabeled_train = pd.read_csv( \"unlabeledTrainData.tsv\", header=0, delimiter=\"\\t\", quoting=3 )\n",
        "\n",
        "# Verify the number of reviews that were read (100,000 in total)\n",
        "print (f'Read {train[\"review\"].size} labeled train reviews, {test[\"review\"].size} labeled test reviews',\n",
        "         f'and {unlabeled_train[\"review\"].size} unlabeled reviews\\n')"
      ],
      "execution_count": 8,
      "outputs": [
        {
          "output_type": "stream",
          "text": [
            "Read 25000 labeled train reviews, 25000 labeled test reviews and 50000 unlabeled reviews\n",
            "\n"
          ],
          "name": "stdout"
        }
      ]
    },
    {
      "cell_type": "code",
      "metadata": {
        "id": "54n-qHWBhiQ6",
        "colab_type": "code",
        "colab": {}
      },
      "source": [
        "from bs4 import BeautifulSoup\n",
        "import re\n",
        "from nltk.corpus import stopwords\n",
        "\n",
        "def review_to_wordlist( review, remove_stopwords=False ):\n",
        "    # Function to convert a document to a sequence of words,\n",
        "    # optionally removing stop words.  Returns a list of words.\n",
        "    #\n",
        "    # 1. Remove HTML\n",
        "    review_text = BeautifulSoup(review).get_text()\n",
        "    #  \n",
        "    # 2. Remove non-letters\n",
        "    review_text = re.sub(\"[^a-zA-Z]\",\" \", review_text)\n",
        "    #\n",
        "    # 3. Convert words to lower case and split them\n",
        "    words = review_text.lower().split()\n",
        "    #\n",
        "    # 4. Optionally remove stop words (false by default)\n",
        "    if remove_stopwords:\n",
        "        stops = set(stopwords.words(\"english\"))\n",
        "        words = [w for w in words if not w in stops]\n",
        "    #\n",
        "    # 5. Return a list of words\n",
        "    return(words)"
      ],
      "execution_count": 0,
      "outputs": []
    },
    {
      "cell_type": "code",
      "metadata": {
        "id": "eceWaYNwrJUH",
        "colab_type": "code",
        "outputId": "c88e62d5-cb60-479b-f5dd-7d72a5c2e7e0",
        "colab": {
          "base_uri": "https://localhost:8080/",
          "height": 52
        }
      },
      "source": [
        "import nltk.data\n",
        "nltk.download('punkt')\n",
        "\n",
        "# Load the punkt tokenizer\n",
        "tokenizer = nltk.data.load('tokenizers/punkt/english.pickle')\n",
        "\n",
        "# Define a function to split a review into parsed sentences\n",
        "def review_to_sentences( review, tokenizer, remove_stopwords=False ):\n",
        "    # Function to split a review into parsed sentences. Returns a \n",
        "    # list of sentences, where each sentence is a list of words\n",
        "    \n",
        "    # 1. Use the NLTK tokenizer to split the paragraph into sentences\n",
        "    raw_sentences = tokenizer.tokenize(review.strip())\n",
        "    \n",
        "    # 2. Loop over each sentence\n",
        "    sentences = []\n",
        "    for raw_sentence in raw_sentences:\n",
        "        # If a sentence is empty, skip it\n",
        "        if len(raw_sentence) > 0:\n",
        "            # Otherwise, call review_to_wordlist to get a list of words\n",
        "            sentences.append( review_to_wordlist( raw_sentence))\n",
        "    \n",
        "    # Return the list of sentences (each sentence is a list of words,\n",
        "    # so this returns a list of lists\n",
        "    return sentences"
      ],
      "execution_count": 10,
      "outputs": [
        {
          "output_type": "stream",
          "text": [
            "[nltk_data] Downloading package punkt to /root/nltk_data...\n",
            "[nltk_data]   Unzipping tokenizers/punkt.zip.\n"
          ],
          "name": "stdout"
        }
      ]
    },
    {
      "cell_type": "code",
      "metadata": {
        "id": "fqI0K6XprKd-",
        "colab_type": "code",
        "outputId": "db7efff1-e8be-48fa-a762-cedfb9e0834c",
        "colab": {
          "base_uri": "https://localhost:8080/",
          "height": 356
        }
      },
      "source": [
        "sentences = []  # Initialize an empty list of sentences\n",
        "\n",
        "print (\"Parsing sentences from training set\")\n",
        "for review in train[\"review\"]:\n",
        "    sentences += review_to_sentences(review, tokenizer)\n",
        "\n",
        "print (\"Parsing sentences from unlabeled set\")\n",
        "for review in unlabeled_train[\"review\"]:\n",
        "    sentences += review_to_sentences(review, tokenizer)"
      ],
      "execution_count": 11,
      "outputs": [
        {
          "output_type": "stream",
          "text": [
            "Parsing sentences from training set\n"
          ],
          "name": "stdout"
        },
        {
          "output_type": "stream",
          "text": [
            "/usr/local/lib/python3.6/dist-packages/bs4/__init__.py:273: UserWarning: \"b'.'\" looks like a filename, not markup. You should probably open this file and pass the filehandle into Beautiful Soup.\n",
            "  ' Beautiful Soup.' % markup)\n",
            "/usr/local/lib/python3.6/dist-packages/bs4/__init__.py:336: UserWarning: \"http://www.happierabroad.com\"\" looks like a URL. Beautiful Soup is not an HTTP client. You should probably use an HTTP client like requests to get the document behind the URL, and feed that document to Beautiful Soup.\n",
            "  ' that document to Beautiful Soup.' % decoded_markup\n"
          ],
          "name": "stderr"
        },
        {
          "output_type": "stream",
          "text": [
            "Parsing sentences from unlabeled set\n"
          ],
          "name": "stdout"
        },
        {
          "output_type": "stream",
          "text": [
            "/usr/local/lib/python3.6/dist-packages/bs4/__init__.py:336: UserWarning: \"http://www.archive.org/details/LovefromaStranger\"\" looks like a URL. Beautiful Soup is not an HTTP client. You should probably use an HTTP client like requests to get the document behind the URL, and feed that document to Beautiful Soup.\n",
            "  ' that document to Beautiful Soup.' % decoded_markup\n",
            "/usr/local/lib/python3.6/dist-packages/bs4/__init__.py:336: UserWarning: \"http://www.loosechangeguide.com/LooseChangeGuide.html\"\" looks like a URL. Beautiful Soup is not an HTTP client. You should probably use an HTTP client like requests to get the document behind the URL, and feed that document to Beautiful Soup.\n",
            "  ' that document to Beautiful Soup.' % decoded_markup\n",
            "/usr/local/lib/python3.6/dist-packages/bs4/__init__.py:336: UserWarning: \"http://www.msnbc.msn.com/id/4972055/site/newsweek/\"\" looks like a URL. Beautiful Soup is not an HTTP client. You should probably use an HTTP client like requests to get the document behind the URL, and feed that document to Beautiful Soup.\n",
            "  ' that document to Beautiful Soup.' % decoded_markup\n",
            "/usr/local/lib/python3.6/dist-packages/bs4/__init__.py:273: UserWarning: \"b'..'\" looks like a filename, not markup. You should probably open this file and pass the filehandle into Beautiful Soup.\n",
            "  ' Beautiful Soup.' % markup)\n",
            "/usr/local/lib/python3.6/dist-packages/bs4/__init__.py:336: UserWarning: \"http://www.youtube.com/watch?v=a0KSqelmgN8\"\" looks like a URL. Beautiful Soup is not an HTTP client. You should probably use an HTTP client like requests to get the document behind the URL, and feed that document to Beautiful Soup.\n",
            "  ' that document to Beautiful Soup.' % decoded_markup\n",
            "/usr/local/lib/python3.6/dist-packages/bs4/__init__.py:336: UserWarning: \"http://jake-weird.blogspot.com/2007/08/beneath.html\"\" looks like a URL. Beautiful Soup is not an HTTP client. You should probably use an HTTP client like requests to get the document behind the URL, and feed that document to Beautiful Soup.\n",
            "  ' that document to Beautiful Soup.' % decoded_markup\n"
          ],
          "name": "stderr"
        }
      ]
    },
    {
      "cell_type": "code",
      "metadata": {
        "id": "JGnXAKIf5Fob",
        "colab_type": "code",
        "colab": {
          "base_uri": "https://localhost:8080/",
          "height": 34
        },
        "outputId": "30c27dd0-b4cc-4d96-f3d2-d7fe1928ce29"
      },
      "source": [
        "import logging\n",
        "logging.basicConfig(format='%(asctime)s : %(levelname)s : %(message)s',\\\n",
        "    level=logging.INFO)\n",
        "\n",
        "# Set values for various parameters\n",
        "num_features = 300    # Word vector dimensionality                      \n",
        "min_word_count = 40   # Minimum word count                        \n",
        "num_workers = 4       # Number of threads to run in parallel\n",
        "context = 10          # Context window size                                                                                    \n",
        "downsampling = 1e-3   # Downsample setting for frequent words\n",
        "\n",
        "# Initialize and train the model (this will take some time)\n",
        "from gensim.models import word2vec"
      ],
      "execution_count": 12,
      "outputs": [
        {
          "output_type": "stream",
          "text": [
            "2019-07-18 12:56:14,905 : INFO : 'pattern' package not found; tag filters are not available for English\n"
          ],
          "name": "stderr"
        }
      ]
    },
    {
      "cell_type": "code",
      "metadata": {
        "id": "k3xg0b6s5Htl",
        "colab_type": "code",
        "outputId": "c51c19f3-6b91-48c0-fbfe-8fa5a7d5565a",
        "colab": {
          "base_uri": "https://localhost:8080/",
          "height": 1000
        }
      },
      "source": [
        "print (\"Training model...\")\n",
        "model = word2vec.Word2Vec(sentences, workers=num_workers, \\\n",
        "            size=num_features, min_count = min_word_count, \\\n",
        "            window = context, sample = downsampling)\n",
        "\n",
        "# If you don't plan to train the model any further, calling \n",
        "# init_sims will make the model much more memory-efficient.\n",
        "model.init_sims(replace=True)\n",
        "\n",
        "# It can be helpful to create a meaningful model name and \n",
        "# save the model for later use. You can load it later using Word2Vec.load()\n",
        "model_name = \"300features_40minwords_10context\"\n",
        "model.save(model_name)"
      ],
      "execution_count": 13,
      "outputs": [
        {
          "output_type": "stream",
          "text": [
            "2019-07-18 12:56:16,807 : INFO : collecting all words and their counts\n",
            "2019-07-18 12:56:16,809 : INFO : PROGRESS: at sentence #0, processed 0 words, keeping 0 word types\n",
            "2019-07-18 12:56:16,877 : INFO : PROGRESS: at sentence #10000, processed 225803 words, keeping 17776 word types\n",
            "2019-07-18 12:56:16,945 : INFO : PROGRESS: at sentence #20000, processed 451892 words, keeping 24948 word types\n"
          ],
          "name": "stderr"
        },
        {
          "output_type": "stream",
          "text": [
            "Training model...\n"
          ],
          "name": "stdout"
        },
        {
          "output_type": "stream",
          "text": [
            "2019-07-18 12:56:17,013 : INFO : PROGRESS: at sentence #30000, processed 671315 words, keeping 30034 word types\n",
            "2019-07-18 12:56:17,089 : INFO : PROGRESS: at sentence #40000, processed 897815 words, keeping 34348 word types\n",
            "2019-07-18 12:56:17,156 : INFO : PROGRESS: at sentence #50000, processed 1116963 words, keeping 37761 word types\n",
            "2019-07-18 12:56:17,224 : INFO : PROGRESS: at sentence #60000, processed 1338404 words, keeping 40723 word types\n",
            "2019-07-18 12:56:17,287 : INFO : PROGRESS: at sentence #70000, processed 1561580 words, keeping 43333 word types\n",
            "2019-07-18 12:56:17,356 : INFO : PROGRESS: at sentence #80000, processed 1780887 words, keeping 45714 word types\n",
            "2019-07-18 12:56:17,422 : INFO : PROGRESS: at sentence #90000, processed 2004996 words, keeping 48135 word types\n",
            "2019-07-18 12:56:17,491 : INFO : PROGRESS: at sentence #100000, processed 2226966 words, keeping 50207 word types\n",
            "2019-07-18 12:56:17,565 : INFO : PROGRESS: at sentence #110000, processed 2446580 words, keeping 52081 word types\n",
            "2019-07-18 12:56:17,635 : INFO : PROGRESS: at sentence #120000, processed 2668775 words, keeping 54119 word types\n",
            "2019-07-18 12:56:17,702 : INFO : PROGRESS: at sentence #130000, processed 2894303 words, keeping 55847 word types\n",
            "2019-07-18 12:56:17,765 : INFO : PROGRESS: at sentence #140000, processed 3107005 words, keeping 57346 word types\n",
            "2019-07-18 12:56:17,831 : INFO : PROGRESS: at sentence #150000, processed 3332627 words, keeping 59055 word types\n",
            "2019-07-18 12:56:17,897 : INFO : PROGRESS: at sentence #160000, processed 3555315 words, keeping 60617 word types\n",
            "2019-07-18 12:56:17,962 : INFO : PROGRESS: at sentence #170000, processed 3778655 words, keeping 62077 word types\n",
            "2019-07-18 12:56:18,026 : INFO : PROGRESS: at sentence #180000, processed 3999236 words, keeping 63496 word types\n",
            "2019-07-18 12:56:18,093 : INFO : PROGRESS: at sentence #190000, processed 4224449 words, keeping 64794 word types\n",
            "2019-07-18 12:56:18,159 : INFO : PROGRESS: at sentence #200000, processed 4448603 words, keeping 66087 word types\n",
            "2019-07-18 12:56:18,223 : INFO : PROGRESS: at sentence #210000, processed 4669967 words, keeping 67390 word types\n",
            "2019-07-18 12:56:18,290 : INFO : PROGRESS: at sentence #220000, processed 4894968 words, keeping 68697 word types\n",
            "2019-07-18 12:56:18,354 : INFO : PROGRESS: at sentence #230000, processed 5117545 words, keeping 69958 word types\n",
            "2019-07-18 12:56:18,419 : INFO : PROGRESS: at sentence #240000, processed 5345050 words, keeping 71167 word types\n",
            "2019-07-18 12:56:18,484 : INFO : PROGRESS: at sentence #250000, processed 5559165 words, keeping 72351 word types\n",
            "2019-07-18 12:56:18,550 : INFO : PROGRESS: at sentence #260000, processed 5779146 words, keeping 73478 word types\n",
            "2019-07-18 12:56:18,616 : INFO : PROGRESS: at sentence #270000, processed 6000435 words, keeping 74767 word types\n",
            "2019-07-18 12:56:18,684 : INFO : PROGRESS: at sentence #280000, processed 6226314 words, keeping 76369 word types\n",
            "2019-07-18 12:56:18,755 : INFO : PROGRESS: at sentence #290000, processed 6449474 words, keeping 77839 word types\n",
            "2019-07-18 12:56:18,828 : INFO : PROGRESS: at sentence #300000, processed 6674077 words, keeping 79171 word types\n",
            "2019-07-18 12:56:18,898 : INFO : PROGRESS: at sentence #310000, processed 6899391 words, keeping 80480 word types\n",
            "2019-07-18 12:56:18,975 : INFO : PROGRESS: at sentence #320000, processed 7124278 words, keeping 81808 word types\n",
            "2019-07-18 12:56:19,045 : INFO : PROGRESS: at sentence #330000, processed 7346021 words, keeping 83030 word types\n",
            "2019-07-18 12:56:19,117 : INFO : PROGRESS: at sentence #340000, processed 7575533 words, keeping 84280 word types\n",
            "2019-07-18 12:56:19,189 : INFO : PROGRESS: at sentence #350000, processed 7798803 words, keeping 85425 word types\n",
            "2019-07-18 12:56:19,261 : INFO : PROGRESS: at sentence #360000, processed 8019427 words, keeping 86596 word types\n",
            "2019-07-18 12:56:19,340 : INFO : PROGRESS: at sentence #370000, processed 8246619 words, keeping 87708 word types\n",
            "2019-07-18 12:56:19,411 : INFO : PROGRESS: at sentence #380000, processed 8471766 words, keeping 88878 word types\n",
            "2019-07-18 12:56:19,484 : INFO : PROGRESS: at sentence #390000, processed 8701497 words, keeping 89907 word types\n",
            "2019-07-18 12:56:19,555 : INFO : PROGRESS: at sentence #400000, processed 8924446 words, keeping 90916 word types\n",
            "2019-07-18 12:56:19,624 : INFO : PROGRESS: at sentence #410000, processed 9145796 words, keeping 91880 word types\n",
            "2019-07-18 12:56:19,693 : INFO : PROGRESS: at sentence #420000, processed 9366876 words, keeping 92912 word types\n",
            "2019-07-18 12:56:19,768 : INFO : PROGRESS: at sentence #430000, processed 9594413 words, keeping 93932 word types\n",
            "2019-07-18 12:56:19,839 : INFO : PROGRESS: at sentence #440000, processed 9821166 words, keeping 94906 word types\n",
            "2019-07-18 12:56:19,908 : INFO : PROGRESS: at sentence #450000, processed 10044928 words, keeping 96036 word types\n",
            "2019-07-18 12:56:19,987 : INFO : PROGRESS: at sentence #460000, processed 10277688 words, keeping 97088 word types\n",
            "2019-07-18 12:56:20,061 : INFO : PROGRESS: at sentence #470000, processed 10505613 words, keeping 97933 word types\n",
            "2019-07-18 12:56:20,133 : INFO : PROGRESS: at sentence #480000, processed 10725997 words, keeping 98862 word types\n",
            "2019-07-18 12:56:20,209 : INFO : PROGRESS: at sentence #490000, processed 10952741 words, keeping 99871 word types\n",
            "2019-07-18 12:56:20,283 : INFO : PROGRESS: at sentence #500000, processed 11174397 words, keeping 100765 word types\n",
            "2019-07-18 12:56:20,355 : INFO : PROGRESS: at sentence #510000, processed 11399672 words, keeping 101699 word types\n",
            "2019-07-18 12:56:20,428 : INFO : PROGRESS: at sentence #520000, processed 11623020 words, keeping 102598 word types\n",
            "2019-07-18 12:56:20,506 : INFO : PROGRESS: at sentence #530000, processed 11847418 words, keeping 103400 word types\n",
            "2019-07-18 12:56:20,577 : INFO : PROGRESS: at sentence #540000, processed 12072033 words, keeping 104265 word types\n",
            "2019-07-18 12:56:20,650 : INFO : PROGRESS: at sentence #550000, processed 12297571 words, keeping 105133 word types\n",
            "2019-07-18 12:56:20,723 : INFO : PROGRESS: at sentence #560000, processed 12518861 words, keeping 105997 word types\n",
            "2019-07-18 12:56:20,795 : INFO : PROGRESS: at sentence #570000, processed 12747916 words, keeping 106787 word types\n",
            "2019-07-18 12:56:20,865 : INFO : PROGRESS: at sentence #580000, processed 12969412 words, keeping 107665 word types\n",
            "2019-07-18 12:56:20,938 : INFO : PROGRESS: at sentence #590000, processed 13194937 words, keeping 108501 word types\n",
            "2019-07-18 12:56:21,010 : INFO : PROGRESS: at sentence #600000, processed 13417135 words, keeping 109218 word types\n",
            "2019-07-18 12:56:21,079 : INFO : PROGRESS: at sentence #610000, processed 13638158 words, keeping 110092 word types\n",
            "2019-07-18 12:56:21,150 : INFO : PROGRESS: at sentence #620000, processed 13864483 words, keeping 110837 word types\n",
            "2019-07-18 12:56:21,230 : INFO : PROGRESS: at sentence #630000, processed 14088769 words, keeping 111610 word types\n",
            "2019-07-18 12:56:21,300 : INFO : PROGRESS: at sentence #640000, processed 14309552 words, keeping 112416 word types\n",
            "2019-07-18 12:56:21,372 : INFO : PROGRESS: at sentence #650000, processed 14535308 words, keeping 113196 word types\n",
            "2019-07-18 12:56:21,447 : INFO : PROGRESS: at sentence #660000, processed 14758098 words, keeping 113945 word types\n",
            "2019-07-18 12:56:21,518 : INFO : PROGRESS: at sentence #670000, processed 14981482 words, keeping 114643 word types\n",
            "2019-07-18 12:56:21,590 : INFO : PROGRESS: at sentence #680000, processed 15206314 words, keeping 115354 word types\n",
            "2019-07-18 12:56:21,663 : INFO : PROGRESS: at sentence #690000, processed 15428507 words, keeping 116131 word types\n",
            "2019-07-18 12:56:21,737 : INFO : PROGRESS: at sentence #700000, processed 15657213 words, keeping 116943 word types\n",
            "2019-07-18 12:56:21,807 : INFO : PROGRESS: at sentence #710000, processed 15880202 words, keeping 117596 word types\n",
            "2019-07-18 12:56:21,880 : INFO : PROGRESS: at sentence #720000, processed 16105489 words, keeping 118221 word types\n",
            "2019-07-18 12:56:21,952 : INFO : PROGRESS: at sentence #730000, processed 16331870 words, keeping 118954 word types\n",
            "2019-07-18 12:56:22,022 : INFO : PROGRESS: at sentence #740000, processed 16552903 words, keeping 119668 word types\n",
            "2019-07-18 12:56:22,094 : INFO : PROGRESS: at sentence #750000, processed 16771230 words, keeping 120295 word types\n",
            "2019-07-18 12:56:22,164 : INFO : PROGRESS: at sentence #760000, processed 16990622 words, keeping 120930 word types\n",
            "2019-07-18 12:56:22,235 : INFO : PROGRESS: at sentence #770000, processed 17217759 words, keeping 121703 word types\n",
            "2019-07-18 12:56:22,307 : INFO : PROGRESS: at sentence #780000, processed 17447905 words, keeping 122402 word types\n",
            "2019-07-18 12:56:22,385 : INFO : PROGRESS: at sentence #790000, processed 17674981 words, keeping 123066 word types\n",
            "2019-07-18 12:56:22,426 : INFO : collected 123504 word types from a corpus of 17798082 raw words and 795538 sentences\n",
            "2019-07-18 12:56:22,428 : INFO : Loading a fresh vocabulary\n",
            "2019-07-18 12:56:22,535 : INFO : effective_min_count=40 retains 16490 unique words (13% of original 123504, drops 107014)\n",
            "2019-07-18 12:56:22,536 : INFO : effective_min_count=40 leaves 17238940 word corpus (96% of original 17798082, drops 559142)\n",
            "2019-07-18 12:56:22,606 : INFO : deleting the raw counts dictionary of 123504 items\n",
            "2019-07-18 12:56:22,612 : INFO : sample=0.001 downsamples 48 most-common words\n",
            "2019-07-18 12:56:22,614 : INFO : downsampling leaves estimated 12749658 word corpus (74.0% of prior 17238940)\n",
            "2019-07-18 12:56:22,689 : INFO : estimated required memory for 16490 words and 300 dimensions: 47821000 bytes\n",
            "2019-07-18 12:56:22,690 : INFO : resetting layer weights\n",
            "2019-07-18 12:56:22,913 : INFO : training model with 4 workers on 16490 vocabulary and 300 features, using sg=0 hs=0 sample=0.001 negative=5 window=10\n",
            "2019-07-18 12:56:23,969 : INFO : EPOCH 1 - PROGRESS: at 2.34% examples, 290189 words/s, in_qsize 7, out_qsize 0\n",
            "2019-07-18 12:56:24,961 : INFO : EPOCH 1 - PROGRESS: at 4.70% examples, 294878 words/s, in_qsize 7, out_qsize 0\n",
            "2019-07-18 12:56:25,986 : INFO : EPOCH 1 - PROGRESS: at 7.19% examples, 298813 words/s, in_qsize 7, out_qsize 0\n",
            "2019-07-18 12:56:26,999 : INFO : EPOCH 1 - PROGRESS: at 9.69% examples, 301710 words/s, in_qsize 8, out_qsize 0\n",
            "2019-07-18 12:56:28,043 : INFO : EPOCH 1 - PROGRESS: at 12.24% examples, 303112 words/s, in_qsize 7, out_qsize 0\n",
            "2019-07-18 12:56:29,060 : INFO : EPOCH 1 - PROGRESS: at 14.72% examples, 304269 words/s, in_qsize 7, out_qsize 0\n",
            "2019-07-18 12:56:30,086 : INFO : EPOCH 1 - PROGRESS: at 17.23% examples, 304656 words/s, in_qsize 7, out_qsize 0\n",
            "2019-07-18 12:56:31,089 : INFO : EPOCH 1 - PROGRESS: at 19.76% examples, 306581 words/s, in_qsize 7, out_qsize 0\n",
            "2019-07-18 12:56:32,135 : INFO : EPOCH 1 - PROGRESS: at 22.26% examples, 305974 words/s, in_qsize 7, out_qsize 0\n",
            "2019-07-18 12:56:33,154 : INFO : EPOCH 1 - PROGRESS: at 24.67% examples, 305562 words/s, in_qsize 7, out_qsize 0\n",
            "2019-07-18 12:56:34,168 : INFO : EPOCH 1 - PROGRESS: at 27.14% examples, 305930 words/s, in_qsize 7, out_qsize 0\n",
            "2019-07-18 12:56:35,196 : INFO : EPOCH 1 - PROGRESS: at 29.53% examples, 305453 words/s, in_qsize 6, out_qsize 1\n",
            "2019-07-18 12:56:36,221 : INFO : EPOCH 1 - PROGRESS: at 32.13% examples, 306006 words/s, in_qsize 7, out_qsize 0\n",
            "2019-07-18 12:56:37,232 : INFO : EPOCH 1 - PROGRESS: at 34.60% examples, 306338 words/s, in_qsize 7, out_qsize 0\n",
            "2019-07-18 12:56:38,255 : INFO : EPOCH 1 - PROGRESS: at 37.01% examples, 305954 words/s, in_qsize 7, out_qsize 0\n",
            "2019-07-18 12:56:39,261 : INFO : EPOCH 1 - PROGRESS: at 39.36% examples, 305528 words/s, in_qsize 7, out_qsize 0\n",
            "2019-07-18 12:56:40,266 : INFO : EPOCH 1 - PROGRESS: at 41.86% examples, 306373 words/s, in_qsize 7, out_qsize 0\n",
            "2019-07-18 12:56:41,289 : INFO : EPOCH 1 - PROGRESS: at 44.26% examples, 306078 words/s, in_qsize 7, out_qsize 0\n",
            "2019-07-18 12:56:42,352 : INFO : EPOCH 1 - PROGRESS: at 46.83% examples, 306239 words/s, in_qsize 7, out_qsize 0\n",
            "2019-07-18 12:56:43,384 : INFO : EPOCH 1 - PROGRESS: at 49.33% examples, 306556 words/s, in_qsize 7, out_qsize 0\n",
            "2019-07-18 12:56:44,425 : INFO : EPOCH 1 - PROGRESS: at 51.92% examples, 307016 words/s, in_qsize 7, out_qsize 0\n",
            "2019-07-18 12:56:45,442 : INFO : EPOCH 1 - PROGRESS: at 54.31% examples, 306782 words/s, in_qsize 8, out_qsize 2\n",
            "2019-07-18 12:56:46,470 : INFO : EPOCH 1 - PROGRESS: at 56.88% examples, 307343 words/s, in_qsize 8, out_qsize 1\n",
            "2019-07-18 12:56:47,488 : INFO : EPOCH 1 - PROGRESS: at 59.34% examples, 307690 words/s, in_qsize 8, out_qsize 0\n",
            "2019-07-18 12:56:48,514 : INFO : EPOCH 1 - PROGRESS: at 61.92% examples, 308218 words/s, in_qsize 7, out_qsize 0\n",
            "2019-07-18 12:56:49,531 : INFO : EPOCH 1 - PROGRESS: at 64.44% examples, 308530 words/s, in_qsize 8, out_qsize 0\n",
            "2019-07-18 12:56:50,584 : INFO : EPOCH 1 - PROGRESS: at 67.12% examples, 309188 words/s, in_qsize 7, out_qsize 0\n",
            "2019-07-18 12:56:51,609 : INFO : EPOCH 1 - PROGRESS: at 69.70% examples, 309616 words/s, in_qsize 7, out_qsize 0\n",
            "2019-07-18 12:56:52,620 : INFO : EPOCH 1 - PROGRESS: at 72.15% examples, 309671 words/s, in_qsize 7, out_qsize 0\n",
            "2019-07-18 12:56:53,637 : INFO : EPOCH 1 - PROGRESS: at 74.62% examples, 309663 words/s, in_qsize 7, out_qsize 0\n",
            "2019-07-18 12:56:54,645 : INFO : EPOCH 1 - PROGRESS: at 77.04% examples, 309521 words/s, in_qsize 7, out_qsize 0\n",
            "2019-07-18 12:56:55,652 : INFO : EPOCH 1 - PROGRESS: at 79.40% examples, 309174 words/s, in_qsize 7, out_qsize 0\n",
            "2019-07-18 12:56:56,675 : INFO : EPOCH 1 - PROGRESS: at 81.93% examples, 309322 words/s, in_qsize 6, out_qsize 1\n",
            "2019-07-18 12:56:57,723 : INFO : EPOCH 1 - PROGRESS: at 84.45% examples, 309262 words/s, in_qsize 7, out_qsize 0\n",
            "2019-07-18 12:56:58,736 : INFO : EPOCH 1 - PROGRESS: at 86.92% examples, 309303 words/s, in_qsize 7, out_qsize 0\n",
            "2019-07-18 12:56:59,754 : INFO : EPOCH 1 - PROGRESS: at 89.37% examples, 309303 words/s, in_qsize 7, out_qsize 0\n",
            "2019-07-18 12:57:00,772 : INFO : EPOCH 1 - PROGRESS: at 91.76% examples, 309113 words/s, in_qsize 6, out_qsize 1\n",
            "2019-07-18 12:57:01,784 : INFO : EPOCH 1 - PROGRESS: at 94.32% examples, 309334 words/s, in_qsize 7, out_qsize 0\n",
            "2019-07-18 12:57:02,811 : INFO : EPOCH 1 - PROGRESS: at 96.75% examples, 309083 words/s, in_qsize 8, out_qsize 0\n",
            "2019-07-18 12:57:03,820 : INFO : EPOCH 1 - PROGRESS: at 99.11% examples, 308984 words/s, in_qsize 7, out_qsize 0\n",
            "2019-07-18 12:57:04,112 : INFO : worker thread finished; awaiting finish of 3 more threads\n",
            "2019-07-18 12:57:04,130 : INFO : worker thread finished; awaiting finish of 2 more threads\n",
            "2019-07-18 12:57:04,140 : INFO : worker thread finished; awaiting finish of 1 more threads\n",
            "2019-07-18 12:57:04,152 : INFO : worker thread finished; awaiting finish of 0 more threads\n",
            "2019-07-18 12:57:04,153 : INFO : EPOCH - 1 : training on 17798082 raw words (12750055 effective words) took 41.2s, 309250 effective words/s\n",
            "2019-07-18 12:57:05,164 : INFO : EPOCH 2 - PROGRESS: at 2.23% examples, 286041 words/s, in_qsize 7, out_qsize 0\n",
            "2019-07-18 12:57:06,200 : INFO : EPOCH 2 - PROGRESS: at 4.64% examples, 291367 words/s, in_qsize 6, out_qsize 1\n",
            "2019-07-18 12:57:07,210 : INFO : EPOCH 2 - PROGRESS: at 7.13% examples, 297891 words/s, in_qsize 7, out_qsize 0\n",
            "2019-07-18 12:57:08,213 : INFO : EPOCH 2 - PROGRESS: at 9.51% examples, 298380 words/s, in_qsize 7, out_qsize 0\n",
            "2019-07-18 12:57:09,226 : INFO : EPOCH 2 - PROGRESS: at 12.06% examples, 302207 words/s, in_qsize 7, out_qsize 0\n",
            "2019-07-18 12:57:10,235 : INFO : EPOCH 2 - PROGRESS: at 14.57% examples, 303932 words/s, in_qsize 8, out_qsize 0\n",
            "2019-07-18 12:57:11,251 : INFO : EPOCH 2 - PROGRESS: at 16.95% examples, 302701 words/s, in_qsize 6, out_qsize 1\n",
            "2019-07-18 12:57:12,262 : INFO : EPOCH 2 - PROGRESS: at 19.44% examples, 303719 words/s, in_qsize 7, out_qsize 0\n",
            "2019-07-18 12:57:13,286 : INFO : EPOCH 2 - PROGRESS: at 21.92% examples, 304166 words/s, in_qsize 7, out_qsize 0\n",
            "2019-07-18 12:57:14,327 : INFO : EPOCH 2 - PROGRESS: at 24.44% examples, 304694 words/s, in_qsize 8, out_qsize 0\n",
            "2019-07-18 12:57:15,327 : INFO : EPOCH 2 - PROGRESS: at 26.92% examples, 305528 words/s, in_qsize 7, out_qsize 0\n",
            "2019-07-18 12:57:16,347 : INFO : EPOCH 2 - PROGRESS: at 29.26% examples, 304587 words/s, in_qsize 6, out_qsize 1\n",
            "2019-07-18 12:57:17,357 : INFO : EPOCH 2 - PROGRESS: at 31.85% examples, 305629 words/s, in_qsize 7, out_qsize 0\n",
            "2019-07-18 12:57:18,380 : INFO : EPOCH 2 - PROGRESS: at 34.44% examples, 306765 words/s, in_qsize 7, out_qsize 0\n",
            "2019-07-18 12:57:19,395 : INFO : EPOCH 2 - PROGRESS: at 36.90% examples, 306979 words/s, in_qsize 7, out_qsize 0\n",
            "2019-07-18 12:57:20,401 : INFO : EPOCH 2 - PROGRESS: at 39.36% examples, 307351 words/s, in_qsize 7, out_qsize 0\n",
            "2019-07-18 12:57:21,415 : INFO : EPOCH 2 - PROGRESS: at 41.81% examples, 307516 words/s, in_qsize 7, out_qsize 0\n",
            "2019-07-18 12:57:22,462 : INFO : EPOCH 2 - PROGRESS: at 44.32% examples, 307522 words/s, in_qsize 7, out_qsize 0\n",
            "2019-07-18 12:57:23,491 : INFO : EPOCH 2 - PROGRESS: at 46.78% examples, 307407 words/s, in_qsize 7, out_qsize 0\n",
            "2019-07-18 12:57:24,503 : INFO : EPOCH 2 - PROGRESS: at 49.15% examples, 307252 words/s, in_qsize 7, out_qsize 0\n",
            "2019-07-18 12:57:25,549 : INFO : EPOCH 2 - PROGRESS: at 51.71% examples, 307264 words/s, in_qsize 5, out_qsize 2\n",
            "2019-07-18 12:57:26,560 : INFO : EPOCH 2 - PROGRESS: at 54.10% examples, 307104 words/s, in_qsize 7, out_qsize 0\n",
            "2019-07-18 12:57:27,605 : INFO : EPOCH 2 - PROGRESS: at 56.60% examples, 307127 words/s, in_qsize 7, out_qsize 0\n",
            "2019-07-18 12:57:28,633 : INFO : EPOCH 2 - PROGRESS: at 59.11% examples, 307667 words/s, in_qsize 7, out_qsize 0\n",
            "2019-07-18 12:57:29,675 : INFO : EPOCH 2 - PROGRESS: at 61.64% examples, 307716 words/s, in_qsize 7, out_qsize 0\n",
            "2019-07-18 12:57:30,737 : INFO : EPOCH 2 - PROGRESS: at 64.17% examples, 307521 words/s, in_qsize 7, out_qsize 0\n",
            "2019-07-18 12:57:31,770 : INFO : EPOCH 2 - PROGRESS: at 66.69% examples, 307686 words/s, in_qsize 7, out_qsize 0\n",
            "2019-07-18 12:57:32,770 : INFO : EPOCH 2 - PROGRESS: at 69.19% examples, 308171 words/s, in_qsize 7, out_qsize 0\n",
            "2019-07-18 12:57:33,774 : INFO : EPOCH 2 - PROGRESS: at 71.65% examples, 308349 words/s, in_qsize 7, out_qsize 0\n",
            "2019-07-18 12:57:34,775 : INFO : EPOCH 2 - PROGRESS: at 74.07% examples, 308308 words/s, in_qsize 7, out_qsize 0\n",
            "2019-07-18 12:57:35,792 : INFO : EPOCH 2 - PROGRESS: at 76.60% examples, 308574 words/s, in_qsize 7, out_qsize 0\n",
            "2019-07-18 12:57:36,796 : INFO : EPOCH 2 - PROGRESS: at 79.06% examples, 308722 words/s, in_qsize 7, out_qsize 0\n",
            "2019-07-18 12:57:37,827 : INFO : EPOCH 2 - PROGRESS: at 81.59% examples, 308821 words/s, in_qsize 7, out_qsize 0\n",
            "2019-07-18 12:57:38,861 : INFO : EPOCH 2 - PROGRESS: at 84.06% examples, 308695 words/s, in_qsize 7, out_qsize 0\n",
            "2019-07-18 12:57:39,862 : INFO : EPOCH 2 - PROGRESS: at 86.53% examples, 308867 words/s, in_qsize 7, out_qsize 0\n",
            "2019-07-18 12:57:40,898 : INFO : EPOCH 2 - PROGRESS: at 88.98% examples, 308724 words/s, in_qsize 7, out_qsize 0\n",
            "2019-07-18 12:57:41,924 : INFO : EPOCH 2 - PROGRESS: at 91.38% examples, 308478 words/s, in_qsize 7, out_qsize 0\n",
            "2019-07-18 12:57:42,933 : INFO : EPOCH 2 - PROGRESS: at 93.86% examples, 308569 words/s, in_qsize 7, out_qsize 0\n",
            "2019-07-18 12:57:43,938 : INFO : EPOCH 2 - PROGRESS: at 96.36% examples, 308678 words/s, in_qsize 6, out_qsize 1\n",
            "2019-07-18 12:57:44,945 : INFO : EPOCH 2 - PROGRESS: at 98.82% examples, 308956 words/s, in_qsize 7, out_qsize 0\n",
            "2019-07-18 12:57:45,343 : INFO : worker thread finished; awaiting finish of 3 more threads\n",
            "2019-07-18 12:57:45,376 : INFO : worker thread finished; awaiting finish of 2 more threads\n",
            "2019-07-18 12:57:45,390 : INFO : worker thread finished; awaiting finish of 1 more threads\n",
            "2019-07-18 12:57:45,402 : INFO : worker thread finished; awaiting finish of 0 more threads\n",
            "2019-07-18 12:57:45,404 : INFO : EPOCH - 2 : training on 17798082 raw words (12749130 effective words) took 41.2s, 309141 effective words/s\n",
            "2019-07-18 12:57:46,460 : INFO : EPOCH 3 - PROGRESS: at 2.45% examples, 301350 words/s, in_qsize 7, out_qsize 0\n",
            "2019-07-18 12:57:47,460 : INFO : EPOCH 3 - PROGRESS: at 4.81% examples, 300808 words/s, in_qsize 6, out_qsize 1\n",
            "2019-07-18 12:57:48,471 : INFO : EPOCH 3 - PROGRESS: at 7.30% examples, 304141 words/s, in_qsize 7, out_qsize 0\n",
            "2019-07-18 12:57:49,489 : INFO : EPOCH 3 - PROGRESS: at 9.75% examples, 303668 words/s, in_qsize 7, out_qsize 0\n",
            "2019-07-18 12:57:50,550 : INFO : EPOCH 3 - PROGRESS: at 12.34% examples, 305045 words/s, in_qsize 6, out_qsize 1\n",
            "2019-07-18 12:57:51,560 : INFO : EPOCH 3 - PROGRESS: at 14.83% examples, 306100 words/s, in_qsize 7, out_qsize 0\n",
            "2019-07-18 12:57:52,591 : INFO : EPOCH 3 - PROGRESS: at 17.35% examples, 306012 words/s, in_qsize 8, out_qsize 1\n",
            "2019-07-18 12:57:53,614 : INFO : EPOCH 3 - PROGRESS: at 19.88% examples, 307027 words/s, in_qsize 6, out_qsize 1\n",
            "2019-07-18 12:57:54,625 : INFO : EPOCH 3 - PROGRESS: at 22.37% examples, 307502 words/s, in_qsize 7, out_qsize 0\n",
            "2019-07-18 12:57:55,633 : INFO : EPOCH 3 - PROGRESS: at 24.88% examples, 308701 words/s, in_qsize 7, out_qsize 0\n",
            "2019-07-18 12:57:56,639 : INFO : EPOCH 3 - PROGRESS: at 27.36% examples, 308978 words/s, in_qsize 8, out_qsize 0\n",
            "2019-07-18 12:57:57,665 : INFO : EPOCH 3 - PROGRESS: at 29.82% examples, 308942 words/s, in_qsize 7, out_qsize 0\n",
            "2019-07-18 12:57:58,665 : INFO : EPOCH 3 - PROGRESS: at 32.29% examples, 308606 words/s, in_qsize 7, out_qsize 0\n",
            "2019-07-18 12:57:59,698 : INFO : EPOCH 3 - PROGRESS: at 34.70% examples, 307812 words/s, in_qsize 7, out_qsize 0\n",
            "2019-07-18 12:58:00,716 : INFO : EPOCH 3 - PROGRESS: at 37.11% examples, 307421 words/s, in_qsize 7, out_qsize 0\n",
            "2019-07-18 12:58:01,755 : INFO : EPOCH 3 - PROGRESS: at 39.59% examples, 307160 words/s, in_qsize 7, out_qsize 0\n",
            "2019-07-18 12:58:02,761 : INFO : EPOCH 3 - PROGRESS: at 41.98% examples, 307061 words/s, in_qsize 7, out_qsize 0\n",
            "2019-07-18 12:58:03,771 : INFO : EPOCH 3 - PROGRESS: at 44.32% examples, 306548 words/s, in_qsize 7, out_qsize 0\n",
            "2019-07-18 12:58:04,806 : INFO : EPOCH 3 - PROGRESS: at 46.83% examples, 306777 words/s, in_qsize 7, out_qsize 0\n",
            "2019-07-18 12:58:05,809 : INFO : EPOCH 3 - PROGRESS: at 49.21% examples, 306796 words/s, in_qsize 7, out_qsize 0\n",
            "2019-07-18 12:58:06,825 : INFO : EPOCH 3 - PROGRESS: at 51.59% examples, 306273 words/s, in_qsize 6, out_qsize 1\n",
            "2019-07-18 12:58:07,850 : INFO : EPOCH 3 - PROGRESS: at 54.05% examples, 306297 words/s, in_qsize 6, out_qsize 1\n",
            "2019-07-18 12:58:08,861 : INFO : EPOCH 3 - PROGRESS: at 56.44% examples, 306184 words/s, in_qsize 7, out_qsize 0\n",
            "2019-07-18 12:58:09,884 : INFO : EPOCH 3 - PROGRESS: at 58.95% examples, 306827 words/s, in_qsize 7, out_qsize 0\n",
            "2019-07-18 12:58:10,893 : INFO : EPOCH 3 - PROGRESS: at 61.36% examples, 306732 words/s, in_qsize 7, out_qsize 0\n",
            "2019-07-18 12:58:11,905 : INFO : EPOCH 3 - PROGRESS: at 63.78% examples, 306613 words/s, in_qsize 7, out_qsize 0\n",
            "2019-07-18 12:58:12,932 : INFO : EPOCH 3 - PROGRESS: at 66.17% examples, 306361 words/s, in_qsize 7, out_qsize 0\n",
            "2019-07-18 12:58:13,943 : INFO : EPOCH 3 - PROGRESS: at 68.66% examples, 306539 words/s, in_qsize 7, out_qsize 0\n",
            "2019-07-18 12:58:14,991 : INFO : EPOCH 3 - PROGRESS: at 71.10% examples, 306318 words/s, in_qsize 7, out_qsize 0\n",
            "2019-07-18 12:58:16,015 : INFO : EPOCH 3 - PROGRESS: at 73.56% examples, 306354 words/s, in_qsize 7, out_qsize 0\n",
            "2019-07-18 12:58:17,048 : INFO : EPOCH 3 - PROGRESS: at 76.05% examples, 306289 words/s, in_qsize 6, out_qsize 1\n",
            "2019-07-18 12:58:18,068 : INFO : EPOCH 3 - PROGRESS: at 78.49% examples, 306366 words/s, in_qsize 8, out_qsize 1\n",
            "2019-07-18 12:58:19,081 : INFO : EPOCH 3 - PROGRESS: at 81.04% examples, 306698 words/s, in_qsize 7, out_qsize 0\n",
            "2019-07-18 12:58:20,097 : INFO : EPOCH 3 - PROGRESS: at 83.56% examples, 306981 words/s, in_qsize 7, out_qsize 0\n",
            "2019-07-18 12:58:21,126 : INFO : EPOCH 3 - PROGRESS: at 86.02% examples, 306960 words/s, in_qsize 7, out_qsize 0\n",
            "2019-07-18 12:58:22,167 : INFO : EPOCH 3 - PROGRESS: at 88.52% examples, 307134 words/s, in_qsize 7, out_qsize 0\n",
            "2019-07-18 12:58:23,178 : INFO : EPOCH 3 - PROGRESS: at 90.98% examples, 307134 words/s, in_qsize 7, out_qsize 0\n",
            "2019-07-18 12:58:24,187 : INFO : EPOCH 3 - PROGRESS: at 93.40% examples, 307066 words/s, in_qsize 7, out_qsize 0\n",
            "2019-07-18 12:58:25,218 : INFO : EPOCH 3 - PROGRESS: at 95.92% examples, 307024 words/s, in_qsize 6, out_qsize 1\n",
            "2019-07-18 12:58:26,223 : INFO : EPOCH 3 - PROGRESS: at 98.34% examples, 307178 words/s, in_qsize 7, out_qsize 0\n",
            "2019-07-18 12:58:26,813 : INFO : worker thread finished; awaiting finish of 3 more threads\n",
            "2019-07-18 12:58:26,845 : INFO : worker thread finished; awaiting finish of 2 more threads\n",
            "2019-07-18 12:58:26,851 : INFO : worker thread finished; awaiting finish of 1 more threads\n",
            "2019-07-18 12:58:26,857 : INFO : worker thread finished; awaiting finish of 0 more threads\n",
            "2019-07-18 12:58:26,858 : INFO : EPOCH - 3 : training on 17798082 raw words (12749159 effective words) took 41.4s, 307642 effective words/s\n",
            "2019-07-18 12:58:27,877 : INFO : EPOCH 4 - PROGRESS: at 2.39% examples, 305849 words/s, in_qsize 7, out_qsize 0\n",
            "2019-07-18 12:58:28,908 : INFO : EPOCH 4 - PROGRESS: at 4.81% examples, 301919 words/s, in_qsize 7, out_qsize 0\n",
            "2019-07-18 12:58:29,933 : INFO : EPOCH 4 - PROGRESS: at 7.42% examples, 308082 words/s, in_qsize 7, out_qsize 0\n",
            "2019-07-18 12:58:30,933 : INFO : EPOCH 4 - PROGRESS: at 9.98% examples, 311430 words/s, in_qsize 8, out_qsize 0\n",
            "2019-07-18 12:58:31,960 : INFO : EPOCH 4 - PROGRESS: at 12.39% examples, 309156 words/s, in_qsize 8, out_qsize 1\n",
            "2019-07-18 12:58:33,003 : INFO : EPOCH 4 - PROGRESS: at 15.01% examples, 310250 words/s, in_qsize 7, out_qsize 0\n",
            "2019-07-18 12:58:34,013 : INFO : EPOCH 4 - PROGRESS: at 17.52% examples, 310453 words/s, in_qsize 7, out_qsize 2\n",
            "2019-07-18 12:58:35,014 : INFO : EPOCH 4 - PROGRESS: at 20.00% examples, 310838 words/s, in_qsize 6, out_qsize 1\n",
            "2019-07-18 12:58:36,032 : INFO : EPOCH 4 - PROGRESS: at 22.59% examples, 312243 words/s, in_qsize 8, out_qsize 0\n",
            "2019-07-18 12:58:37,040 : INFO : EPOCH 4 - PROGRESS: at 25.05% examples, 312218 words/s, in_qsize 7, out_qsize 0\n",
            "2019-07-18 12:58:38,065 : INFO : EPOCH 4 - PROGRESS: at 27.63% examples, 312997 words/s, in_qsize 7, out_qsize 0\n",
            "2019-07-18 12:58:39,094 : INFO : EPOCH 4 - PROGRESS: at 30.04% examples, 311744 words/s, in_qsize 7, out_qsize 0\n",
            "2019-07-18 12:58:40,135 : INFO : EPOCH 4 - PROGRESS: at 32.69% examples, 312040 words/s, in_qsize 7, out_qsize 0\n",
            "2019-07-18 12:58:41,185 : INFO : EPOCH 4 - PROGRESS: at 35.27% examples, 312105 words/s, in_qsize 7, out_qsize 0\n",
            "2019-07-18 12:58:42,204 : INFO : EPOCH 4 - PROGRESS: at 37.73% examples, 311898 words/s, in_qsize 7, out_qsize 0\n",
            "2019-07-18 12:58:43,216 : INFO : EPOCH 4 - PROGRESS: at 40.13% examples, 311405 words/s, in_qsize 7, out_qsize 0\n",
            "2019-07-18 12:58:44,245 : INFO : EPOCH 4 - PROGRESS: at 42.57% examples, 311097 words/s, in_qsize 7, out_qsize 0\n",
            "2019-07-18 12:58:45,252 : INFO : EPOCH 4 - PROGRESS: at 45.06% examples, 311188 words/s, in_qsize 7, out_qsize 0\n",
            "2019-07-18 12:58:46,255 : INFO : EPOCH 4 - PROGRESS: at 47.45% examples, 310919 words/s, in_qsize 7, out_qsize 1\n",
            "2019-07-18 12:58:47,280 : INFO : EPOCH 4 - PROGRESS: at 49.87% examples, 310737 words/s, in_qsize 7, out_qsize 0\n",
            "2019-07-18 12:58:48,302 : INFO : EPOCH 4 - PROGRESS: at 52.37% examples, 310605 words/s, in_qsize 7, out_qsize 0\n",
            "2019-07-18 12:58:49,339 : INFO : EPOCH 4 - PROGRESS: at 54.76% examples, 309935 words/s, in_qsize 6, out_qsize 1\n",
            "2019-07-18 12:58:50,366 : INFO : EPOCH 4 - PROGRESS: at 57.16% examples, 309454 words/s, in_qsize 6, out_qsize 1\n",
            "2019-07-18 12:58:51,376 : INFO : EPOCH 4 - PROGRESS: at 59.55% examples, 309530 words/s, in_qsize 7, out_qsize 0\n",
            "2019-07-18 12:58:52,418 : INFO : EPOCH 4 - PROGRESS: at 62.13% examples, 309774 words/s, in_qsize 6, out_qsize 1\n",
            "2019-07-18 12:58:53,430 : INFO : EPOCH 4 - PROGRESS: at 64.68% examples, 310102 words/s, in_qsize 7, out_qsize 0\n",
            "2019-07-18 12:58:54,457 : INFO : EPOCH 4 - PROGRESS: at 67.12% examples, 309972 words/s, in_qsize 8, out_qsize 0\n",
            "2019-07-18 12:58:55,480 : INFO : EPOCH 4 - PROGRESS: at 69.65% examples, 310145 words/s, in_qsize 7, out_qsize 0\n",
            "2019-07-18 12:58:56,489 : INFO : EPOCH 4 - PROGRESS: at 72.09% examples, 310199 words/s, in_qsize 7, out_qsize 0\n",
            "2019-07-18 12:58:57,493 : INFO : EPOCH 4 - PROGRESS: at 74.57% examples, 310327 words/s, in_qsize 6, out_qsize 1\n",
            "2019-07-18 12:58:58,500 : INFO : EPOCH 4 - PROGRESS: at 76.98% examples, 310154 words/s, in_qsize 6, out_qsize 1\n",
            "2019-07-18 12:58:59,507 : INFO : EPOCH 4 - PROGRESS: at 79.40% examples, 310015 words/s, in_qsize 7, out_qsize 0\n",
            "2019-07-18 12:59:00,525 : INFO : EPOCH 4 - PROGRESS: at 81.87% examples, 309972 words/s, in_qsize 7, out_qsize 0\n",
            "2019-07-18 12:59:01,529 : INFO : EPOCH 4 - PROGRESS: at 84.35% examples, 310088 words/s, in_qsize 7, out_qsize 0\n",
            "2019-07-18 12:59:02,544 : INFO : EPOCH 4 - PROGRESS: at 86.86% examples, 310281 words/s, in_qsize 7, out_qsize 0\n",
            "2019-07-18 12:59:03,571 : INFO : EPOCH 4 - PROGRESS: at 89.37% examples, 310365 words/s, in_qsize 7, out_qsize 0\n",
            "2019-07-18 12:59:04,574 : INFO : EPOCH 4 - PROGRESS: at 91.82% examples, 310473 words/s, in_qsize 7, out_qsize 0\n",
            "2019-07-18 12:59:05,580 : INFO : EPOCH 4 - PROGRESS: at 94.32% examples, 310534 words/s, in_qsize 6, out_qsize 1\n",
            "2019-07-18 12:59:06,585 : INFO : EPOCH 4 - PROGRESS: at 96.86% examples, 310782 words/s, in_qsize 7, out_qsize 0\n",
            "2019-07-18 12:59:07,609 : INFO : EPOCH 4 - PROGRESS: at 99.16% examples, 310356 words/s, in_qsize 6, out_qsize 1\n",
            "2019-07-18 12:59:07,824 : INFO : worker thread finished; awaiting finish of 3 more threads\n",
            "2019-07-18 12:59:07,872 : INFO : worker thread finished; awaiting finish of 2 more threads\n",
            "2019-07-18 12:59:07,896 : INFO : worker thread finished; awaiting finish of 1 more threads\n",
            "2019-07-18 12:59:07,904 : INFO : worker thread finished; awaiting finish of 0 more threads\n",
            "2019-07-18 12:59:07,906 : INFO : EPOCH - 4 : training on 17798082 raw words (12749853 effective words) took 41.0s, 310709 effective words/s\n",
            "2019-07-18 12:59:08,939 : INFO : EPOCH 5 - PROGRESS: at 2.39% examples, 301057 words/s, in_qsize 7, out_qsize 0\n",
            "2019-07-18 12:59:10,003 : INFO : EPOCH 5 - PROGRESS: at 4.92% examples, 301567 words/s, in_qsize 6, out_qsize 1\n",
            "2019-07-18 12:59:11,010 : INFO : EPOCH 5 - PROGRESS: at 7.42% examples, 304990 words/s, in_qsize 7, out_qsize 0\n",
            "2019-07-18 12:59:12,018 : INFO : EPOCH 5 - PROGRESS: at 9.98% examples, 308508 words/s, in_qsize 7, out_qsize 0\n",
            "2019-07-18 12:59:13,022 : INFO : EPOCH 5 - PROGRESS: at 12.45% examples, 309518 words/s, in_qsize 7, out_qsize 0\n",
            "2019-07-18 12:59:14,037 : INFO : EPOCH 5 - PROGRESS: at 14.95% examples, 309689 words/s, in_qsize 7, out_qsize 0\n",
            "2019-07-18 12:59:15,042 : INFO : EPOCH 5 - PROGRESS: at 17.59% examples, 312154 words/s, in_qsize 7, out_qsize 0\n",
            "2019-07-18 12:59:16,062 : INFO : EPOCH 5 - PROGRESS: at 20.11% examples, 312491 words/s, in_qsize 7, out_qsize 0\n",
            "2019-07-18 12:59:17,102 : INFO : EPOCH 5 - PROGRESS: at 22.59% examples, 311436 words/s, in_qsize 7, out_qsize 0\n",
            "2019-07-18 12:59:18,140 : INFO : EPOCH 5 - PROGRESS: at 25.16% examples, 312011 words/s, in_qsize 7, out_qsize 0\n",
            "2019-07-18 12:59:19,160 : INFO : EPOCH 5 - PROGRESS: at 27.69% examples, 312276 words/s, in_qsize 7, out_qsize 0\n",
            "2019-07-18 12:59:20,166 : INFO : EPOCH 5 - PROGRESS: at 30.15% examples, 312268 words/s, in_qsize 5, out_qsize 2\n",
            "2019-07-18 12:59:21,196 : INFO : EPOCH 5 - PROGRESS: at 32.75% examples, 312263 words/s, in_qsize 6, out_qsize 1\n",
            "2019-07-18 12:59:22,207 : INFO : EPOCH 5 - PROGRESS: at 35.21% examples, 312143 words/s, in_qsize 6, out_qsize 1\n",
            "2019-07-18 12:59:23,243 : INFO : EPOCH 5 - PROGRESS: at 37.79% examples, 312537 words/s, in_qsize 7, out_qsize 0\n",
            "2019-07-18 12:59:24,255 : INFO : EPOCH 5 - PROGRESS: at 40.30% examples, 312886 words/s, in_qsize 6, out_qsize 1\n",
            "2019-07-18 12:59:25,278 : INFO : EPOCH 5 - PROGRESS: at 42.86% examples, 313419 words/s, in_qsize 7, out_qsize 0\n",
            "2019-07-18 12:59:26,313 : INFO : EPOCH 5 - PROGRESS: at 45.35% examples, 312884 words/s, in_qsize 6, out_qsize 1\n",
            "2019-07-18 12:59:27,380 : INFO : EPOCH 5 - PROGRESS: at 47.95% examples, 312997 words/s, in_qsize 7, out_qsize 0\n",
            "2019-07-18 12:59:28,380 : INFO : EPOCH 5 - PROGRESS: at 50.51% examples, 313799 words/s, in_qsize 7, out_qsize 0\n",
            "2019-07-18 12:59:29,432 : INFO : EPOCH 5 - PROGRESS: at 53.10% examples, 313741 words/s, in_qsize 6, out_qsize 1\n",
            "2019-07-18 12:59:30,460 : INFO : EPOCH 5 - PROGRESS: at 55.66% examples, 314055 words/s, in_qsize 7, out_qsize 1\n",
            "2019-07-18 12:59:31,473 : INFO : EPOCH 5 - PROGRESS: at 58.07% examples, 313871 words/s, in_qsize 7, out_qsize 0\n",
            "2019-07-18 12:59:32,486 : INFO : EPOCH 5 - PROGRESS: at 60.58% examples, 314025 words/s, in_qsize 7, out_qsize 0\n",
            "2019-07-18 12:59:33,496 : INFO : EPOCH 5 - PROGRESS: at 63.10% examples, 314187 words/s, in_qsize 7, out_qsize 0\n",
            "2019-07-18 12:59:34,502 : INFO : EPOCH 5 - PROGRESS: at 65.63% examples, 314410 words/s, in_qsize 7, out_qsize 0\n",
            "2019-07-18 12:59:35,514 : INFO : EPOCH 5 - PROGRESS: at 68.15% examples, 314562 words/s, in_qsize 7, out_qsize 0\n",
            "2019-07-18 12:59:36,523 : INFO : EPOCH 5 - PROGRESS: at 70.71% examples, 314974 words/s, in_qsize 7, out_qsize 0\n",
            "2019-07-18 12:59:37,575 : INFO : EPOCH 5 - PROGRESS: at 73.34% examples, 315137 words/s, in_qsize 7, out_qsize 0\n",
            "2019-07-18 12:59:38,576 : INFO : EPOCH 5 - PROGRESS: at 75.94% examples, 315583 words/s, in_qsize 7, out_qsize 0\n",
            "2019-07-18 12:59:39,589 : INFO : EPOCH 5 - PROGRESS: at 78.43% examples, 315654 words/s, in_qsize 7, out_qsize 0\n",
            "2019-07-18 12:59:40,605 : INFO : EPOCH 5 - PROGRESS: at 81.04% examples, 315906 words/s, in_qsize 7, out_qsize 0\n",
            "2019-07-18 12:59:41,626 : INFO : EPOCH 5 - PROGRESS: at 83.39% examples, 315318 words/s, in_qsize 8, out_qsize 0\n",
            "2019-07-18 12:59:42,656 : INFO : EPOCH 5 - PROGRESS: at 85.96% examples, 315373 words/s, in_qsize 7, out_qsize 0\n",
            "2019-07-18 12:59:43,685 : INFO : EPOCH 5 - PROGRESS: at 88.52% examples, 315492 words/s, in_qsize 7, out_qsize 0\n",
            "2019-07-18 12:59:44,693 : INFO : EPOCH 5 - PROGRESS: at 90.98% examples, 315402 words/s, in_qsize 7, out_qsize 0\n",
            "2019-07-18 12:59:45,733 : INFO : EPOCH 5 - PROGRESS: at 93.63% examples, 315617 words/s, in_qsize 7, out_qsize 0\n",
            "2019-07-18 12:59:46,743 : INFO : EPOCH 5 - PROGRESS: at 96.19% examples, 315696 words/s, in_qsize 7, out_qsize 0\n",
            "2019-07-18 12:59:47,771 : INFO : EPOCH 5 - PROGRESS: at 98.61% examples, 315576 words/s, in_qsize 8, out_qsize 1\n",
            "2019-07-18 12:59:48,255 : INFO : worker thread finished; awaiting finish of 3 more threads\n",
            "2019-07-18 12:59:48,263 : INFO : worker thread finished; awaiting finish of 2 more threads\n",
            "2019-07-18 12:59:48,272 : INFO : worker thread finished; awaiting finish of 1 more threads\n",
            "2019-07-18 12:59:48,279 : INFO : worker thread finished; awaiting finish of 0 more threads\n",
            "2019-07-18 12:59:48,281 : INFO : EPOCH - 5 : training on 17798082 raw words (12750226 effective words) took 40.4s, 315888 effective words/s\n",
            "2019-07-18 12:59:48,282 : INFO : training on a 88990410 raw words (63748423 effective words) took 205.4s, 310411 effective words/s\n",
            "2019-07-18 12:59:48,283 : INFO : precomputing L2-norms of word weight vectors\n",
            "2019-07-18 12:59:48,433 : INFO : saving Word2Vec object under 300features_40minwords_10context, separately None\n",
            "2019-07-18 12:59:48,434 : INFO : not storing attribute vectors_norm\n",
            "2019-07-18 12:59:48,436 : INFO : not storing attribute cum_table\n",
            "/usr/local/lib/python3.6/dist-packages/smart_open/smart_open_lib.py:398: UserWarning: This function is deprecated, use smart_open.open instead. See the migration notes for details: https://github.com/RaRe-Technologies/smart_open/blob/master/README.rst#migrating-to-the-new-open-function\n",
            "  'See the migration notes for details: %s' % _MIGRATION_NOTES_URL\n",
            "2019-07-18 12:59:49,009 : INFO : saved 300features_40minwords_10context\n"
          ],
          "name": "stderr"
        }
      ]
    },
    {
      "cell_type": "code",
      "metadata": {
        "id": "R8ksz1CQ5JLO",
        "colab_type": "code",
        "outputId": "c576ce75-4407-4c89-8b53-57ba4d1d4ebc",
        "colab": {
          "base_uri": "https://localhost:8080/",
          "height": 316
        }
      },
      "source": [
        "upload = files.download(model_name)"
      ],
      "execution_count": 0,
      "outputs": [
        {
          "output_type": "error",
          "ename": "KeyboardInterrupt",
          "evalue": "ignored",
          "traceback": [
            "\u001b[0;31m---------------------------------------------------------------------------\u001b[0m",
            "\u001b[0;31mKeyboardInterrupt\u001b[0m                         Traceback (most recent call last)",
            "\u001b[0;32m<ipython-input-66-c47095961b56>\u001b[0m in \u001b[0;36m<module>\u001b[0;34m()\u001b[0m\n\u001b[0;32m----> 1\u001b[0;31m \u001b[0mupload\u001b[0m \u001b[0;34m=\u001b[0m \u001b[0mfiles\u001b[0m\u001b[0;34m.\u001b[0m\u001b[0mdownload\u001b[0m\u001b[0;34m(\u001b[0m\u001b[0mmodel_name\u001b[0m\u001b[0;34m)\u001b[0m\u001b[0;34m\u001b[0m\u001b[0;34m\u001b[0m\u001b[0m\n\u001b[0m",
            "\u001b[0;32m/usr/local/lib/python3.6/dist-packages/google/colab/files.py\u001b[0m in \u001b[0;36mdownload\u001b[0;34m(filename)\u001b[0m\n\u001b[1;32m    176\u001b[0m       \u001b[0;34m'port'\u001b[0m\u001b[0;34m:\u001b[0m \u001b[0mport\u001b[0m\u001b[0;34m,\u001b[0m\u001b[0;34m\u001b[0m\u001b[0;34m\u001b[0m\u001b[0m\n\u001b[1;32m    177\u001b[0m       \u001b[0;34m'path'\u001b[0m\u001b[0;34m:\u001b[0m \u001b[0m_os\u001b[0m\u001b[0;34m.\u001b[0m\u001b[0mpath\u001b[0m\u001b[0;34m.\u001b[0m\u001b[0mabspath\u001b[0m\u001b[0;34m(\u001b[0m\u001b[0mfilename\u001b[0m\u001b[0;34m)\u001b[0m\u001b[0;34m,\u001b[0m\u001b[0;34m\u001b[0m\u001b[0;34m\u001b[0m\u001b[0m\n\u001b[0;32m--> 178\u001b[0;31m       \u001b[0;34m'name'\u001b[0m\u001b[0;34m:\u001b[0m \u001b[0m_os\u001b[0m\u001b[0;34m.\u001b[0m\u001b[0mpath\u001b[0m\u001b[0;34m.\u001b[0m\u001b[0mbasename\u001b[0m\u001b[0;34m(\u001b[0m\u001b[0mfilename\u001b[0m\u001b[0;34m)\u001b[0m\u001b[0;34m,\u001b[0m\u001b[0;34m\u001b[0m\u001b[0;34m\u001b[0m\u001b[0m\n\u001b[0m\u001b[1;32m    179\u001b[0m   })\n",
            "\u001b[0;32m/usr/local/lib/python3.6/dist-packages/google/colab/output/_js.py\u001b[0m in \u001b[0;36meval_js\u001b[0;34m(script, ignore_result)\u001b[0m\n\u001b[1;32m     37\u001b[0m   \u001b[0;32mif\u001b[0m \u001b[0mignore_result\u001b[0m\u001b[0;34m:\u001b[0m\u001b[0;34m\u001b[0m\u001b[0;34m\u001b[0m\u001b[0m\n\u001b[1;32m     38\u001b[0m     \u001b[0;32mreturn\u001b[0m\u001b[0;34m\u001b[0m\u001b[0;34m\u001b[0m\u001b[0m\n\u001b[0;32m---> 39\u001b[0;31m   \u001b[0;32mreturn\u001b[0m \u001b[0m_message\u001b[0m\u001b[0;34m.\u001b[0m\u001b[0mread_reply_from_input\u001b[0m\u001b[0;34m(\u001b[0m\u001b[0mrequest_id\u001b[0m\u001b[0;34m)\u001b[0m\u001b[0;34m\u001b[0m\u001b[0;34m\u001b[0m\u001b[0m\n\u001b[0m\u001b[1;32m     40\u001b[0m \u001b[0;34m\u001b[0m\u001b[0m\n\u001b[1;32m     41\u001b[0m \u001b[0;34m\u001b[0m\u001b[0m\n",
            "\u001b[0;32m/usr/local/lib/python3.6/dist-packages/google/colab/_message.py\u001b[0m in \u001b[0;36mread_reply_from_input\u001b[0;34m(message_id, timeout_sec)\u001b[0m\n\u001b[1;32m     99\u001b[0m     \u001b[0mreply\u001b[0m \u001b[0;34m=\u001b[0m \u001b[0m_read_next_input_message\u001b[0m\u001b[0;34m(\u001b[0m\u001b[0;34m)\u001b[0m\u001b[0;34m\u001b[0m\u001b[0;34m\u001b[0m\u001b[0m\n\u001b[1;32m    100\u001b[0m     \u001b[0;32mif\u001b[0m \u001b[0mreply\u001b[0m \u001b[0;34m==\u001b[0m \u001b[0m_NOT_READY\u001b[0m \u001b[0;32mor\u001b[0m \u001b[0;32mnot\u001b[0m \u001b[0misinstance\u001b[0m\u001b[0;34m(\u001b[0m\u001b[0mreply\u001b[0m\u001b[0;34m,\u001b[0m \u001b[0mdict\u001b[0m\u001b[0;34m)\u001b[0m\u001b[0;34m:\u001b[0m\u001b[0;34m\u001b[0m\u001b[0;34m\u001b[0m\u001b[0m\n\u001b[0;32m--> 101\u001b[0;31m       \u001b[0mtime\u001b[0m\u001b[0;34m.\u001b[0m\u001b[0msleep\u001b[0m\u001b[0;34m(\u001b[0m\u001b[0;36m0.025\u001b[0m\u001b[0;34m)\u001b[0m\u001b[0;34m\u001b[0m\u001b[0;34m\u001b[0m\u001b[0m\n\u001b[0m\u001b[1;32m    102\u001b[0m       \u001b[0;32mcontinue\u001b[0m\u001b[0;34m\u001b[0m\u001b[0;34m\u001b[0m\u001b[0m\n\u001b[1;32m    103\u001b[0m     if (reply.get('type') == 'colab_reply' and\n",
            "\u001b[0;31mKeyboardInterrupt\u001b[0m: "
          ]
        }
      ]
    },
    {
      "cell_type": "code",
      "metadata": {
        "id": "V89A5MoHEA86",
        "colab_type": "code",
        "outputId": "ef41c2e1-b0e1-4503-c7cf-7ca167411e38",
        "colab": {
          "base_uri": "https://localhost:8080/",
          "height": 161
        }
      },
      "source": [
        "model.doesnt_match(\"man woman child kitchen\".split())"
      ],
      "execution_count": 14,
      "outputs": [
        {
          "output_type": "stream",
          "text": [
            "/usr/local/lib/python3.6/dist-packages/ipykernel_launcher.py:1: DeprecationWarning: Call to deprecated `doesnt_match` (Method will be removed in 4.0.0, use self.wv.doesnt_match() instead).\n",
            "  \"\"\"Entry point for launching an IPython kernel.\n",
            "/usr/local/lib/python3.6/dist-packages/gensim/models/keyedvectors.py:895: FutureWarning: arrays to stack must be passed as a \"sequence\" type such as list or tuple. Support for non-sequence iterables such as generators is deprecated as of NumPy 1.16 and will raise an error in the future.\n",
            "  vectors = vstack(self.word_vec(word, use_norm=True) for word in used_words).astype(REAL)\n",
            "/usr/local/lib/python3.6/dist-packages/gensim/matutils.py:737: FutureWarning: Conversion of the second argument of issubdtype from `int` to `np.signedinteger` is deprecated. In future, it will be treated as `np.int64 == np.dtype(int).type`.\n",
            "  if np.issubdtype(vec.dtype, np.int):\n"
          ],
          "name": "stderr"
        },
        {
          "output_type": "execute_result",
          "data": {
            "text/plain": [
              "'kitchen'"
            ]
          },
          "metadata": {
            "tags": []
          },
          "execution_count": 14
        }
      ]
    },
    {
      "cell_type": "code",
      "metadata": {
        "id": "E2onGjVNEwF9",
        "colab_type": "code",
        "outputId": "8fbb3ff0-f48b-45c9-db8f-0577e05bccf2",
        "colab": {
          "base_uri": "https://localhost:8080/",
          "height": 161
        }
      },
      "source": [
        "model.doesnt_match(\"france england germany berlin\".split())"
      ],
      "execution_count": 15,
      "outputs": [
        {
          "output_type": "stream",
          "text": [
            "/usr/local/lib/python3.6/dist-packages/ipykernel_launcher.py:1: DeprecationWarning: Call to deprecated `doesnt_match` (Method will be removed in 4.0.0, use self.wv.doesnt_match() instead).\n",
            "  \"\"\"Entry point for launching an IPython kernel.\n",
            "/usr/local/lib/python3.6/dist-packages/gensim/models/keyedvectors.py:895: FutureWarning: arrays to stack must be passed as a \"sequence\" type such as list or tuple. Support for non-sequence iterables such as generators is deprecated as of NumPy 1.16 and will raise an error in the future.\n",
            "  vectors = vstack(self.word_vec(word, use_norm=True) for word in used_words).astype(REAL)\n",
            "/usr/local/lib/python3.6/dist-packages/gensim/matutils.py:737: FutureWarning: Conversion of the second argument of issubdtype from `int` to `np.signedinteger` is deprecated. In future, it will be treated as `np.int64 == np.dtype(int).type`.\n",
            "  if np.issubdtype(vec.dtype, np.int):\n"
          ],
          "name": "stderr"
        },
        {
          "output_type": "execute_result",
          "data": {
            "text/plain": [
              "'berlin'"
            ]
          },
          "metadata": {
            "tags": []
          },
          "execution_count": 15
        }
      ]
    },
    {
      "cell_type": "code",
      "metadata": {
        "id": "xPnh1-01Eye2",
        "colab_type": "code",
        "colab": {}
      },
      "source": [
        "import warnings\n",
        "warnings.filterwarnings('ignore')"
      ],
      "execution_count": 0,
      "outputs": []
    },
    {
      "cell_type": "code",
      "metadata": {
        "id": "qm0mH7VuE5KK",
        "colab_type": "code",
        "outputId": "edc8f2e9-fcbc-4e86-effd-8be1f3526f96",
        "colab": {
          "base_uri": "https://localhost:8080/",
          "height": 34
        }
      },
      "source": [
        "model.doesnt_match(\"paris berlin london austria\".split())"
      ],
      "execution_count": 17,
      "outputs": [
        {
          "output_type": "execute_result",
          "data": {
            "text/plain": [
              "'austria'"
            ]
          },
          "metadata": {
            "tags": []
          },
          "execution_count": 17
        }
      ]
    },
    {
      "cell_type": "code",
      "metadata": {
        "id": "hU1XMaYSFCEg",
        "colab_type": "code",
        "outputId": "8ec730ca-b333-4aba-cee4-8509766de8ba",
        "colab": {
          "base_uri": "https://localhost:8080/",
          "height": 194
        }
      },
      "source": [
        "model.most_similar(\"man\")"
      ],
      "execution_count": 18,
      "outputs": [
        {
          "output_type": "execute_result",
          "data": {
            "text/plain": [
              "[('woman', 0.6315004825592041),\n",
              " ('lady', 0.5923056602478027),\n",
              " ('lad', 0.5679600238800049),\n",
              " ('millionaire', 0.5272843241691589),\n",
              " ('farmer', 0.5254068374633789),\n",
              " ('men', 0.5238955616950989),\n",
              " ('guy', 0.5229156613349915),\n",
              " ('monk', 0.519939661026001),\n",
              " ('soldier', 0.5136591792106628),\n",
              " ('person', 0.5123767256736755)]"
            ]
          },
          "metadata": {
            "tags": []
          },
          "execution_count": 18
        }
      ]
    },
    {
      "cell_type": "code",
      "metadata": {
        "id": "MneLiPb8FDtg",
        "colab_type": "code",
        "outputId": "dc4ea3d3-13a3-4778-9992-dd330cf0b971",
        "colab": {
          "base_uri": "https://localhost:8080/",
          "height": 194
        }
      },
      "source": [
        "model.most_similar(\"queen\")"
      ],
      "execution_count": 19,
      "outputs": [
        {
          "output_type": "execute_result",
          "data": {
            "text/plain": [
              "[('princess', 0.664714515209198),\n",
              " ('victoria', 0.620487630367279),\n",
              " ('bride', 0.6029039025306702),\n",
              " ('belle', 0.5976051688194275),\n",
              " ('mistress', 0.5760812759399414),\n",
              " ('matriarch', 0.5749611258506775),\n",
              " ('regina', 0.5722713470458984),\n",
              " ('goddess', 0.5695858597755432),\n",
              " ('mary', 0.5658347010612488),\n",
              " ('eva', 0.5638195276260376)]"
            ]
          },
          "metadata": {
            "tags": []
          },
          "execution_count": 19
        }
      ]
    },
    {
      "cell_type": "code",
      "metadata": {
        "id": "vDLvLU6ZFLl4",
        "colab_type": "code",
        "outputId": "ad9d7b5d-4fad-4520-d7da-630635e1f5bd",
        "colab": {
          "base_uri": "https://localhost:8080/",
          "height": 194
        }
      },
      "source": [
        "model.most_similar(\"awful\")"
      ],
      "execution_count": 0,
      "outputs": [
        {
          "output_type": "execute_result",
          "data": {
            "text/plain": [
              "[('terrible', 0.7623046040534973),\n",
              " ('atrocious', 0.7368501424789429),\n",
              " ('horrible', 0.7337960004806519),\n",
              " ('abysmal', 0.721423327922821),\n",
              " ('dreadful', 0.7122504711151123),\n",
              " ('horrendous', 0.710689902305603),\n",
              " ('horrid', 0.6825776100158691),\n",
              " ('appalling', 0.6761379837989807),\n",
              " ('amateurish', 0.6340696811676025),\n",
              " ('lousy', 0.6154699921607971)]"
            ]
          },
          "metadata": {
            "tags": []
          },
          "execution_count": 73
        }
      ]
    },
    {
      "cell_type": "code",
      "metadata": {
        "id": "rDzMaHjpFSBm",
        "colab_type": "code",
        "outputId": "1f34c5c3-21e4-49c9-c806-595583df8d78",
        "colab": {
          "base_uri": "https://localhost:8080/",
          "height": 1000
        }
      },
      "source": [
        "model[\"flower\"]"
      ],
      "execution_count": 0,
      "outputs": [
        {
          "output_type": "execute_result",
          "data": {
            "text/plain": [
              "array([ 3.85456420e-02, -1.14445211e-02, -2.35223752e-02,  2.67233662e-02,\n",
              "        7.46695371e-03, -8.95465687e-02, -5.14674932e-03,  5.23242764e-02,\n",
              "        4.32693847e-02,  2.30202116e-02,  7.75928125e-02, -3.13363969e-02,\n",
              "        6.35997429e-02, -1.67516936e-02, -6.67837448e-03, -8.27001259e-02,\n",
              "        9.18907374e-02, -7.14611039e-02,  4.70008105e-02, -7.65618868e-03,\n",
              "       -4.50852094e-03,  2.58687008e-02,  2.34368555e-02,  2.54384484e-02,\n",
              "        5.47079965e-02, -2.37053093e-02, -2.61992421e-02, -9.71635208e-02,\n",
              "       -6.64924011e-02, -1.67393982e-02, -7.33891129e-02, -2.75098113e-03,\n",
              "       -9.91160497e-02,  1.46651501e-02, -6.85635433e-02,  5.34661636e-02,\n",
              "       -7.07636774e-02,  1.07741371e-01, -3.78822088e-02,  8.72443318e-02,\n",
              "        3.62220742e-02,  2.25024130e-02,  6.91870600e-02,  2.74810046e-02,\n",
              "        8.60247314e-02, -5.63533651e-03,  1.19310915e-01, -7.36588016e-02,\n",
              "       -4.36340384e-02, -3.52767967e-02,  4.49224412e-02,  1.05292588e-01,\n",
              "       -7.19942898e-02, -3.73623371e-02,  1.04325786e-01, -3.08458898e-02,\n",
              "       -1.35529071e-01,  7.83474836e-03, -3.88819240e-02, -3.00226063e-02,\n",
              "        2.61155125e-02,  4.58589084e-02,  2.35867500e-02,  6.76789582e-02,\n",
              "        6.64403439e-02,  2.95173246e-02, -7.69575546e-03, -1.84193794e-02,\n",
              "        4.30478640e-02, -7.74218738e-02,  2.09895317e-02, -1.56712774e-02,\n",
              "       -3.59374620e-02, -7.34470561e-02, -6.72653466e-02,  5.01031289e-03,\n",
              "        4.33878377e-02, -2.57655140e-02,  1.15063414e-02,  6.13887906e-02,\n",
              "       -1.48482695e-05, -7.90966153e-02, -2.51543559e-02,  1.33068234e-01,\n",
              "        8.03705901e-02,  5.60228564e-02,  7.53009319e-02, -6.89562690e-03,\n",
              "       -5.40934317e-02,  9.66948736e-03,  2.07651630e-02,  1.00361414e-01,\n",
              "        4.56826761e-02,  4.22389209e-02,  2.08695475e-02,  5.51280275e-04,\n",
              "       -4.62460406e-02,  1.56920180e-02,  1.60408206e-02, -4.00870256e-02,\n",
              "        9.55527872e-02,  6.62905723e-02, -7.84877837e-02,  9.94213447e-02,\n",
              "       -1.09563740e-02, -1.74699333e-02, -3.29013169e-02, -7.49091357e-02,\n",
              "        2.16100439e-02,  6.02645725e-02,  1.07799983e-02, -7.00035840e-02,\n",
              "        9.35886055e-02,  1.42748147e-01,  2.61273496e-02, -2.02644281e-02,\n",
              "        2.35112291e-02,  7.38212243e-02,  2.29500290e-02,  8.96503329e-02,\n",
              "       -1.42963333e-02, -6.44000918e-02, -5.04757687e-02, -1.32842744e-02,\n",
              "       -1.15520276e-01, -5.71279263e-04, -4.07682471e-02,  3.61419432e-02,\n",
              "       -2.50948034e-02,  4.38735820e-02, -4.31952961e-02, -3.29031679e-03,\n",
              "        1.00453822e-02, -1.41109014e-03,  1.05431192e-02,  3.94825824e-02,\n",
              "        6.53481716e-03, -4.81881723e-02,  4.26950008e-02,  1.04516577e-02,\n",
              "        2.13351734e-02, -5.17118722e-02,  1.96291972e-02, -4.85196002e-02,\n",
              "        7.55541325e-02, -1.71773285e-02,  5.55550195e-02,  4.73637767e-02,\n",
              "       -3.87565675e-03,  1.11300603e-03, -2.39184732e-03,  9.13475677e-02,\n",
              "       -8.05738010e-03,  2.36608163e-02,  2.41708308e-02, -9.79203358e-02,\n",
              "        4.59787920e-02, -7.63559788e-02, -7.22640529e-02, -5.80361374e-02,\n",
              "       -7.39027485e-02, -5.09678982e-02,  8.78472719e-03,  1.69819668e-02,\n",
              "       -8.32301844e-03,  9.73678529e-02,  1.21983640e-01, -6.54716184e-03,\n",
              "        2.98434533e-02, -1.25232741e-01, -2.38224427e-04, -1.27653554e-01,\n",
              "       -1.25033231e-02, -3.05985473e-02,  6.36326298e-02,  1.01000734e-01,\n",
              "       -6.22823499e-02,  1.58948675e-02, -5.12539037e-02,  5.78926504e-03,\n",
              "        5.68505935e-02,  1.36769060e-02, -2.14517321e-02,  5.49669750e-02,\n",
              "       -1.44402357e-02, -7.84094557e-02, -1.34033766e-02,  9.06904042e-02,\n",
              "       -5.46260551e-02, -5.42955883e-02, -1.59906931e-02, -3.31723727e-02,\n",
              "       -1.29360661e-01,  6.38278425e-02, -8.83948877e-02, -1.13396281e-02,\n",
              "        1.99436881e-02, -6.79702833e-02,  9.92673039e-02,  6.43268675e-02,\n",
              "        3.81739512e-02, -1.08279018e-02, -3.80139872e-02, -3.08041903e-03,\n",
              "        1.98140573e-02,  7.61322379e-02,  5.30841798e-02, -9.93708381e-04,\n",
              "       -4.16772775e-02, -4.92598221e-04,  5.83195724e-02, -5.49844764e-02,\n",
              "       -6.35929732e-03,  2.35566515e-02,  6.87557161e-02, -2.84358449e-02,\n",
              "        9.73737761e-02,  4.70985658e-02,  5.42162657e-02,  4.65177931e-02,\n",
              "        2.16258354e-02, -9.80264135e-03,  7.85338599e-03,  9.10192728e-02,\n",
              "        4.35647964e-02, -1.79290995e-02,  1.07491702e-01, -1.00354381e-01,\n",
              "        8.20697695e-02, -4.60203482e-05,  4.07076105e-02, -5.57721257e-02,\n",
              "       -6.21818416e-02, -5.66567220e-02, -5.78419045e-02, -9.56492592e-03,\n",
              "        4.83170487e-02,  1.06369339e-01, -9.96098295e-03,  5.69168106e-02,\n",
              "        2.88502239e-02, -7.44363219e-02, -1.00274934e-02, -3.56816053e-02,\n",
              "       -1.04732819e-01,  7.59956315e-02,  1.52436033e-01,  6.35192078e-03,\n",
              "        6.24853335e-02, -1.21624209e-01,  1.27660325e-02,  7.06120953e-02,\n",
              "       -9.03474167e-02,  4.30118851e-02,  4.96145561e-02, -1.01578079e-01,\n",
              "        2.33468171e-02, -1.85858477e-02, -4.22240458e-02,  5.94736822e-02,\n",
              "       -6.77235499e-02,  1.12296969e-01, -1.09071463e-01, -1.29173240e-02,\n",
              "       -4.95411493e-02,  7.66542926e-02, -2.98244110e-03, -5.42744771e-02,\n",
              "       -8.69050100e-02,  1.38399482e-01,  8.89169239e-03,  3.31044085e-02,\n",
              "       -4.39797565e-02, -1.06571928e-01,  3.44881453e-02, -2.45181378e-02,\n",
              "        2.29428685e-03,  9.95004456e-03,  1.62179917e-02, -4.29636501e-02,\n",
              "        4.98288907e-02,  4.56952043e-02, -5.12072816e-02, -9.06913653e-02,\n",
              "       -4.35843095e-02,  5.60594350e-02, -1.33875990e-02, -1.58183724e-02,\n",
              "        1.06150499e-02, -6.18737675e-02, -4.32345644e-02, -1.78711973e-02,\n",
              "       -7.00416192e-02, -4.04640399e-02, -7.23219067e-02, -9.69711784e-03,\n",
              "        1.24900835e-02, -3.71134058e-02, -2.37754639e-02, -7.01688081e-02],\n",
              "      dtype=float32)"
            ]
          },
          "metadata": {
            "tags": []
          },
          "execution_count": 74
        }
      ]
    },
    {
      "cell_type": "code",
      "metadata": {
        "id": "zH6VXUC2uS6R",
        "colab_type": "code",
        "colab": {}
      },
      "source": [
        ""
      ],
      "execution_count": 0,
      "outputs": []
    },
    {
      "cell_type": "code",
      "metadata": {
        "id": "Wbk06fnwQkm9",
        "colab_type": "code",
        "colab": {}
      },
      "source": [
        "import numpy as np\n",
        "\n",
        "def makeFeatureVec(words, model, num_features):\n",
        "    # Function to average all of the word vectors in a given\n",
        "    # paragraph\n",
        "    #\n",
        "    # Pre-initialize an empty numpy array (for speed)\n",
        "    featureVec = np.zeros((num_features,),dtype=\"float32\")\n",
        "    #\n",
        "    nwords = 0.\n",
        "    # \n",
        "    # Index2word is a list that contains the names of the words in \n",
        "    # the model's vocabulary. Convert it to a set, for speed \n",
        "    index2word_set = set(model.wv.vocab)\n",
        "    #\n",
        "    # Loop over each word in the review and, if it is in the model's\n",
        "    # vocaublary, add its feature vector to the total\n",
        "    for word in words:\n",
        "        if word in index2word_set: \n",
        "            nwords = nwords + 1.\n",
        "            featureVec = np.add(featureVec,model[word])\n",
        "    # \n",
        "    # Divide the result by the number of words to get the average\n",
        "    featureVec = np.divide(featureVec,nwords)\n",
        "    return featureVec\n",
        "\n",
        "\n",
        "def getAvgFeatureVecs(reviews, model, num_features):\n",
        "    # Given a set of reviews (each one a list of words), calculate \n",
        "    # the average feature vector for each one and return a 2D numpy array \n",
        "    # \n",
        "    # Initialize a counter\n",
        "    counter = 0\n",
        "    # \n",
        "    # Preallocate a 2D numpy array, for speed\n",
        "    reviewFeatureVecs = np.zeros((len(reviews),num_features),dtype=\"float32\")\n",
        "    # \n",
        "    # Loop through the reviews\n",
        "    for review in reviews:\n",
        "       #\n",
        "       # Print a status message every 1000th review\n",
        "       if counter%1000. == 0.:\n",
        "          print (f\"Review {counter} of {len(reviews)}\")\n",
        "       # \n",
        "       # Call the function (defined above) that makes average feature vectors\n",
        "       reviewFeatureVecs[counter] = makeFeatureVec(review, model,num_features)\n",
        "       #\n",
        "       # Increment the counter\n",
        "       counter = counter + 1\n",
        "    return reviewFeatureVecs"
      ],
      "execution_count": 0,
      "outputs": []
    },
    {
      "cell_type": "code",
      "metadata": {
        "id": "yLKmIq3CQmnL",
        "colab_type": "code",
        "outputId": "222df722-6e53-40ec-c899-80f713177532",
        "colab": {
          "base_uri": "https://localhost:8080/",
          "height": 958
        }
      },
      "source": [
        "import nltk\n",
        "nltk.download('stopwords')\n",
        "\n",
        "train = pd.read_csv( \"labeledTrainData.tsv\", header=0, delimiter=\"\\t\")\n",
        "\n",
        "clean_train_reviews = []\n",
        "for review in train[\"review\"]:\n",
        "    clean_train_reviews.append( review_to_wordlist( review, \\\n",
        "        remove_stopwords=True ))\n",
        "\n",
        "trainDataVecs = getAvgFeatureVecs( clean_train_reviews, model, num_features )\n",
        "\n",
        "print (\"Creating average feature vecs for test reviews\")\n",
        "clean_test_reviews = []\n",
        "for review in test[\"review\"]:\n",
        "    clean_test_reviews.append( review_to_wordlist( review, \\\n",
        "        remove_stopwords=True ))\n",
        "\n",
        "testDataVecs = getAvgFeatureVecs( clean_test_reviews, model, num_features )"
      ],
      "execution_count": 23,
      "outputs": [
        {
          "output_type": "stream",
          "text": [
            "[nltk_data] Downloading package stopwords to /root/nltk_data...\n",
            "[nltk_data]   Unzipping corpora/stopwords.zip.\n",
            "Review 0 of 25000\n",
            "Review 1000 of 25000\n",
            "Review 2000 of 25000\n",
            "Review 3000 of 25000\n",
            "Review 4000 of 25000\n",
            "Review 5000 of 25000\n",
            "Review 6000 of 25000\n",
            "Review 7000 of 25000\n",
            "Review 8000 of 25000\n",
            "Review 9000 of 25000\n",
            "Review 10000 of 25000\n",
            "Review 11000 of 25000\n",
            "Review 12000 of 25000\n",
            "Review 13000 of 25000\n",
            "Review 14000 of 25000\n",
            "Review 15000 of 25000\n",
            "Review 16000 of 25000\n",
            "Review 17000 of 25000\n",
            "Review 18000 of 25000\n",
            "Review 19000 of 25000\n",
            "Review 20000 of 25000\n",
            "Review 21000 of 25000\n",
            "Review 22000 of 25000\n",
            "Review 23000 of 25000\n",
            "Review 24000 of 25000\n",
            "Creating average feature vecs for test reviews\n",
            "Review 0 of 25000\n",
            "Review 1000 of 25000\n",
            "Review 2000 of 25000\n",
            "Review 3000 of 25000\n",
            "Review 4000 of 25000\n",
            "Review 5000 of 25000\n",
            "Review 6000 of 25000\n",
            "Review 7000 of 25000\n",
            "Review 8000 of 25000\n",
            "Review 9000 of 25000\n",
            "Review 10000 of 25000\n",
            "Review 11000 of 25000\n",
            "Review 12000 of 25000\n",
            "Review 13000 of 25000\n",
            "Review 14000 of 25000\n",
            "Review 15000 of 25000\n",
            "Review 16000 of 25000\n",
            "Review 17000 of 25000\n",
            "Review 18000 of 25000\n",
            "Review 19000 of 25000\n",
            "Review 20000 of 25000\n",
            "Review 21000 of 25000\n",
            "Review 22000 of 25000\n",
            "Review 23000 of 25000\n",
            "Review 24000 of 25000\n"
          ],
          "name": "stdout"
        }
      ]
    },
    {
      "cell_type": "code",
      "metadata": {
        "id": "M9PiJk0lQpJt",
        "colab_type": "code",
        "outputId": "f2d80b06-dba2-4fbc-e3f1-bcd21e7657f3",
        "colab": {
          "base_uri": "https://localhost:8080/",
          "height": 34
        }
      },
      "source": [
        "from sklearn.ensemble import RandomForestClassifier\n",
        "forest = RandomForestClassifier( n_estimators = 100 )\n",
        "\n",
        "print (\"Fitting a random forest to labeled training data...\")\n",
        "forest = forest.fit( trainDataVecs, train[\"sentiment\"] )\n",
        "\n",
        "# Test & extract results \n",
        "result = forest.predict( testDataVecs )\n",
        "\n",
        "# Write the test results \n",
        "output = pd.DataFrame( data={\"id\":test[\"id\"], \"sentiment\":result} )\n",
        "output.to_csv( \"Word2Vec_AverageVectors.csv\", index=False, quoting=3 )"
      ],
      "execution_count": 24,
      "outputs": [
        {
          "output_type": "stream",
          "text": [
            "Fitting a random forest to labeled training data...\n"
          ],
          "name": "stdout"
        }
      ]
    },
    {
      "cell_type": "code",
      "metadata": {
        "id": "hb3ixJYaTbMu",
        "colab_type": "code",
        "colab": {}
      },
      "source": [
        "files.download('Word2Vec_AverageVectors.csv')"
      ],
      "execution_count": 0,
      "outputs": []
    },
    {
      "cell_type": "code",
      "metadata": {
        "id": "ix3o0SS0VPeL",
        "colab_type": "code",
        "outputId": "6b5e9a0f-a516-4b28-ef09-55c83a6707af",
        "colab": {
          "base_uri": "https://localhost:8080/",
          "height": 34
        }
      },
      "source": [
        "from sklearn.cluster import KMeans\n",
        "import time\n",
        "\n",
        "start = time.time() # Start time\n",
        "\n",
        "# Set \"k\" (num_clusters) to be 1/5th of the vocabulary size, or an\n",
        "# average of 5 words per cluster\n",
        "word_vectors = np.array([model[word] for word in set(model.wv.vocab)])\n",
        "num_clusters = word_vectors.shape[1] // 5\n",
        "\n",
        "# Initalize a k-means object and use it to extract centroids\n",
        "kmeans_clustering = KMeans( n_clusters = num_clusters )\n",
        "idx = kmeans_clustering.fit_predict( word_vectors )\n",
        "\n",
        "# Get the end time and print how long the process took\n",
        "end = time.time()\n",
        "elapsed = end - start\n",
        "print (\"Time taken for K Means clustering: \", elapsed, \"seconds.\")"
      ],
      "execution_count": 26,
      "outputs": [
        {
          "output_type": "stream",
          "text": [
            "Time taken for K Means clustering:  56.54826641082764 seconds.\n"
          ],
          "name": "stdout"
        }
      ]
    },
    {
      "cell_type": "code",
      "metadata": {
        "id": "iYgXKNuIxLCb",
        "colab_type": "code",
        "colab": {}
      },
      "source": [
        "word_centroid_map = list(zip(model.wv.vocab, idx))"
      ],
      "execution_count": 0,
      "outputs": []
    },
    {
      "cell_type": "code",
      "metadata": {
        "id": "0c3ZtqxfyaAT",
        "colab_type": "code",
        "outputId": "584273ab-e085-4156-f6cd-a54df4de975c",
        "colab": {
          "base_uri": "https://localhost:8080/",
          "height": 1000
        }
      },
      "source": [
        "for cluster in range(50):\n",
        "    #\n",
        "    # Print the cluster number  \n",
        "    print (f\"\\nCluster {cluster}\")\n",
        "    #\n",
        "    # Find all of the words for that cluster number, and print them out\n",
        "    words = []\n",
        "    for i in range(len(word_centroid_map)):\n",
        "        if( word_centroid_map[i][1] == cluster ):\n",
        "            words.append(word_centroid_map[i][0])\n",
        "    print (words)"
      ],
      "execution_count": 86,
      "outputs": [
        {
          "output_type": "stream",
          "text": [
            "\n",
            "Cluster 0\n",
            "['on', 'why', 'bottom', 'what', 'stirring', 'results', 'food', 'belle', 'need', 'until', 'ripping', 'body', 'soldiers', 'trained', 'watch', 'montage', 'buying', 'wall', 'butts', 'certainty', 'predict', 'almost', 'week', 'themed', 'favorite', 'dale', 'element', 'gwynne', 'gradually', 'award', 'browsing', 'pros', 'skills', 'approval', 'kumar', 'fancy', 'ladies', 'forest', 'silver', 'slasher', 'anyone', 'cinematic', 'danny', 'horrible', 'restored', 'decision', 'jobs', 'disabled', 'seeking', 'current', 'world', 'unable', 'insane', 'poetry', 'davis', 'brent', 'crypt', 'columbo', 'disappointed', 'gorgeous', 'cushing', 'manages', 'suit', 'magical', 'suggestion', 'ho', 'needed', 'bed', 'toll', 'mix', 'division', 'palette', 'besides', 'extravagant', 'opens', 'untimely', 'liven', 'peace', 'rules', 'kung', 'surely', 'predator', 'email', 'neighborhood', 'shy', 'likeable', 'manson', 'pounds', 'characterized', 'guilt', 'committing', 'tokyo', 'comments', 'bitten', 'bravely', 'details', 'experienced', 'soprano', 'program', 'certainly', 'goodness', 'swimming', 'fits', 'attractive', 'lawyers', 'imposing', 'share', 'terms', 'hatch', 'provide', 'anime', 'educated', 'succeeded', 'britain', 'answer', 'heartbreaking', 'vie', 'sucks', 'rapture', 'dana', 'ceremonies', 'steel', 'theory', 'notes', 'bam', 'qualify', 'mysterious', 'strategic', 'common', 'crushing', 'undemanding', 'stewart', 'bringing', 'donald', 'nods', 'kidding', 'descriptions', 'bike', 'sheep', 'rudolph', 'slides', 'mercury', 'attenborough', 'eloquent', 'doll', 'switzerland', 'unrelated', 'sentences', 'bull', 'subtlety', 'hose', 'immigrant', 'grady', 'aching', 'identities', 'collapse', 'eve', 'endowed', 'ramones', 'mindless', 'manufactured', 'brenda', 'corman', 'nerds', 'inventive', 'terribly', 'appallingly', 'sin', 'battery', 'stations', 'raven', 'fundamental', 'ashton', 'estate', 'wits', 'heartwarming', 'ditto', 'conclude', 'shatner', 'kimberly', 'slept', 'exorcist', 'kruger', 'shadow', 'larger', 'listened', 'signals', 'suspension', 'overacts', 'calm', 'method', 'alain', 'martians', 'costello', 'prologue', 'pretentiousness', 'naturalistic', 'glamor', 'blob', 'backgrounds', 'intimacy', 'esquire', 'eclectic', 'sp', 'scratching', 'contribute', 'smitten', 'corps', 'requiem', 'marxist', 'scandalous', 'lighthearted', 'desirable', 'occupied', 'pete', 'shaving', 'laundry', 'pretensions', 'bio', 'baseball', 'whereabouts', 'discussed', 'geniuses', 'tarantino', 'counselor', 'inventor', 'booze', 'withdrawn', 'interactions', 'conrad', 'taboo', 'mo', 'sumptuous', 'tenderness', 'hodge', 'owe', 'gently', 'er', 'hiv', 'dwarfs', 'kingpin', 'hoot', 'unquestionably', 'poorest', 'hackneyed', 'randomness', 'agreement', 'garner', 'object', 'calendar', 'nam', 'pinned', 'missions', 'youths', 'unheard', 'turd', 'labour', 'dolly', 'krishna', 'tomlinson', 'claude', 'harshly', 'stereotyped', 'spontaneous', 'innocently', 'railroad', 'defiance', 'netflix', 'surrogate', 'liberally', 'volatile', 'epics', 'antwone', 'harvard', 'muller', 'yawning', 'slater', 'sullen', 'puzzling', 'groin', 'cellar', 'manga', 'betraying', 'cummings', 'spader', 'impotent', 'recordings', 'unused', 'paraphrase', 'octopus', 'cosmic', 'nightly', 'anarchy', 'curses', 'nauseating', 'tequila', 'sexploitation', 'consciously', 'cardinal', 'colorado', 'velvet', 'lightning', 'gunman', 'sergei', 'blanc', 'jerome', 'noirs', 'revived', 'penetrate', 'proposition', 'storms', 'operating', 'soundtracks', 'lists', 'gossip', 'weaves', 'descendant', 'devine', 'console', 'shawshank', 'donnell', 'unborn', 'beulah', 'dreyfus', 'bobbie', 'keefe', 'stew', 'adolescents', 'azumi', 'dir', 'nile', 'consensus', 'torturous', 'natty', 'colony', 'crudup', 'stoker', 'generosity', 'aquaman', 'yossi', 'indigo', 'matteo', 'mcclane', 'akbar', 'milla', 'sisko']\n",
            "\n",
            "Cluster 1\n",
            "['he', 'some', 'things', 'turning', 'them', 'h', 'ambition', 'davies', 'average', 'continues', 'opening', 'cause', 'won', 'hideous', 'linked', 'grind', 'despite', 'talks', 'busey', 'comment', 'leigh', 'recognized', 'bbc', 'b', 'bill', 'since', 'trinity', 'pathetic', 'basically', 'videos', 'before', 'plain', 'diminish', 'paid', 'intensity', 'hill', 'surpasses', 'nightmarish', 'inevitable', 'sexuality', 'lovemaking', 'seemed', 'emperor', 'vengeance', 'soul', 'junk', 'box', 'advantage', 'understanding', 'haven', 'worker', 'affair', 'developed', 'commit', 'benefit', 'tried', 'klein', 'sleep', 'd', 'checking', 'needless', 'antonio', 'episode', 'resolution', 'farce', 'cheap', 'loud', 'popular', 'newcomer', 'merchant', 'clinton', 'fellow', 'given', 'incredible', 'demeanor', 'basis', 'cartoon', 'producers', 'head', 'marshall', 'downey', 'washington', 'willie', 'fuzzy', 'columbine', 'killers', 'sixteen', 'failures', 'cash', 'driver', 'forth', 'inexplicable', 'cutting', 'inane', 'tossed', 'retreat', 'endings', 'scenario', 'decade', 'particularly', 'rage', 'mamet', 'tools', 'gel', 'uneventful', 'cliche', 'antidote', 'situations', 'meg', 'notice', 'girlfriend', 'fanatic', 'corner', 'beatings', 'accusations', 'partly', 'dancing', 'mattei', 'initial', 'condition', 'states', 'realm', 'downright', 'vacation', 'dreadfully', 'layers', 'squad', 'inevitably', 'smaller', 'rates', 'propaganda', 'instructor', 'magnificent', 'ace', 'confidential', 'cracks', 'experiments', 'releases', 'boiled', 'brothers', 'blends', 'lays', 'kidnapping', 'hershey', 'appeared', 'mouse', 'ignorance', 'uncomfortable', 'presenting', 'hat', 'dario', 'national', 'virtually', 'tick', 'darkest', 'juliet', 'dysfunctional', 'decency', 'lena', 'glimpse', 'marital', 'happiness', 'characterization', 'biased', 'oppressed', 'knights', 'misunderstood', 'raimi', 'kennedy', 'afghanistan', 'document', 'regret', 'studded', 'incoherent', 'zany', 'redgrave', 'raises', 'valley', 'racism', 'tedium', 'shaun', 'voyage', 'flawlessly', 'bon', 'efficiently', 'determined', 'clerk', 'alienation', 'hunt', 'ceo', 'surround', 'duvall', 'submit', 'alfredo', 'outs', 'alec', 'entourage', 'nineties', 'sassy', 'photographed', 'mandatory', 'forgivable', 'izzard', 'accidental', 'enamored', 'babble', 'ned', 'miscast', 'convoluted', 'posts', 'disappearance', 'marc', 'rudd', 'optimistic', 'chin', 'determine', 'dunn', 'apology', 'burke', 'inherit', 'heartily', 'northern', 'origin', 'majesty', 'glow', 'anticlimactic', 'inventing', 'madsen', 'parsons', 'outlandish', 'covering', 'tracking', 'macho', 'imaginable', 'downhill', 'marvel', 'granger', 'emphasized', 'carson', 'monitor', 'jackass', 'yay', 'austrian', 'models', 'carey', 'conspiracy', 'macmurray', 'pioneering', 'moaning', 'youngster', 'principles', 'expose', 'hooper', 'mcshane', 'shopping', 'ya', 'belushi', 'despicable', 'recommending', 'eliminated', 'http', 'appreciative', 'incredulous', 'masquerading', 'household', 'rooms', 'mobile', 'apologize', 'consistent', 'simultaneously', 'remade', 'franz', 'rites', 'protective', 'fluent', 'contrasts', 'landis', 'exclusive', 'clones', 'trent', 'festivals', 'rapidly', 'leadership', 'skits', 'satiric', 'isabel', 'puppets', 'mos', 'tossing', 'underused', 'blossoms', 'chauffeur', 'catching', 'atlantic', 'digest', 'monkey', 'repeats', 'serbian', 'tin', 'quartet', 'lean', 'luster', 'squeamish', 'luscious', 'proven', 'rubble', 'wage', 'rhetoric', 'sample', 'interiors', 'rivals', 'diminished', 'cherry', 'spacecraft', 'reflecting', 'upsetting', 'preity', 'misogynistic', 'exec', 'disturb', 'collapsing', 'sharma', 'poppins', 'nana', 'interwoven', 'rowan', 'mechanic', 'yoko', 'miscasting', 'accompanies', 'literal', 'finishing', 'demonstrate', 'vincente', 'cheat', 'lili', 'levitt', 'disasters', 'stressed', 'lasts', 'extensive', 'salad', 'trough', 'resorting', 'timberlake', 'visconti', 'pronounce', 'bean', 'wrecking', 'casted', 'injects', 'counting', 'outraged', 'miki', 'paranormal', 'downward', 'assets', 'rumor', 'wings', 'budgeted', 'blasted', 'gardens', 'hysteria', 'virginity', 'billie', 'poop', 'lucifer', 'guinea', 'civilisation', 'publish', 'pursue', 'hd', 'automobiles', 'southerner', 'unsolved', 'forensic', 'mulholland', 'disk', 'unflinching', 'maclaine', 'saturn', 'avenging', 'flees', 'slices', 'islamic', 'notoriously', 'slated', 'legged', 'valiant', 'clarkson', 'substituted', 'limbo', 'capra', 'hr', 'cellphone', 'athlete', 'dreamworks', 'onset', 'fletcher', 'mabel', 'clowns', 'diagnosis', 'luxurious', 'merciless', 'coscarelli', 'wtc', 'tattoos', 'passages', 'defeats', 'verve', 'bellamy', 'hail', 'jody', 'dino', 'kinetic', 'keyes', 'zenda', 'bebop', 'poltergeist', 'chunks', 'bookie', 'smartest', 'discerning', 'fancies', 'thundercats', 'tuck', 'delicatessen', 'cartman', 'jeb']\n",
            "\n",
            "Cluster 2\n",
            "['away', 'being', 'carradine', 'big', 'plays', 'experience', 'french', 'none', 'harry', 'than', 'background', 'centers', 'ends', 'movies', 'whom', 'father', 'resurrection', 'inept', 'principle', 'songs', 'sexually', 'outpost', 'scarier', 'acceptable', 'rubbish', 'complications', 'primarily', 'butt', 'laughs', 'neurotic', 'ludicrously', 'mira', 'thats', 'addicted', 'superman', 'wins', 'geoffrey', 'syndrome', 'sink', 'hopelessly', 'jameson', 'replaced', 'radically', 'enormous', 'stumble', 'cousin', 'sold', 'appreciate', 'cross', 'base', 'explore', 'promising', 'casey', 'hawk', 'prosecution', 'noteworthy', 'karate', 'german', 'capitalism', 'taped', 'embarrassingly', 'michaels', 'verhoeven', 'wolves', 'parable', 'controversial', 'voight', 'stormy', 'graduation', 'beau', 'edged', 'deneuve', 'teddy', 'convenient', 'whine', 'ain', 'showcase', 'warns', 'gray', 'buffalo', 'jodorowsky', 'outbursts', 'humiliating', 'recovered', 'novels', 'composition', 'functions', 'geek', 'corruption', 'versus', 'doorway', 'slice', 'megan', 'samurai', 'christianity', 'farrell', 'bottle', 'overwhelming', 'mocking', 'iraqi', 'remote', 'smiling', 'subtext', 'collaborators', 'preparation', 'reid', 'goose', 'absorbed', 'jacques', 'lamest', 'panties', 'stylistically', 'shirt', 'interludes', 'rodriguez', 'clinic', 'electronic', 'destined', 'quinn', 'independently', 'pittsburgh', 'outset', 'adrienne', 'strapped', 'barker', 'sour', 'quoting', 'bowling', 'admirably', 'sins', 'fork', 'thrilling', 'unexciting', 'pal', 'archaeologist', 'snore', 'examine', 'puns', 'explores', 'bravura', 'unintended', 'copious', 'assignment', 'cookie', 'scarred', 'undermine', 'insanely', 'deed', 'semblance', 'gum', 'shahrukh', 'detachment', 'tilda', 'mifune', 'mccarthy', 'simplified', 'indemnity', 'mcgovern', 'designers', 'institutions', 'facility', 'bickering', 'humanoid', 'departure', 'portal', 'ours', 'delia', 'stalin', 'whiny', 'coherence', 'equipped', 'evidenced', 'shifts', 'lucille', 'danielle', 'quincy', 'cartwright', 'unintelligent', 'indigenous', 'unpopular', 'decay', 'seductress', 'lesley', 'smiles', 'iota', 'lenzi', 'sorta', 'jeunet', 'objectively', 'trucks', 'nastassja', 'dillinger', 'abrasive', 'janice', 'unconvincingly', 'ops', 'farina', 'screamers']\n",
            "\n",
            "Cluster 3\n",
            "['let', 'behind', 'year', 'we', 'fence', 'begins', 'better', 'cliff', 'directed', 'conductor', 'sick', 'fire', 'wasn', 'woman', 'potential', 'success', 'how', 'feelings', 'puts', 'christmas', 'rent', 'buried', 'fantastic', 'bond', 'degree', 'jaguar', 'accidentally', 'wannabe', 'simon', 'persona', 'comprehend', 'hype', 'guys', 'gordon', 'nuanced', 'engrossing', 'truthful', 'failure', 'vein', 'rely', 'makeup', 'genres', 'resist', 'shields', 'hidden', 'capture', 'beaten', 'north', 'perfect', 'assembled', 'jazz', 'bridget', 'insert', 'bud', 'concentrates', 'picks', 'albert', 'countries', 'built', 'google', 'crowd', 'purse', 'answered', 'flesh', 'bible', 'status', 'readings', 'pity', 'par', 'gunned', 'showers', 'extent', 'financial', 'aspects', 'sends', 'lohan', 'gabriel', 'childlike', 'snake', 'intervention', 'nervous', 'wasnt', 'akira', 'den', 'silences', 'ultimatum', 'woody', 'dumber', 'eugene', 'boogeyman', 'wear', 'victimized', 'obese', 'heavens', 'mario', 'leather', 'swallow', 'swayze', 'concentration', 'marlowe', 'layer', 'influences', 'despised', 'scheider', 'stood', 'penguin', 'stirred', 'fraternity', 'palmer', 'racing', 'lloyd', 'betty', 'jerks', 'heighten', 'overwhelmingly', 'precisely', 'haha', 'harding', 'partners', 'genetic', 'jewish', 'craze', 'bites', 'moderate', 'scrooge', 'yahoo', 'investigations', 'luxury', 'sox', 'owl', 'subconscious', 'gabby', 'barney', 'symptoms', 'rodgers', 'proposes', 'babes', 'wanda', 'sergio', 'gloves', 'gundam', 'torturing', 'heroin', 'tourneur', 'enchanted', 'improvised', 'yorkers', 'christina', 'truman', 'enlightenment', 'snobbish', 'tails', 'retains', 'bonnie', 'courtroom', 'flowed', 'cutest', 'desi', 'monotone', 'plight', 'motions', 'tremendously', 'pairing', 'varies', 'luminous', 'fearing', 'homely', 'comfortably', 'nerd', 'fenton', 'toshiro', 'diversity', 'wolfgang', 'northam', 'glamour', 'requirement', 'aboard', 'degenerate', 'moranis', 'ilona', 'coloured', 'gameplay', 'heros', 'systematically', 'biological', 'zap', 'harbour', 'malevolent', 'vagina', 'strangler', 'ambiance', 'gandolfini', 'congress', 'constitute', 'excursion', 'reproduce', 'delves', 'raining', 'reciting', 'denis', 'venom', 'uncontrollable', 'baring', 'hefty', 'milton', 'juicy', 'scratches', 'theorists', 'alphabet', 'tee', 'shitty', 'dullest', 'whores', 'homemade', 'shahid', 'operator', 'gig', 'dross', 'amaze', 'paved', 'karma', 'countdown', 'unknowns', 'kalifornia', 'etting', 'hellgate', 'kersey']\n",
            "\n",
            "Cluster 4\n",
            "['with', 'to', 'security', 'large', 'matter', 'few', 'often', 'century', 'slightly', 'drags', 'example', 'harvey', 'introduced', 'shameless', 'aspect', 'fishburne', 'monotonous', 'open', 'excellent', 'sex', 'land', 'possible', 'viewed', 'pegg', 'afternoon', 'rental', 'task', 'chubby', 'austin', 'staging', 'saves', 'tenants', 'greed', 'trick', 'fears', 'indulges', 'goldberg', 'doubts', 'classes', 'marketing', 'restaurant', 'masses', 'investigation', 'toxic', 'receive', 'lewis', 'moore', 'miracle', 'hacks', 'staggering', 'escaping', 'hood', 'pows', 'split', 'darkwing', 'pigs', 'earl', 'geeky', 'epidemic', 'texan', 'underworld', 'norm', 'balance', 'kickboxer', 'upcoming', 'miami', 'drawing', 'accompanied', 'broke', 'dundee', 'bravo', 'wayne', 'lesbians', 'san', 'reel', 'blues', 'casually', 'delivering', 'nation', 'lessons', 'pc', 'deathly', 'exaggerating', 'cia', 'lovingly', 'planets', 'knit', 'angles', 'neglected', 'inaccurate', 'crimes', 'soil', 'bizarrely', 'contestant', 'trek', 'ireland', 'newman', 'lion', 'sympathize', 'homage', 'cusack', 'exterior', 'polite', 'template', 'evils', 'trader', 'refund', 'interspersed', 'myrna', 'sweetness', 'lapses', 'sixty', 'renowned', 'unlikeable', 'easiest', 'id', 'fragments', 'picking', 'exposed', 'whisper', 'jarmusch', 'slapping', 'kindly', 'scaring', 'milestone', 'portugal', 'contribution', 'sketch', 'penelope', 'mumbai', 'icon', 'dyan', 'carole', 'teased', 'hats', 'auditioning', 'extends', 'decadent', 'salem', 'tobe', 'diary', 'bail', 'spies', 'louie', 'caller', 'versa', 'furniture', 'realization', 'fictionalized', 'liotta', 'israeli', 'offerings', 'rabbit', 'singh', 'nursing', 'debuted', 'rick', 'emote', 'facilities', 'awry', 'cnn', 'explorer', 'drawbacks', 'madeline', 'generals', 'selected', 'snicker', 'fantastically', 'forsaken', 'ala', 'scarcely', 'til', 'helmed', 'soo', 'exits', 'trauma', 'sabu', 'admirers', 'rifles', 'saddened', 'rappers', 'marginally', 'damien', 'leftist', 'breathe', 'seize', 'practicing', 'pretension', 'nikki', 'uel', 'settling', 'blasphemy', 'platinum', 'paradox', 'caf', 'formerly', 'flops', 'pose', 'burden', 'dominique', 'convert', 'partying', 'agonizing', 'damme', 'rufus', 'morgue', 'terrorize', 'capabilities', 'mussolini', 'orient', 'breakup', 'kudrow', 'literate', 'fanning', 'savings', 'excessively', 'swat', 'bohemian', 'inherits', 'typing', 'fahey', 'imax', 'kat', 'smiled', 'yankee', 'aquatic', 'considine', 'carbon', 'grandchildren']\n",
            "\n",
            "Cluster 5\n",
            "['guy', 'nah', 'level', 'hope', 'hollywood', 'nature', 'predators', 'david', 'someone', 'perverted', 'life', 'principal', 'burt', 'successful', 'purely', 'titular', 'structured', 'genuinely', 'brad', 'hunk', 'spell', 'entirety', 'poignant', 'lose', 'deal', 'native', 'stinks', 'motivations', 'guess', 'collection', 'ed', 'fat', 'intercourse', 'graduate', 'female', 'fell', 'suspect', 'intelligence', 'cinemas', 'pick', 'lengthy', 'ranks', 'efficient', 'jumpy', 'fit', 'went', 'operatic', 'frederic', 'thanksgiving', 'extra', 'ordinary', 'crown', 'spare', 'choosing', 'targets', 'throat', 'arrested', 'thus', 'tech', 'adolescent', 'route', 'risky', 'mis', 'laughably', 'hometown', 'former', 'travesty', 'scant', 'yr', 'garrett', 'poorly', 'shuffle', 'bland', 'union', 'hawn', 'wounded', 'hazel', 'shockingly', 'incidents', 'ewoks', 'obi', 'kurt', 'denise', 'immature', 'ballet', 'temple', 'mores', 'challenged', 'faint', 'ethnic', 'gangsters', 'stated', 'dial', 'league', 'visible', 'petty', 'unmarried', 'candles', 'ra', 'deadpan', 'plunges', 'pioneers', 'keitel', 'nt', 'established', 'cannibalism', 'ny', 'ripe', 'debacle', 'brando', 'successes', 'astonishing', 'basket', 'watcher', 'emotionless', 'finnish', 'gail', 'landlord', 'ponderous', 'dribble', 'invincible', 'believer', 'abel', 'duff', 'arrogance', 'multi', 'maintained', 'inn', 'colours', 'fetching', 'adultery', 'depravity', 'adrenaline', 'plethora', 'scout', 'cate', 'delinquent', 'dependent', 'omega', 'pistols', 'resorts', 'belly', 'jerk', 'bonanza', 'investigator', 'writings', 'goodman', 'skilled', 'captions', 'curtains', 'weed', 'butterfly', 'sales', 'chapters', 'replacing', 'jazzy', 'bouncing', 'slashed', 'offense', 'hilarity', 'beatty', 'novelty', 'confined', 'revolve', 'germs', 'amazement', 'transcend', 'skipping', 'wondrous', 'sanitarium', 'kerr', 'juliette', 'gamera', 'organizations', 'bumping', 'glimmer', 'reckless', 'honors', 'unnamed', 'brightest', 'sentiments', 'goodbye', 'apathetic', 'taping', 'therefor', 'jessie', 'essay', 'anders', 'tangled', 'luthor', 'chevy', 'whit', 'cotten', 'implying', 'suicides', 'pancake', 'anand', 'forsyte', 'jasmine', 'tenement', 'feathers', 'hidalgo', 'petulia']\n",
            "\n",
            "Cluster 6\n",
            "['started', 'of', 'about', 'only', 'scene', 'not', 'gave', 'classic', 'succeeds', 'agree', 'stacy', 'bound', 'leaps', 'miller', 'river', 'wagner', 'heard', 'sort', 'sense', 'close', 'bonkers', 'fingers', 'witch', 'references', 'talk', 'question', 'simply', 'finds', 'finale', 'followed', 'thing', 'gone', 'setting', 'dated', 'having', 'treated', 'fanatics', 'monster', 'shreds', 'observation', 'sight', 'previously', 'bridges', 'bourgeois', 'brazilian', 'lines', 'poetic', 'depardieu', 'spoiler', 'light', 'mistake', 'presence', 'fronts', 'reviewing', 'dollar', 'installments', 'grass', 'imitating', 'reunion', 'screwball', 'producer', 'chinese', 'cops', 'track', 'died', 'ended', 'considering', 'seriousness', 'supported', 'chasing', 'contrary', 'absence', 'cries', 'farts', 'forced', 'cockroaches', 'rounds', 'familial', 'cowboy', 'operates', 'yul', 'owen', 'cunningham', 'tomorrow', 'cured', 'building', 'plant', 'added', 'crazy', 'spring', 'splendid', 'creative', 'extreme', 'costs', 'drives', 'propel', 'nyc', 'intent', 'claiming', 'suicide', 'plods', 'hanged', 'fluid', 'glee', 'darkly', 'language', 'rooted', 'beloved', 'cultures', 'win', 'convince', 'remarkable', 'blair', 'heroic', 'scooby', 'scrappy', 'farmer', 'accurate', 'heat', 'ethel', 'efforts', 'amazed', 'gentleman', 'considerable', 'sickly', 'focus', 'monologue', 'inches', 'organic', 'protagonists', 'promote', 'difference', 'orson', 'naive', 'rebecca', 'quotes', 'alvin', 'held', 'hookers', 'cameos', 'entertainer', 'harriet', 'gold', 'bondage', 'clothing', 'views', 'untrue', 'definite', 'escort', 'staged', 'kurosawa', 'zane', 'yaphet', 'gosh', 'rednecks', 'polanski', 'arrow', 'moron', 'sweeping', 'nurse', 'positives', 'ditch', 'mrs', 'floating', 'sued', 'adapting', 'lawrence', 'lung', 'bartender', 'guru', 'unanswered', 'spark', 'chopped', 'table', 'freeman', 'hannah', 'volume', 'searching', 'lauren', 'rob', 'industrial', 'helpful', 'conveys', 'complements', 'addresses', 'undermined', 'buff', 'europeans', 'taut', 'inflicted', 'begging', 'penalty', 'harrison', 'mistaken', 'marie', 'penultimate', 'patiently', 'futility', 'unnoticed', 'sworn', 'warnings', 'irritation', 'guests', 'destructive', 'manipulation', 'underwhelming', 'sunset', 'knox', 'bison', 'replied', 'resolve', 'leap', 'faulty', 'crawl', 'pizza', 'photographs', 'sentenced', 'fantasies', 'promisingly', 'ominous', 'henri', 'hebrew', 'bombastic', 'elephants', 'whomever', 'consequence', 'kirsten', 'vito', 'conduct', 'unnatural', 'ulterior', 'orders', 'peers', 'disgust', 'avoids', 'martino', 'quentin', 'zoe', 'hank', 'disguise', 'digger', 'avoiding', 'closure', 'purists', 'gangs', 'explicit', 'shanghai', 'data', 'studies', 'cindy', 'tomas', 'stinkers', 'ringu', 'battleship', 'overwhelm', 'sources', 'youtube', 'stance', 'statues', 'lifelong', 'dyke', 'droning', 'paquin', 'forceful', 'breathless', 'devon', 'relating', 'cylon', 'pornography', 'dialogues', 'culminates', 'demons', 'transformations', 'adrien', 'futile', 'witted', 'banderas', 'jacqueline', 'panama', 'niche', 'trimmed', 'port', 'chelsea', 'prayer', 'warden', 'hamming', 'tyson', 'multitude', 'neve', 'fashionable', 'lemon', 'insulted', 'lon', 'simpler', 'marley', 'gloomy', 'kilmer', 'stylistic', 'dishonest', 'execs', 'trademarks', 'ancestor', 'asimov', 'spans', 'corridor', 'piling', 'rossi', 'oprah', 'commentaries', 'sol', 'rails', 'plaza', 'col', 'honey', 'timmy', 'pullman', 'categorized', 'barrage', 'chap', 'grad', 'beery', 'bearded', 'purchasing', 'cleef', 'willard', 'behemoth', 'backup', 'pours', 'lea', 'eloquently', 'bake', 'dacascos', 'rahul', 'thora', 'merrick', 'spee']\n",
            "\n",
            "Cluster 7\n",
            "['his', 'insight', 'it', 'released', 'also', 'him', 'know', 'hates', 'try', 'cruise', 'robert', 'walls', 'cultured', 'title', 'rough', 'expert', 'violence', 'falling', 'pretty', 'peter', 'forces', 'will', 'visit', 'heavy', 'holiday', 'production', 'stephen', 'screen', 'reeves', 'door', 'understand', 'problem', 'ironic', 'murderous', 'dawn', 'biggest', 'directly', 'view', 'control', 'journalist', 'fall', 'game', 'maintain', 'thompson', 'screenplay', 'sounding', 'visiting', 'getting', 'anymore', 'ones', 'aunt', 'inside', 'rigg', 'continued', 'commercial', 'unbelievable', 'segment', 'joss', 'exact', 'noted', 'awards', 'sun', 'moorehead', 'humor', 'killings', 'freely', 'site', 'impressions', 'answers', 'trans', 'reaching', 'humans', 'idle', 'desired', 'attracts', 'mundane', 'critic', 'jess', 'butler', 'intentioned', 'countless', 'asks', 'discovered', 'offs', 'conventional', 'continue', 'disturbed', 'obsessed', 'confused', 'carry', 'pregnant', 'creation', 'generic', 'bills', 'speech', 'cox', 'excessive', 'difficulty', 'beatrice', 'partner', 'redeemed', 'implies', 'doomsday', 'keystone', 'embassy', 'teachers', 'camaraderie', 'frightened', 'islands', 'hk', 'dynasty', 'regarded', 'infernal', 'fishing', 'affection', 'thankfully', 'attempting', 'rathbone', 'suitably', 'fantasy', 'censors', 'cannibal', 'balloons', 'scripts', 'washed', 'entrance', 'bloom', 'frame', 'mess', 'warriors', 'wes', 'owed', 'matt', 'vic', 'discuss', 'rex', 'awakening', 'troops', 'afi', 'wwii', 'doubtless', 'gown', 'hardy', 'cafe', 'partnership', 'pray', 'constant', 'deeper', 'rosemary', 'henry', 'reporters', 'joey', 'bones', 'suspected', 'chronicles', 'prancing', 'batman', 'nighy', 'intervals', 'meaningful', 'morita', 'dislike', 'rains', 'clarence', 'denzel', 'serum', 'blackie', 'amateurs', 'revered', 'volunteers', 'attended', 'brien', 'possess', 'caan', 'intimate', 'tiffany', 'eminently', 'seuss', 'shudder', 'cart', 'palatable', 'omar', 'mega', 'foreigner', 'bottles', 'muster', 'promiscuous', 'dixon', 'belongs', 'resolved', 'accurately', 'signature', 'illegally', 'waterfront', 'mash', 'sharply', 'curtain', 'canada', 'angie', 'tattooed', 'memoirs', 'liv', 'blond', 'tow', 'crafty', 'centre', 'ira', 'uptight', 'flooding', 'elvis', 'heartbreak', 'readily', 'barrels', 'enjoying', 'communism', 'spouse', 'fundamentally', 'sand', 'morgana', 'screens', 'connecticut', 'animators', 'installment', 'smashing', 'seldom', 'sondra', 'captivated', 'owned', 'kells', 'pumbaa', 'haggard', 'noon', 'hoax', 'criteria', 'fanatical', 'nuns', 'townsfolk', 'lowe', 'sanity', 'dusty', 'tito', 'planned', 'threadbare', 'turtle', 'mobster', 'possesses', 'gypsy', 'codes', 'flaming', 'demented', 'charges', 'org', 'predictably', 'stunned', 'darren', 'compound', 'wilde', 'recruiting', 'dudes', 'outlaws', 'reincarnation', 'convent', 'cherish', 'beowulf', 'engaged', 'elmer', 'maugham', 'franco', 'runaway', 'stakes', 'sophomoric', 'distinguish', 'damsel', 'forests', 'foley', 'tidy', 'effortlessly', 'pimp', 'forgiving', 'obtain', 'irresponsible', 'gaining', 'undermines', 'nevada', 'pockets', 'stereotyping', 'connecting', 'leonardo', 'inexcusable', 'inimitable', 'indoor', 'gigantic', 'renamed', 'modeling', 'panahi', 'foggy', 'bodily', 'grandparents', 'compensated', 'privilege', 'crenna', 'analogy', 'hadley', 'admiral', 'documents', 'slaughtering', 'ant', 'connors', 'uwe', 'xxx', 'greetings', 'sweden', 'ming', 'secretive', 'crossword', 'graces', 'lens', 'spiderman', 'jigsaw', 'mcgraw', 'lori', 'dorff', 'morley', 'robson', 'embodiment', 'infinite', 'investigative', 'skewed', 'gym', 'diner', 'thirsty', 'mystique', 'bulldog', 'mythological', 'dialect', 'delights', 'fireworks', 'willy', 'ving', 'immerse', 'blink', 'figuring', 'harrelson', 'puddle', 'gannon', 'foes', 'mimzy', 'obscene', 'systems', 'relatable', 'spraying', 'viciously', 'vance', 'shack', 'obey', 'indicative', 'scriptwriting', 'micro', 'imply', 'allied', 'wade', 'doubtful', 'cringing', 'reworking', 'borrowing', 'fruition', 'inescapable', 'clayton', 'shove', 'horseback', 'dispatched', 'laziness', 'maya', 'khanna', 'noam', 'sydow', 'scissors', 'ripley', 'healing', 'despise', 'snyder', 'alienate', 'stamp', 'storyteller', 'karyo', 'imperfect', 'loch', 'rydell', 'carlitos', 'varney', 'infantry', 'whitman', 'yuen', 'inhumanity', 'hurley', 'quigley', 'abduction', 'keach', 'lom', 'augustus', 'pare']\n",
            "\n",
            "Cluster 8\n",
            "['unless', 'truly', 'different', 'never', 'attacked', 'totally', 'robinson', 'bisexual', 'voice', 'theme', 'money', 'while', 'acts', 'handed', 'trying', 'onto', 'realising', 'impact', 'dung', 'traumatized', 'atmosphere', 'happily', 'definitely', 'grant', 'unfulfilled', 'spend', 'min', 'second', 'lovers', 'screw', 'ass', 'law', 'happen', 'breath', 'incessant', 'filmmaking', 'deals', 'terrible', 'waiting', 'virus', 'spree', 'hit', 'veronica', 'audrey', 'expecting', 'yummy', 'bridge', 'promised', 'tend', 'showcases', 'rehashed', 'reveals', 'considers', 'lifetime', 'guarantee', 'dennis', 'moon', 'ms', 'possibility', 'polar', 'afflicted', 'animation', 'louder', 'political', 'master', 'internet', 'height', 'aim', 'labor', 'spears', 'hugely', 'treacherous', 'civilization', 'pursuit', 'assault', 'buddies', 'cocktail', 'rothrock', 'artists', 'tough', 'abuse', 'devout', 'governess', 'sought', 'fault', 'beard', 'familiarity', 'collectors', 'demeaning', 'messy', 'godzilla', 'se', 'achieving', 'hay', 'admiration', 'inviting', 'unbelievably', 'overacted', 'lastly', 'slashing', 'tables', 'grandson', 'cup', 'urgency', 'contacts', 'harp', 'smash', 'rep', 'satisfaction', 'swearing', 'quasi', 'peak', 'chong', 'terrifically', 'superhuman', 'kirk', 'unhappy', 'hippies', 'speedy', 'crucial', 'substantially', 'sophie', 'karl', 'serving', 'bursting', 'belonged', 'glowing', 'irritates', 'claimed', 'gusto', 'messiah', 'syrupy', 'crashes', 'refuse', 'arresting', 'conscience', 'rambo', 'govinda', 'bend', 'enlightened', 'paz', 'redeemable', 'columbus', 'troubles', 'lavish', 'furious', 'lick', 'ballroom', 'empathize', 'automobile', 'owners', 'intolerance', 'litter', 'python', 'climaxes', 'chi', 'celebration', 'fleet', 'veneer', 'perky', 'embarks', 'ethics', 'whipping', 'cypher', 'korea', 'ricci', 'haines', 'ginger', 'epitome', 'streisand', 'animator', 'belt', 'tribes', 'cowardly', 'tempo', 'bain', 'karloff', 'growth', 'parked', 'blandings', 'theatres', 'tube', 'physics', 'conflicted', 'bog', 'rightfully', 'characteristics', 'jafar', 'ticking', 'geez', 'worm', 'strays', 'innocuous', 'shrewd', 'fulfilled', 'recorder', 'incomplete', 'commercially', 'slugs', 'masturbating', 'phyllis', 'hijacked', 'mcdermott', 'opposing', 'chained', 'mic', 'ventura', 'distortion', 'courtesy', 'croc', 'induced', 'mannequin', 'walt', 'duryea', 'conflicting', 'cruising', 'televised', 'earthy', 'webber', 'cooked', 'carnal', 'tracey', 'rants', 'suitor', 'americana', 'titillating', 'agendas', 'creations', 'onscreen', 'serbs', 'goons', 'delon', 'friar', 'wince', 'floyd', 'iowa', 'gamble', 'nakata', 'poelzig', 'darkman', 'forsyth', 'yee', 'corbucci', 'ff', 'pike', 'vlad', 'crumb']\n",
            "\n",
            "Cluster 9\n",
            "['stuff', 'anyway', 'smooth', 'war', 'appreciated', 'themselves', 'look', 'important', 'however', 'entertainment', 'ridiculous', 'no', 'originality', 'hard', 'possessing', 'even', 'daddy', 'diamond', 'beating', 'obligatory', 'makes', 'radiation', 'masterpiece', 'remakes', 'faith', 'poster', 'forgiveness', 'budget', 'damn', 'culture', 'terminally', 'dr', 'ships', 'frustrated', 'couples', 'trigger', 'yarn', 'fairbanks', 'sgt', 'outstanding', 'mutated', 'entire', 'gay', 'connection', 'pleasant', 'possibly', 'actor', 'magazine', 'bleak', 'achievement', 'farm', 'lake', 'network', 'guessing', 'charlize', 'frustration', 'kathleen', 'allan', 'abandoned', 'yawn', 'catch', 'judge', 'threatening', 'western', 'weekend', 'celeste', 'vain', 'kline', 'front', 'lovable', 'malicious', 'learning', 'mission', 'admire', 'genius', 'hers', 'somethings', 'joy', 'format', 'racial', 'liza', 'displayed', 'weirdness', 'aspirations', 'uncaring', 'dedicated', 'bushes', 'print', 'bother', 'coming', 'eggs', 'fifty', 'exclusively', 'assurance', 'milland', 'testosterone', 'brown', 'airing', 'ridley', 'significant', 'domestic', 'stereotype', 'baggage', 'workers', 'igor', 'encounter', 'freud', 'regardless', 'sappy', 'offer', 'scan', 'j', 'painfully', 'lex', 'bid', 'vs', 'arranged', 'troopers', 'atop', 'rub', 'inconsistent', 'thugs', 'martin', 'briefly', 'seventy', 'stares', 'stint', 'gut', 'sheer', 'swing', 'aspiring', 'korean', 'uniform', 'functional', 'arguably', 'rapes', 'drunks', 'sits', 'silence', 'designs', 'drops', 'raptor', 'variation', 'lure', 'campers', 'sneaking', 'jolly', 'resists', 'fox', 'fairy', 'coke', 'richardson', 'consuming', 'royal', 'cassidy', 'accordingly', 'di', 'net', 'knockout', 'garden', 'hopelessness', 'garcia', 'awaiting', 'circumstance', 'antique', 'prowess', 'roosevelt', 'associate', 'intends', 'regarding', 'belonging', 'masterson', 'portion', 'cared', 'unhinged', 'trades', 'linking', 'bentley', 'sustain', 'aliens', 'peril', 'careful', 'removal', 'collective', 'simplistic', 'minimalist', 'shop', 'unlikable', 'eli', 'wilderness', 'sydney', 'amused', 'janitor', 'angus', 'deny', 'brisk', 'promises', 'lied', 'smarmy', 'valerie', 'mud', 'agony', 'zhang', 'tamblyn', 'conventions', 'creatively', 'knocks', 'borrow', 'callous', 'maguire', 'accomplish', 'welles', 'melvyn', 'katie', 'imagery', 'medium', 'tsui', 'popularity', 'collected', 'iq', 'saloon', 'eagle', 'fountain', 'passions', 'tier', 'wipe', 'du', 'witches', 'tacked', 'superficial', 'boxer', 'frog', 'aviation', 'pleasures', 'pigeon', 'quits', 'piles', 'trance', 'phase', 'greece', 'extravaganza', 'fluke', 'pertinent', 'hayward', 'penetrating', 'yacht', 'reggie', 'mysteries', 'rukh', 'patriarch', 'funding', 'ineptly', 'quebec', 'globe', 'duh', 'keys', 'vii', 'egos', 'album', 'shakes', 'conchita', 'maids', 'boils', 'excruciating', 'ifc', 'rosalind', 'daylight', 'examined', 'fledged', 'ineffective', 'judi', 'mania', 'bluntly', 'deceased', 'brett', 'grabbed', 'singleton', 'hairstyle', 'horde', 'catalog', 'tumble', 'hams', 'yun', 'preferable', 'yada', 'garth', 'gardner', 'expressive', 'distribute', 'influential', 'bench', 'safer', 'droppingly', 'pilots', 'closeups', 'obliged', 'insufferable', 'vogel', 'gaze', 'hopeful', 'gestapo', 'srk', 'bestiality', 'uncovered', 'heres', 'burgess', 'ois', 'mani', 'hug', 'universally', 'timeline', 'predicament', 'ronny', 'barrie', 'rejects', 'accountant', 'lennie', 'bale', 'fritz', 'downstairs', 'gosling', 'sphere', 'drool', 'superlative', 'agar', 'frasier', 'mirren', 'concentrating', 'zappa', 'hanzo', 'bergen', 'wheels', 'mai', 'villainy', 'hitchcockian', 'gavin', 'astin', 'conceive', 'clouseau', 'pussy', 'aspires', 'mallrats', 'chopin', 'fireflies', 'roshan', 'prinze', 'grau', 'sadako']\n",
            "\n",
            "Cluster 10\n",
            "['so', 'finally', 'tiger', 'steven', 'many', 'elements', 'shakespeare', 'allowed', 'understood', 'form', 'curiously', 'ax', 'fourth', 'brook', 'asians', 'descended', 'forget', 'unhealthy', 'heston', 'trio', 'humble', 'queer', 'warn', 'cheated', 'countryside', 'proper', 'crude', 'horse', 'ecstasy', 'emma', 'formulaic', 'romantic', 'murderer', 'puke', 'favours', 'overwhelmed', 'skating', 'raped', 'stern', 'romance', 'challenges', 'difficulties', 'amongst', 'talents', 'fulfill', 'concept', 'approach', 'till', 'runs', 'hopes', 'baked', 'shots', 'strand', 'canvas', 'revenge', 'christensen', 'fi', 'devastated', 'mark', 'emotionally', 'susan', 'primitive', 'harris', 'wondering', 'behold', 'snaps', 'thereof', 'united', 'tempered', 'sprinkled', 'stands', 'gotta', 'fate', 'sequels', 'sparse', 'frank', 'christ', 'feisty', 'gilligan', 'ashes', 'jail', 'flame', 'upsets', 'slave', 'ally', 'seaside', 'southern', 'flower', 'farnsworth', 'midnight', 'defense', 'lilly', 'colour', 'warner', 'skinny', 'numbers', 'nicole', 'process', 'barrymore', 'seams', 'mm', 'wan', 'dear', 'encourage', 'danced', 'threads', 'relief', 'recapture', 'snow', 'camp', 'yard', 'graffiti', 'describing', 'catholic', 'hampered', 'emerging', 'kicked', 'cody', 'connie', 'clunker', 'cruelty', 'eventual', 'cleese', 'sentence', 'jarring', 'gackt', 'galaxy', 'aerial', 'nevertheless', 'assisted', 'antics', 'woo', 'giovanni', 'lonely', 'accomplishment', 'interacting', 'daisy', 'blast', 'sullivan', 'spared', 'romania', 'cg', 'centered', 'delight', 'stimulating', 'distraught', 'masochistic', 'thaw', 'ownership', 'tess', 'shepherd', 'miranda', 'orchestrated', 'finger', 'marginal', 'habits', 'mol', 'werewolf', 'luzhin', 'feeble', 'teenagers', 'soup', 'grounds', 'sincere', 'categories', 'lds', 'tits', 'pondering', 'plate', 'metro', 'frenzied', 'replies', 'annette', 'invisibility', 'lipstick', 'dearest', 'awakened', 'intro', 'doug', 'choppy', 'warranted', 'dipping', 'protection', 'explosion', 'transforming', 'adopting', 'dye', 'basics', 'unattractive', 'await', 'impeccable', 'funky', 'damaging', 'yeti', 'flora', 'rolled', 'trench', 'preserve', 'messenger', 'slashers', 'coz', 'continuation', 'haphazard', 'denmark', 'draining', 'mediocrity', 'dominance', 'armor', 'sultry', 'rand', 'facade', 'flamboyant', 'scriptwriter', 'olen', 'journal', 'mastery', 'forewarned', 'lambs', 'candyman', 'pi', 'defender', 'andr', 'rally', 'assaulted', 'squalor', 'awesomely', 'trois', 'ringer', 'forthcoming', 'sympathies', 'commonly', 'delpy', 'chocolate', 'contemplating', 'conjure', 'truffaut', 'strategy', 'manipulates', 'stefan', 'farley', 'whacked', 'cannonball', 'goblins', 'machismo', 'whispers', 'sawyer', 'apache']\n",
            "\n",
            "Cluster 11\n",
            "['certain', 'hate', 'most', 'book', 'welcome', 'story', 'actors', 'final', 'too', 'below', 'swan', 'flow', 'unpretentious', 'false', 'retarded', 'past', 'around', 'evil', 'clips', 'funny', 'tribute', 'actually', 'muslims', 'england', 'key', 'old', 'groan', 'ha', 'um', 'fighting', 'personally', 'sentimental', 'titillation', 'winner', 'russell', 'load', 'zero', 'huston', 'achieved', 'satire', 'reputation', 'monologues', 'carried', 'development', 'heart', 'uplifting', 'festival', 'incarnations', 'use', 'utterly', 'thrill', 'threatens', 'profound', 'wit', 'peterson', 'stephanie', 'everett', 'cake', 'toilet', 'accustomed', 'tim', 'fabulous', 'toast', 'showtime', 'carnival', 'disguised', 'exactly', 'altering', 'tied', 'pushes', 'cuban', 'disparate', 'connor', 'lyric', 'surrender', 'vomit', 'versions', 'reed', 'favorable', 'aggressive', 'healthy', 'parent', 'successfully', 'personalities', 'ignoring', 'outside', 'cigarette', 'whoever', 'bodyguard', 'retained', 'ie', 'platform', 'gaming', 'hanks', 'bunny', 'recounts', 'atrocities', 'krueger', 'wrists', 'execrable', 'signs', 'darker', 'leslie', 'interviews', 'astute', 'threat', 'parasites', 'hazzard', 'confesses', 'rushed', 'tara', 'derek', 'enable', 'streak', 'ongoing', 'auteur', 'delicate', 'misplaced', 'mentality', 'learns', 'spectacle', 'wrongly', 'facets', 'avid', 'clone', 'everyday', 'laurel', 'sixth', 'herring', 'concluded', 'satisfy', 'sterling', 'paints', 'investment', 'mimic', 'connelly', 'abby', 'ghostly', 'trains', 'melancholy', 'riddle', 'danish', 'gods', 'intertwined', 'lucid', 'perlman', 'lite', 'tasteless', 'musings', 'smuggling', 'elephant', 'hussey', 'pains', 'levy', 'vastly', 'angels', 'gasoline', 'entertains', 'noticing', 'sperm', 'snob', 'chore', 'incestuous', 'janet', 'demonic', 'puzzled', 'disappointingly', 'prestige', 'portman', 'hanson', 'fore', 'collections', 'seventeen', 'jewelry', 'superficially', 'depends', 'unforgiving', 'brosnan', 'crushes', 'ahh', 'moulin', 'comforting', 'founded', 'munro', 'dis', 'archetypal', 'centuries', 'coltrane', 'rewards', 'sybil', 'goliath', 'lever', 'summation', 'bullock', 'mining', 'tong', 'disguises', 'wolfman', 'jerking', 'lifestyles', 'trophy', 'henson', 'kings', 'salary', 'clarify', 'twister', 'sacrificed', 'unrecognizable', 'rudolf', 'sliding', 'tamil', 'bunker', 'apples', 'wildest', 'inland', 'dares', 'banker', 'antoinette', 'hog', 'recreated', 'sim', 'hecht', 'showcasing', 'hanger', 'mahoney', 'dakota', 'identified', 'hee', 'slutty', 'succession', 'buxom', 'guise', 'zellweger', 'morrison', 'ghouls', 'feminism', 'formal', 'nypd', 'claudette', 'pointlessness', 'wellman', 'robberies', 'copper', 'headline', 'eklavya', 'brundle']\n",
            "\n",
            "Cluster 12\n",
            "['want', 'ironically', 'subject', 'standard', 'overlook', 'nicholas', 'pack', 'physical', 'man', 'modern', 'battles', 'fights', 'enters', 'opponent', 'original', 'plodding', 'presumed', 'generally', 'moving', 'british', 'public', 'amateurish', 'adaptation', 'ish', 'applies', 'porn', 'store', 'entitled', 'happy', 'styled', 'marriage', 'frenzy', 'believes', 'innocence', 'trash', 'rarity', 'drum', 'leading', 'name', 'execution', 'dire', 'intellectual', 'relations', 'recognisable', 'maker', 'knew', 'main', 'merk', 'audiences', 'ex', 'watchable', 'shut', 'okay', 'observing', 'rachel', 'ranked', 'nick', 'beautifully', 'ago', 'child', 'leering', 'kiss', 'witness', 'learn', 'teach', 'entertain', 'singing', 'section', 'dogs', 'singular', 'direct', 'promptly', 'suffering', 'eyed', 'host', 'lackluster', 'hoped', 'copy', 'shoulders', 'stairs', 'intriguing', 'reese', 'dealers', 'bothering', 'flipping', 'elevated', 'guest', 'pleasantly', 'enjoyably', 'veterans', 'hulk', 'screams', 'aptly', 'protocol', 'borders', 'vehicle', 'cynthia', 'hybrid', 'ankle', 'guardian', 'glossed', 'ruining', 'grasp', 'greatness', 'bored', 'backwoods', 'chased', 'floor', 'fakes', 'populated', 'invention', 'spectator', 'fraction', 'photographer', 'triangle', 'liquor', 'prepare', 'breathing', 'cooperation', 'brooks', 'dripping', 'gutter', 'rival', 'preferred', 'autobiography', 'intentions', 'wrenching', 'entering', 'decaying', 'carell', 'grabbing', 'starving', 'swedish', 'histrionics', 'implications', 'morton', 'rookie', 'register', 'imposed', 'grindhouse', 'russ', 'suite', 'pianist', 'bargain', 'deathtrap', 'inadvertently', 'sa', 'enables', 'blended', 'lovecraft', 'someday', 'contention', 'devos', 'whodunit', 'transparent', 'mouthed', 'item', 'ck', 'pickpocket', 'mishmash', 'hasselhoff', 'wrecked', 'longtime', 'grisly', 'evans', 'lucas', 'broader', 'ae', 'gotham', 'grendel', 'struggled', 'sleepwalking', 'gleason', 'clair', 'rescuing', 'ifans', 'cranked', 'fortunes', 'leaf', 'adaption', 'wards', 'goals', 'vocals', 'delilah', 'alaska', 'geared', 'boots', 'portuguese', 'wiser', 'madrid', 'geraldine', 'jeans', 'torso', 'eyebrow', 'slammed', 'labels', 'luc', 'reefer', 'kindness', 'jocks', 'ranking', 'petrified', 'sombre', 'sabotage', 'jacobi', 'tilly', 'raul', 'swanson', 'hare', 'shea', 'sank', 'royale', 'brecht', 'breslin', 'hellworld']\n",
            "\n",
            "Cluster 13\n",
            "['making', 'would', 'plans', 'criticize', 'others', 'faithful', 'beasts', 'australian', 'covers', 'magnificently', 'love', 'attractions', 'uniquely', 'us', 'believe', 'wild', 'supporting', 'range', 'hamlet', 'disappointment', 'unlikely', 'seeing', 'ashamed', 'contemporary', 'hairy', 'competitive', 'males', 'superiors', 'disappointing', 'priest', 'embarrassment', 'jeff', 'practically', 'purpose', 'desires', 'thoroughly', 'spirited', 'yorker', 'holding', 'slut', 'accept', 'participate', 'stealth', 'rank', 'fame', 'treasured', 'de', 'able', 'gem', 'tone', 'spooky', 'suitable', 'publicity', 'pits', 'verite', 'drink', 'tank', 'lynn', 'throw', 'popping', 'hastings', 'ego', 'download', 'deaf', 'deleted', 'locations', 'ahead', 'cape', 'al', 'wanting', 'explained', 'boat', 'limbs', 'dj', 'born', 'singer', 'slight', 'projects', 'ray', 'actions', 'desert', 'masterpieces', 'midst', 'jack', 'stinker', 'horrid', 'stallone', 'splendor', 'ineffectual', 'darkness', 'ian', 'tennis', 'confronted', 'dutch', 'mentally', 'rpg', 'assassinate', 'ruse', 'kinski', 'stunts', 'pic', 'befriended', 'magnum', 'dimensions', 'integrated', 'punching', 'advertisements', 'asylum', 'photo', 'shed', 'asinine', 'journalism', 'ins', 'pressing', 'understandable', 'batista', 'stale', 'african', 'saturday', 'import', 'closely', 'brainer', 'samir', 'frogs', 'jew', 'darius', 'crossing', 'stole', 'kar', 'motor', 'flushed', 'darn', 'piano', 'exploded', 'medical', 'ollie', 'spear', 'hughes', 'masked', 'ss', 'harmony', 'frye', 'magazines', 'tennessee', 'finland', 'flew', 'absorb', 'shoddy', 'repartee', 'waits', 'attacks', 'bitterly', 'winners', 'shaken', 'juan', 'disposed', 'knives', 'bite', 'letter', 'prairie', 'gielgud', 'crud', 'honor', 'coppola', 'goers', 'intelligently', 'jesse', 'kidnap', 'realizing', 'pakistan', 'wine', 'marlene', 'pin', 'convictions', 'layered', 'lingo', 'perspectives', 'clifford', 'executions', 'erich', 'flooded', 'clubs', 'array', 'sheedy', 'gena', 'consummate', 'gooding', 'sights', 'avery', 'wtf', 'whiskey', 'dresses', 'sensational', 'glitches', 'labyrinth', 'convenience', 'interviewed', 'equation', 'feinstone', 'vigilante', 'wright', 'intensely', 'insecurities', 'annoyance', 'foreground', 'lighten', 'rests', 'stack', 'tibetan', 'drab', 'posting', 'viking', 'induce', 'sexiest', 'meager', 'moronic', 'royalty', 'backstage', 'evaluate', 'eldest', 'widely', 'grandeur', 'reacted', 'maximum', 'fyi', 'aragorn', 'sentinel', 'turmoil', 'piper', 'scholarship', 'gowns', 'donner', 'benign', 'publisher', 'bender', 'unsophisticated', 'boards', 'quantum', 'bewitched', 'inclined', 'evolving', 'ahmad', 'positions', 'incorporated', 'fisherman', 'idealized', 'undertone', 'collectively', 'poisonous', 'inherited', 'bi', 'posey', 'zack', 'distress', 'orientation', 'songwriter', 'humorless', 'chad', 'sparkle', 'concoction', 'meyer', 'ek', 'schizophrenia', 'rehab', 'mulder', 'romans', 'schlocky', 'distinguishes', 'speaker', 'memorably', 'permanently', 'zodiac', 'cavalry', 'potty', 'worms', 'akshaye', 'sermon', 'theresa', 'spilled', 'unavailable', 'instructed', 'chiba', 'subtitle', 'willed', 'minotaur', 'popeye', 'mace', 'decorations', 'zohan', 'mcdormand', 'jamaica']\n",
            "\n",
            "Cluster 14\n",
            "['mind', 'press', 'remotely', 'minutes', 'one', 'worlds', 'entertaining', 'they', 'scientists', 'star', 'giant', 'victims', 'curtis', 'barrel', 'assumed', 'friday', 'cover', 'roberts', 'absurdity', 'smith', 'definitive', 'bore', 'oriented', 'follows', 'sergeant', 'everywhere', 'genetically', 'sad', 'honeymoon', 'alert', 'performers', 'pitiful', 'suffer', 'sensitive', 'bonham', 'halle', 'casting', 'drained', 'embrace', 'marty', 'treatment', 'material', 'sorvino', 'twice', 'met', 'viewing', 'freaked', 'write', 'command', 'barnes', 'florida', 'discovers', 'humour', 'gertrude', 'cookbook', 'residents', 'wide', 'unique', 'smart', 'illogical', 'regrets', 'returned', 'controlling', 'mood', 'slit', 'amazon', 'fright', 'developing', 'winninger', 'researched', 'vera', 'granted', 'planes', 'fiend', 'inexplicably', 'spoken', 'warrants', 'grave', 'smug', 'flopped', 'sings', 'championship', 'ted', 'thrillers', 'dungeons', 'geeks', 'listing', 'admittedly', 'concepts', 'liberated', 'offspring', 'abroad', 'experiment', 'families', 'beers', 'suffered', 'develops', 'magician', 'professionalism', 'unmotivated', 'winds', 'changes', 'racy', 'turgid', 'ranting', 'allowing', 'noises', 'retain', 'solomon', 'oil', 'waves', 'users', 'flawless', 'camps', 'altered', 'corporations', 'consultant', 'dangerously', 'crippled', 'disability', 'misguided', 'conversion', 'morality', 'summed', 'fart', 'holliday', 'ensures', 'gilliam', 'flee', 'atwill', 'neighbors', 'malden', 'unexpectedly', 'shelter', 'blake', 'liam', 'mckenzie', 'overacting', 'earnest', 'proclaimed', 'grande', 'utmost', 'liz', 'debts', 'scandal', 'companies', 'tourist', 'isaac', 'knight', 'stuart', 'melts', 'updated', 'debate', 'lolita', 'unimpressive', 'dietrich', 'befuddled', 'maintaining', 'lau', 'jungles', 'implied', 'poke', 'thorn', 'protector', 'rebellious', 'climber', 'egotistical', 'wizard', 'toy', 'glossy', 'morse', 'lola', 'filipino', 'capital', 'blooded', 'regulars', 'trump', 'salman', 'surrounds', 'elam', 'switching', 'probable', 'digress', 'transport', 'dumbing', 'storage', 'aids', 'dangers', 'forming', 'throughly', 'janssen', 'interviewing', 'parachute', 'daria', 'clay', 'potboiler', 'philadelphia', 'strips', 'worries', 'marco', 'telegraphed', 'indicates', 'matheson', 'hispanic', 'arbuckle', 'lumley', 'parodying', 'bald', 'bowie', 'fleischer', 'idealism', 'strangled', 'pollack', 'ye', 'tod', 'juhi', 'auteuil', 'cobb', 'gaynor', 'leatherface', 'axel', 'bingo', 'tanz', 'rts', 'decoys']\n",
            "\n",
            "Cluster 15\n",
            "['there', 'biography', 's', 'but', 'find', 'criminal', 'must', 'latter', 'amateur', 'following', 'opera', 'playing', 'credits', 'drama', 'sister', 'grotesque', 'been', 'lorre', 'border', 'wastes', 'q', 'profession', 'candle', 'bus', 'burial', 'die', 'effect', 'instance', 'quality', 'monsters', 'clothes', 'artistic', 'sympathetic', 'writer', 'origins', 'intended', 'husband', 'misses', 'tricky', 'assume', 'incompetent', 'sky', 'simple', 'legendary', 'tunnel', 'indeed', 'sake', 'relieve', 'mansion', 'skipped', 'tops', 'ethereal', 'weekly', 'joint', 'vancouver', 'stuffy', 'spite', 'sweetheart', 'include', 'penny', 'montana', 'pay', 'creativity', 'surface', 'once', 'jenna', 'routine', 'flat', 'harm', 'bedroom', 'ron', 'drop', 'hiding', 'diabolical', 'revolution', 'alibi', 'advance', 'prepared', 'yea', 'bobby', 'sending', 'pressed', 'gimmick', 'italy', 'forgets', 'amok', 'jane', 'contemporaries', 'walks', 'officer', 'passengers', 'decades', 'favour', 'greene', 'troubled', 'villainous', 'parallels', 'proved', 'carrying', 'prostitute', 'presidential', 'wisdom', 'morrow', 'strangers', 'slang', 'noting', 'unit', 'harlem', 'edges', 'churchill', 'roman', 'starlet', 'childish', 'glamorous', 'surroundings', 'marquis', 'slum', 'pages', 'instances', 'struggles', 'disrespectful', 'huh', 'explosions', 'warlord', 'pairs', 'incarnation', 'brow', 'screeching', 'distinctive', 'wendt', 'dolby', 'matthew', 'orchestra', 'largely', 'stream', 'balanced', 'linger', 'grating', 'waltz', 'lol', 'cleaver', 'welsh', 'orlando', 'allison', 'clock', 'suspects', 'toby', 'mocks', 'loner', 'commanding', 'sensibilities', 'laughton', 'ernest', 'wished', 'hysterically', 'homicide', 'sized', 'resonance', 'brutality', 'prominent', 'respond', 'cheezy', 'pedro', 'comparable', 'sunrise', 'endearing', 'bordering', 'pasolini', 'civilized', 'meandering', 'slows', 'doorstep', 'mercy', 'commentators', 'audition', 'delusions', 'artificial', 'ping', 'rey', 'foreshadowing', 'pump', 'rushes', 'howling', 'campbell', 'refuge', 'lukas', 'impromptu', 'resigned', 'jungle', 'counter', 'accuses', 'goings', 'joel', 'dumps', 'engages', 'component', 'cbs', 'decidedly', 'locke', 'preceding', 'moll', 'che', 'yelling', 'hacking', 'classmates', 'visceral', 'justifies', 'reservoir', 'fantastical', 'improvement', 'jefferson', 'overcomes', 'pipes', 'sandman', 'washing', 'wenders', 'arabian', 'imprisoned', 'merry', 'teeny', 'littered', 'rags', 'marian', 'tudor', 'hijinks', 'mise', 'participation', 'cassavetes', 'omitted', 'alonzo', 'crusade', 'explode', 'bai', 'skimpy', 'jolt', 'adoring', 'tina', 'dumbfounded', 'burlesque', 'unwelcome', 'joyful', 'shemp', 'necklace', 'ceases', 'vanishing', 'caged', 'pok', 'montreal', 'frances', 'crock', 'discomfort', 'shearer', 'blaming', 'dissolves', 'anais', 'knowles', 'eleanor', 'referenced', 'alternating', 'submitted', 'kajol', 'rebirth', 'lancaster', 'koch', 'toddler', 'bogey', 'spellbinding', 'threats', 'unbeknownst', 'dogme', 'testify', 'virgil', 'americanized', 'kindergarten', 'gutsy', 'chuckled', 'opium', 'gregg', 'endearment', 'adjusted', 'pumpkinhead', 'ranbir', 'baumbach', 'sukiyaki']\n",
            "\n",
            "Cluster 16\n",
            "['again', 'towards', 'demon', 'stay', 'stalking', 'scares', 'such', 'mentioned', 'plot', 'eric', 'expected', 'pressures', 'rule', 'sub', 'doubt', 'early', 'sugar', 'activist', 'neither', 'praise', 'brought', 'flowers', 'kept', 'directing', 'remainder', 'already', 'conference', 'glances', 'killed', 'horrors', 'natural', 'vampires', 'specific', 'blazing', 'absorbing', 'ma', 'ninja', 'unfortunate', 'west', 'scare', 'rocking', 'yuck', 'naughty', 'awkward', 'sutherland', 'semi', 'madness', 'statistics', 'divorce', 'perpetrators', 'cannes', 'rush', 'proudly', 'endeavor', 'iii', 'psycho', 'financing', 'isolation', 'education', 'na', 'carrier', 'shelf', 'wrecks', 'steals', 'committed', 'relieved', 'pointed', 'strengths', 'compassionate', 'theaters', 'molly', 'pro', 'tad', 'seduce', 'homo', 'wreck', 'gloss', 'nothingness', 'wicked', 'experiences', 'quibble', 'walked', 'lively', 'dave', 'boggles', 'barbera', 'trusted', 'bogart', 'psychosis', 'ideals', 'tempting', 'lithgow', 'maverick', 'lester', 'talky', 'parisian', 'firm', 'fascination', 'ernst', 'hark', 'persuaded', 'uncut', 'sided', 'understated', 'valentino', 'crashing', 'explanations', 'sly', 'parlor', 'insights', 'melancholic', 'jeffrey', 'holt', 'disregard', 'proposed', 'fund', 'viggo', 'crook', 'stretching', 'saif', 'unconnected', 'slew', 'satellite', 'brothel', 'closet', 'adulthood', 'bradley', 'intrigues', 'unjustly', 'bankrupt', 'laser', 'outlook', 'cartoony', 'showy', 'vessel', 'bump', 'corleone', 'earp', 'halls', 'carlin', 'recovery', 'compares', 'davenport', 'dragonball', 'shabby', 'overlooking', 'pardon', 'suspiria', 'higgins', 'hunchback', 'knotts', 'netherlands', 'benigni', 'goblin', 'ozon', 'helene']\n",
            "\n",
            "Cluster 17\n",
            "['moment', 'my', 'bad', 'visually', 'etc', 'came', 'usually', 'predictable', 'opened', 'visitors', 'fight', 'stalks', 'special', 'films', 'takes', 'smallest', 'singers', 'dose', 'sound', 'conducting', 'friendly', 'williamson', 'itself', 'glad', 'comedic', 'laughable', 'words', 'usual', 'wouldn', 'playwright', 'absolute', 'lambert', 'saga', 'neo', 'nominee', 'upon', 'imperial', 'sam', 'otherwise', 'crap', 'nobody', 'concerned', 'conflict', 'christian', 'isn', 'carter', 'theron', 'expressions', 'todays', 'strike', 'edgar', 'poe', 'ruth', 'pieces', 'reality', 'bimbo', 'sung', 'chamber', 'pride', 'chop', 'kathy', 'bitch', 'promise', 'companionship', 'band', 'femme', 'brynner', 'cecil', 'uncle', 'peek', 'hears', 'hides', 'cuts', 'costner', 'meat', 'tug', 'refreshing', 'behalf', 'website', 'sober', 'vittorio', 'snowman', 'browning', 'fix', 'side', 'hook', 'decline', 'lies', 'created', 'addressed', 'unresolved', 'hacked', 'picked', 'changed', 'deliberate', 'reservations', 'portrayal', 'sweat', 'pill', 'cuba', 'caribbean', 'qualities', 'extraordinary', 'glorious', 'sluggish', 'crush', 'reports', 'air', 'december', 'speak', 'worn', 'weaker', 'neil', 'concerns', 'iranian', 'solve', 'lookout', 'strongly', 'serling', 'hearse', 'event', 'quietly', 'affairs', 'vice', 'bigfoot', 'fragile', 'admitted', 'champion', 'wrestle', 'realise', 'comedienne', 'vcr', 'segments', 'tying', 'symbolic', 'bass', 'gonna', 'michel', 'recollection', 'mae', 'multiple', 'evident', 'salvage', 'biko', 'formed', 'kotto', 'jumps', 'traitor', 'sebastian', 'stereotypical', 'nearby', 'blaxploitation', 'stroll', 'dramatization', 'nod', 'nineteen', 'republic', 'artistically', 'unaware', 'digging', 'graphics', 'exceptional', 'stride', 'lecture', 'rotten', 'specially', 'dozens', 'jewel', 'spinning', 'exchange', 'philosophy', 'tame', 'germany', 'madeleine', 'appalled', 'slimy', 'autistic', 'resources', 'hara', 'tucker', 'customs', 'angst', 'macmahon', 'winter', 'paired', 'richter', 'instruments', 'judgement', 'banks', 'alexandre', 'nc', 'fiennes', 'europa', 'cesar', 'unspoken', 'affect', 'hokey', 'wanna', 'irene', 'corky', 'ingredient', 'excel', 'genie', 'pathos', 'afore', 'avenue', 'exquisite', 'stahl', 'characteristic', 'immersed', 'fundamentalist', 'sped', 'boxing', 'marianne', 'rollin', 'egg', 'technological', 'detailed', 'lin', 'welcomed', 'dante', 'jules', 'hostile', 'seed', 'sfx', 'detract', 'snap', 'prejudices', 'ferrari', 'scorpion', 'educate', 'mitch', 'underdeveloped', 'harlin', 'drinks', 'hostel', 'po', 'astaire', 'goodnight', 'bucket', 'kathryn', 'anchors', 'audacious', 'unrelenting', 'superfluous', 'saddled', 'mack', 'zen', 'clooney', 'mann', 'erica', 'stanton', 'gracefully', 'yvonne', 'vargas', 'blur', 'inconsistency', 'melinda', 'luciano', 'yugoslavia', 'bosnia', 'drawback', 'projector', 'suburbs', 'retrospect', 'civilian', 'baldwin', 'earning', 'taller', 'mutants', 'cooler', 'electrifying', 'sabrina', 'wizards', 'aniston', 'cynicism', 'eighth', 'medication', 'hillbilly', 'bolivia', 'colman', 'convict', 'putrid', 'aubrey', 'developer', 'dolores', 'archer', 'gravitas', 'scotty', 'plump', 'healed', 'inhabits', 'thirds', 'kolchak', 'dizzy', 'personas', 'feds', 'scully', 'dots', 'bitterness', 'chun', 'tawdry', 'contents', 'skyscraper', 'perceptive', 'aquarium', 'subgenre', 'lined', 'melville', 'recommendable', 'stripping', 'haley', 'vulgarity', 'thrive', 'maze', 'assassinated', 'talkative', 'preconceived', 'hairstyles', 'harper', 'kristy', 'wisecracking', 'disposition', 'skips', 'salvador', 'pacifist', 'awaken', 'aladdin', 'klaus', 'centering', 'fagin', 'invaders', 'engrossed', 'breathtakingly', 'aman', 'conquered', 'porky', 'gaston', 'scruffy', 'raf', 'apostle', 'labute', 'reef', 'poachers', 'lillard', 'hildy', 'ffolkes', 'milian']\n",
            "\n",
            "Cluster 18\n",
            "['mj', 'doors', 'found', 'third', 'small', 'superior', 'european', 'keep', 'leads', 'disastrous', 'artsy', 'hills', 'primary', 'informer', 'quo', 'eats', 'referred', 'channel', 'painful', 'boot', 'price', 'becomes', 'believable', 'shallow', 'uncovering', 'tongue', 'hyped', 'anthology', 'vampire', 'failing', 'offers', 'dating', 'street', 'invites', 'sloppy', 'las', 'edie', 'liners', 'smells', 'requisite', 'limits', 'throws', 'lit', 'notable', 'punch', 'upbringing', 'everyman', 'missed', 'sailing', 'widescreen', 'alien', 'legally', 'nostalgic', 'solving', 'servants', 'choices', 'produced', 'banned', 'carmen', 'rivalry', 'wu', 'payoff', 'breakdown', 'reward', 'transpires', 'varied', 'web', 'trees', 'driving', 'rigid', 'apply', 'paula', 'safely', 'unto', 'exaggerated', 'josie', 'inserted', 'coherent', 'overused', 'freaking', 'newly', 'rhyme', 'improving', 'hal', 'mimi', 'skit', 'abraham', 'crispin', 'desolate', 'guaranteed', 'pee', 'chicks', 'outcome', 'prophecy', 'homeland', 'rightful', 'teaches', 'mexicans', 'executioner', 'comfort', 'linden', 'rocked', 'surfers', 'lethal', 'pa', 'hilary', 'therein', 'metaphor', 'mcmahon', 'sadness', 'devices', 'sociopath', 'winters', 'weaver', 'transcends', 'dalton', 'puppies', 'preceded', 'senses', 'devious', 'rebellion', 'cosby', 'darling', 'objective', 'partition', 'insistence', 'bribe', 'pow', 'columbia', 'impending', 'ambiguity', 'ripped', 'sponsored', 'ingmar', 'framed', 'premature', 'muscular', 'anita', 'venus', 'vets', 'saxon', 'unintelligible', 'shocks', 'gambler', 'akshay', 'pr', 'disappointments', 'villagers', 'heated', 'inappropriate', 'agencies', 'reign', 'gladly', 'agatha', 'painters', 'deborah', 'brendan', 'coma', 'stadium', 'societal', 'requests', 'programme', 'spills', 'dench', 'compose', 'strain', 'demme', 'gabrielle', 'stupendous', 'rips', 'tolerated', 'caucasian', 'cleaning', 'sant', 'bee', 'plants', 'tasks', 'copycat', 'insecure', 'aaron', 'shoving', 'jj', 'stepmother', 'offset', 'bambi', 'grounded', 'tunnels', 'aamir', 'embodies', 'frustratingly', 'mug', 'lil', 'psychedelic', 'santiago', 'coloring', 'expendable', 'spunky', 'greasy', 'lampoon', 'ness', 'tack', 'clare', 'boyhood', 'kessler', 'owing', 'skinheads', 'hairs', 'dizzying', 'spotting', 'overdose', 'zemeckis', 'beethoven', 'paolo', 'asses', 'hearst', 'cylons', 'rabbits', 'enid', 'jackhammer', 'picard', 'packard', 'neel', 'naina']\n",
            "\n",
            "Cluster 19\n",
            "['cool', 'make', 'that', 'afoul', 'provides', 'majority', 'violent', 'much', 'greatest', 'score', 'necks', 'brutally', 'less', 'christopher', 'comedian', 'worst', 'reagan', 'u', 'riff', 'neighbor', 'passage', 'artificially', 'berserk', 'typical', 'quirky', 'daphne', 'under', 'comedy', 'depressed', 'philosophical', 'reflects', 'attain', 'candy', 'kenneth', 'cringe', 'thomas', 'million', 'sorry', 'reminding', 'y', 'paris', 'brutal', 'nowhere', 'nicely', 'genuine', 'rosie', 'moved', 'rod', 'distraction', 'suggests', 'betrayal', 'vogue', 'machine', 'arrives', 'juvenile', 'southwest', 'forgot', 'square', 'awhile', 'persons', 'unexplained', 'convey', 'liberal', 'comedies', 'blame', 'cold', 'red', 'stepfather', 'coy', 'mccartney', 'sunday', 'sooooo', 'ideal', 'personal', 'claustrophobic', 'romances', 'storm', 'repellent', 'nigel', 'violin', 'rapists', 'cardboard', 'sole', 'republicans', 'prostitution', 'regain', 'arguing', 'nd', 'werewolves', 'attached', 'thoughtful', 'yo', 'arrived', 'marijuana', 'disinterested', 'complicated', 'understands', 'omen', 'enduring', 'paintings', 'neill', 'masterfully', 'philip', 'springer', 'surveillance', 'foxy', 'aztec', 'cloud', 'looney', 'err', 'shirley', 'indiana', 'filmmakers', 'painting', 'der', 'jews', 'rat', 'proprietor', 'mutual', 'receives', 'overbearing', 'meditation', 'arden', 'slime', 'noise', 'wet', 'mummy', 'bendix', 'cell', 'camel', 'babies', 'hillary', 'connect', 'inspirational', 'shady', 'brennan', 'edna', 'unemployed', 'fifth', 'dense', 'pretends', 'elisha', 'cuthbert', 'canal', 'depiction', 'chicago', 'victoria', 'graduated', 'desk', 'miriam', 'banana', 'droll', 'aiello', 'functioning', 'tactic', 'immoral', 'calibre', 'shakti', 'kapoor', 'pretense', 'cigarettes', 'earn', 'flavour', 'dodgy', 'shoots', 'deserving', 'persuasion', 'steamy', 'embracing', 'hideously', 'prettier', 'scrutiny', 'masochist', 'kidnappers', 'longest', 'boris', 'advertising', 'alternately', 'flavor', 'tested', 'wasps', 'shambles', 'researching', 'ren', 'rendition', 'reflection', 'spouting', 'justified', 'ga', 'scattered', 'antagonist', 'ricky', 'branches', 'shia', 'separated', 'wildlife', 'signed', 'albums', 'prints', 'advances', 'diversion', 'devils', 'infused', 'ranch', 'protected', 'prep', 'supremacy', 'generates', 'infinitely', 'personable', 'wasteland', 'cheeky', 'bishop', 'aunts', 'shapes', 'adopt', 'lifeboat', 'exit', 'thru', 'loach', 'florence', 'blasts', 'log', 'fruit', 'obstacle', 'mockery', 'spouts', 'links', 'borgnine', 'andre', 'conceivable', 'goodies', 'itv', 'upstairs', 'guerrilla', 'creeping', 'refreshingly', 'bava', 'paces', 'stacey', 'excite', 'attends', 'denied', 'criterion', 'lukewarm', 'ji', 'gillian', 'talbot', 'posed', 'romano', 'soulful', 'overdue', 'kaye', 'grover', 'parenting', 'ursula', 'weave', 'gardener', 'android', 'olivia', 'ott', 'vignette', 'roster', 'handyman', 'surrealism', 'exceeded', 'melted', 'leroy', 'jolson', 'clans', 'peyton', 'monotony', 'infatuated', 'aslan', 'gta', 'liner', 'almodovar', 'stealer', 'duk', 'duris']\n",
            "\n",
            "Cluster 20\n",
            "['odd', 'character', 'director', 'girl', 'be', 'dna', 'escape', 'exciting', 'vanessa', 'exploitation', 'several', 'friend', 'eastern', 'scripted', 'blockbuster', 'explodes', 'minute', 'done', 'seriously', 'pop', 'scope', 'raj', 'flawed', 'murder', 'edward', 'distance', 'hating', 'wow', 'tension', 'visions', 'burton', 'display', 'highly', 'boredom', 'helps', 'gothic', 'accepting', 'hated', 'skip', 'dare', 'knocked', 'ratings', 'recognition', 'breezy', 'odyssey', 'edge', 'doctor', 'bela', 'supernatural', 'revolting', 'students', 'dafoe', 'extended', 'ruin', 'reactions', 'smile', 'mere', 'erika', 'strangelove', 'identity', 'thriller', 'romero', 'disco', 'programmer', 'inner', 'flips', 'conformity', 'da', 'integrity', 'stones', 'justice', 'programs', 'worldly', 'bubble', 'amitabh', 'eagles', 'organized', 'matches', 'bret', 'occasion', 'department', 'quarter', 'chronicle', 'lasting', 'repression', 'fades', 'finer', 'carpet', 'vibrant', 'backstory', 'concert', 'jabba', 'struggle', 'tomb', 'knee', 'snatch', 'mobsters', 'corn', 'recommendation', 'description', 'playboy', 'yards', 'kudos', 'grain', 'fathers', 'irish', 'poet', 'portrait', 'bonus', 'theories', 'wore', 'ritchie', 'manipulating', 'contrasting', 'tavern', 'ghosts', 'tanks', 'seagal', 'cloak', 'insightful', 'debatable', 'symbolism', 'communicate', 'suicidal', 'federal', 'insurance', 'clumsily', 'suspended', 'mum', 'lore', 'individuals', 'strife', 'lectures', 'isabella', 'beware', 'ignores', 'johansson', 'acquired', 'concentrate', 'fated', 'punish', 'politics', 'wrestler', 'tire', 'finishes', 'israel', 'wendigo', 'charmed', 'haters', 'tail', 'fried', 'label', 'pendleton', 'companions', 'creepshow', 'dignified', 'ably', 'capt', 'farewell', 'prematurely', 'abbot', 'compensate', 'sticking', 'oddities', 'butchering', 'heinous', 'slips', 'fangs', 'circle', 'ineptness', 'illiterate', 'spacey', 'freudian', 'reginald', 'blocks', 'glib', 'basil', 'forgives', 'outlet', 'stardust', 'justine', 'sandwich', 'raines', 'wickedly', 'schumacher', 'units', 'imitate', 'surly', 'collects', 'sadism', 'rhames', 'wendell', 'yuki', 'riley', 'sheila', 'argentine', 'hemingway', 'grinch', 'patrons', 'umberto', 'leans', 'retrospective', 'addled', 'conroy', 'gabe', 'craving', 'contradicts', 'ridiculousness', 'lime', 'arabs', 'vegetarian', 'evaluation', 'registers', 'aloof', 'gilda', 'eastman', 'janie', 'obtained', 'triggered', 'jodhaa']\n",
            "\n",
            "Cluster 21\n",
            "['boring', 'wholesome', 'doing', 'provoking', 'academy', 'earlier', 'unsettling', 'oscar', 'debut', 'deserve', 'hoping', 'insipid', 'reviewer', 'unremarkable', 'cruel', 'basement', 'occasional', 'hepburn', 'agency', 'stereo', 'constantly', 'support', 'lorenzo', 'wang', 'statements', 'musical', 'disney', 'luggage', 'steady', 'catalogue', 'ages', 'finished', 'improvements', 'borrowed', 'drag', 'dawson', 'directs', 'kombat', 'lie', 'courage', 'gas', 'wounds', 'el', 'missing', 'navy', 'cameron', 'independent', 'media', 'squadron', 'respectively', 'pitched', 'straw', 'bear', 'putting', 'spirits', 'mexico', 'shines', 'wheel', 'bangs', 'surfer', 'careless', 'religion', 'destination', 'morning', 'definately', 'connections', 'struggling', 'renting', 'nurses', 'amber', 'duo', 'republican', 'tons', 'dried', 'preminger', 'behaving', 'throwaway', 'robertson', 'suspenseful', 'subversive', 'spoofs', 'roeg', 'attributed', 'virginia', 'achilles', 'behaviour', 'blamed', 'armored', 'daredevil', 'ariel', 'imaginative', 'shenanigans', 'reportedly', 'buffy', 'maggots', 'graphically', 'teaser', 'warrant', 'inherent', 'depp', 'bang', 'headache', 'impeccably', 'idol', 'nikita', 'spun', 'hoodlums', 'confirm', 'dogma', 'elders', 'mendoza', 'observed', 'tribe', 'matching', 'bogged', 'pacific', 'meetings', 'persistent', 'disposable', 'byron', 'orgy', 'chang', 'smirk', 'angelo', 'basinger', 'propelled', 'compromise', 'refrain', 'sen', 'grandiose', 'madame', 'expanding', 'brained', 'radioactive', 'durning', 'claustrophobia', 'hackers', 'macross', 'jumbo', 'swiftly', 'wook', 'extraneous', 'yanks', 'memento', 'rishi', 'evenings', 'yeoh', 'disturbs', 'bianca', 'kerrigan', 'derrida']\n",
            "\n",
            "Cluster 22\n",
            "['in', 'innocent', 'psychopathic', 'beyond', 'hmmm', 'stupid', 'tom', 'turns', 'restricted', 'pre', 'group', 'computer', 'turf', 'trashy', 'hooray', 're', 'fist', 'she', 'parents', 'fun', 'single', 'throughout', 'pat', 'american', 'tired', 'audience', 'lost', 'reference', 'portray', 'diverse', 'easter', 'intense', 'product', 'couple', 'miss', 'note', 'k', 'back', 'sequel', 'immediately', 'nose', 'together', 'imdb', 'likely', 'direction', 'ties', 'among', 'depressing', 'alive', 'available', 'riot', 'grueling', 'indulge', 'uncertain', 'viewers', 'luck', 'india', 'water', 'mclaglen', 'wacky', 'christians', 'dagger', 'campy', 'kill', 'easier', 'intrigued', 'authority', 'interest', 'souls', 'user', 'builds', 'rude', 'co', 'evening', 'realizes', 'ending', 'tragic', 'images', 'allegedly', 'packaging', 'late', 'respecting', 'buffoon', 'paced', 'margheriti', 'alan', 'sincerity', 'improved', 'random', 'chains', 'previews', 'morbid', 'relation', 'somebody', 'kingsley', 'magic', 'sword', 'storyline', 'pot', 'younger', 'infamous', 'incident', 'losing', 'trivia', 'spoof', 'baker', 'la', 'kevin', 'accidents', 'criticizing', 'coffee', 'overkill', 'preventing', 'martial', 'santa', 'granny', 'fairly', 'niece', 'willem', 'employee', 'embarrassed', 'muddled', 'abilities', 'spells', 'designed', 'dime', 'located', 'villains', 'trainspotting', 'epic', 'importance', 'implausible', 'selection', 'category', 'afford', 'beg', 'houses', 'prom', 'teenage', 'count', 'monica', 'bursts', 'library', 'howard', 'helicopter', 'delivery', 'energy', 'slip', 'summary', 'riding', 'folk', 'pessimistic', 'skin', 'confusing', 'weight', 'travel', 'books', 'heck', 'ineptitude', 'thin', 'undead', 'stand', 'authentic', 'helping', 'disease', 'arms', 'mutant', 'spent', 'lily', 'rebel', 'duck', 'widow', 'keeper', 'losses', 'saving', 'color', 'blade', 'edited', 'civil', 'mcdowell', 'search', 'arises', 'mixture', 'bounce', 'pair', 'et', 'ole', 'soulless', 'strokes', 'ol', 'democratic', 'leung', 'buys', 'sholay', 'satisfied', 'leo', 'biblical', 'mozart', 'express', 'throwing', 'issues', 'starship', 'recovering', 'notch', 'included', 'iran', 'eternal', 'briggs', 'palestinian', 'comical', 'reconciliation', 'excited', 'influence', 'interpretation', 'announces', 'idaho', 'randolph', 'executed', 'remorse', 'proposal', 'prefer', 'salute', 'dean', 'depth', 'stardom', 'troubling', 'conditions', 'camcorder', 'bothered', 'risible', 'higher', 'dramas', 'spectrum', 'billed', 'cam', 'wonders', 'champions', 'satisfactory', 'wallace', 'newspaper', 'benoit', 'savior', 'protagonist', 'baffled', 'doom', 'canoe', 'broadway', 'texture', 'hitch', 'gimmicky', 'siege', 'reynolds', 'charley', 'loretta', 'handedly', 'suits', 'exposes', 'uncompromising', 'admission', 'subsequently', 'stone', 'joplin', 'shotgun', 'gunfights', 'weapons', 'grim', 'caine', 'persuade', 'realist', 'auto', 'turturro', 'ganz', 'bush', 'preachy', 'underground', 'inter', 'snl', 'olivier', 'hobby', 'negative', 'jerky', 'nostalgia', 'seasons', 'elected', 'function', 'interminable', 'brits', 'dirt', 'cukor', 'precocious', 'frames', 'det', 'accused', 'unsavory', 'eden', 'inhabitants', 'lina', 'experimentation', 'cattle', 'masterwork', 'springs', 'tracks', 'regard', 'dwell', 'affects', 'reprehensible', 'dominates', 'grable', 'stray', 'narrator', 'grodin', 'mcgavin', 'forwards', 'destruction', 'posing', 'virgin', 'conceal', 'combine', 'appreciates', 'drivers', 'hint', 'arty', 'spelled', 'panther', 'erase', 'norton', 'geisha', 'fetched', 'nowadays', 'dominant', 'brilliance', 'encountering', 'responses', 'exposing', 'icy', 'hoodlum', 'framework', 'fourteen', 'composer', 'merits', 'prospect', 'appreciation', 'exhausting', 'conflicts', 'creeps', 'scathing', 'cassel', 'improve', 'flynn', 'pops', 'quit', 'minnesota', 'intricate', 'bakshi', 'taught', 'occur', 'cannon', 'forgive', 'discarded', 'cue', 'ft', 'ingenuity', 'yvette', 'psychiatric', 'june', 'meanings', 'hyper', 'frighten', 'knowingly', 'narratives', 'snobs', 'deliciously', 'grinning', 'pinnacle', 'employ', 'soccer', 'bedtime', 'vernon', 'relied', 'riots', 'tyne', 'pitfalls', 'privileged', 'societies', 'cheer', 'niro', 'simone', 'repeat', 'thrills', 'sillier', 'clouds', 'invent', 'henriksen', 'writes', 'caruso', 'items', 'mchugh', 'bronte', 'picturesque', 'revolving', 'avenger', 'thou', 'nightmares', 'shaft', 'recover', 'gerald', 'mason', 'ferry', 'homer', 'vacuum', 'raoul', 'conveniently', 'patronizing', 'erik', 'politicians', 'hires', 'eater', 'lumbering', 'products', 'psychopath', 'reckon', 'cheapest', 'exploitative', 'tease', 'cryptic', 'forgetting', 'poses', 'faceless', 'masala', 'blanks', 'allusions', 'geography', 'criticized', 'upbeat', 'historian', 'kahn', 'conniving', 'aesthetic', 'stoic', 'reluctantly', 'boob', 'drawings', 'unity', 'tepid', 'amos', 'kristin', 'terrorizing', 'schoolgirl', 'preserved', 'prague', 'coarse', 'transformed', 'occupy', 'duncan', 'shiny', 'mangled', 'rampant', 'benjamin', 'district', 'lift', 'avant', 'topped', 'useless', 'btw', 'daisies', 'ealing', 'lifting', 'starbuck', 'rounding', 'searches', 'weirdos', 'hapless', 'swinton', 'gentlemen', 'loony', 'cane', 'brute', 'barrier', 'snoop', 'fates', 'mutilation', 'turkish', 'mistakenly', 'eponymous', 'entered', 'roads', 'aggravating', 'reprising', 'nighttime', 'penguins', 'limelight', 'prelude', 'anniversary', 'pained', 'miracles', 'smashes', 'uninspiring', 'leopard', 'coyote', 'testament', 'assortment', 'recalled', 'thieves', 'additional', 'tiring', 'classify', 'penthouse', 'enforcer', 'anatomy', 'ewan', 'researcher', 'supplied', 'yearn', 'apes', 'sordid', 'approve', 'workings', 'unimportant', 'vicky', 'pasted', 'fallon', 'judgmental', 'spoofing', 'consumer', 'hugging', 'acknowledged', 'barf', 'acquaintances', 'defy', 'defining', 'mcintire', 'enlightening', 'february', 'toe', 'negatively', 'triumphant', 'hauer', 'ferocious', 'cheesiness', 'declaration', 'kenny', 'boman', 'files', 'brodie', 'athletes', 'deus', 'suggestive', 'swamp', 'risking', 'falsely', 'quicker', 'plotline', 'capitalize', 'sanctimonious', 'weaponry', 'tatum', 'snipes', 'quips', 'attendance', 'proclaims', 'abusing', 'sinclair', 'vh', 'stripes', 'capitalist', 'frequency', 'jar', 'doubles', 'wyoming', 'stared', 'completing', 'mish', 'circular', 'bona', 'napier', 'savini', 'aileen', 'rhonda', 'spoils', 'maestro', 'spray', 'ramble', 'contemplative', 'overt', 'talkies', 'asides', 'raider', 'rhapsody', 'tendencies', 'mk', 'illusions', 'newfound', 'perpetrated', 'powder', 'hectic', 'thematically', 'strikingly', 'tanner', 'bees', 'giorgio', 'raft', 'admitting', 'brightly', 'limb', 'conditioned', 'mist', 'selznick', 'flare', 'economical', 'healer', 'piggy', 'sensuality', 'treasures', 'russel', 'lapse', 'mercenary', 'flood', 'pentagon', 'kal', 'facet', 'reduces', 'burger', 'viet', 'silva', 'stephenson', 'hickock', 'backing', 'maury', 'solaris', 'toho', 'bannister', 'gila', 'fatty', 'yor', 'populate', 'ravaged', 'traci', 'bram', 'eel', 'ulmer', 'guffman', 'paulette', 'snowblood']\n",
            "\n",
            "Cluster 23\n",
            "['is', 'm', 'don', 'prey', 'television', 'superbly', 'judging', 'doesn', 'years', 'repair', 'gun', 'lead', 'central', 'mst', 'poor', 'today', 'last', 'joseph', 'hours', 'fx', 'nero', 'sign', 'writing', 'reflect', 'sides', 'stereotypes', 'sophia', 'brazil', 'distributor', 'weird', 'shirts', 'japanese', 'scared', 'unbiased', 'jackie', 'confusion', 'backs', 'evidence', 'spine', 'mistreated', 'coaster', 'attraction', 'nicknamed', 'betsy', 'befriends', 'questions', 'plentiful', 'disappoint', 'costumes', 'levels', 'twenty', 'deaths', 'vicki', 'party', 'locker', 'treats', 'shred', 'cleverness', 'span', 'thank', 'surprised', 'pitt', 'stopped', 'credited', 'research', 'outing', 'caves', 'waving', 'bethany', 'association', 'neutral', 'weakness', 'reminiscent', 'depicts', 'stretched', 'dropping', 'sports', 'corrupt', 'winona', 'ridden', 'bachchan', 'emily', 'promotion', 'riders', 'unfinished', 'dragon', 'continuity', 'sammo', 'kiddie', 'lieutenant', 'busy', 'fails', 'agreed', 'gable', 'basic', 'conservative', 'liu', 'herbie', 'loaded', 'faster', 'topics', 'exist', 'require', 'breast', 'poisoned', 'observe', 'suggesting', 'combination', 'carnage', 'seeks', 'nails', 'professionals', 'whichever', 'dug', 'ram', 'creator', 'admirable', 'shine', 'andrea', 'interested', 'hesitate', 'anchor', 'handicapped', 'confirms', 'occurred', 'solution', 'dynamite', 'blackmail', 'phenomenon', 'pfeiffer', 'extremes', 'ustinov', 'miserably', 'cosmo', 'graves', 'schtick', 'perplexing', 'hut', 'torch', 'enemies', 'assumption', 'sonny', 'bath', 'loudly', 'polish', 'crocodile', 'recalls', 'imo', 'collide', 'adopted', 'los', 'lunch', 'bettany', 'tougher', 'touched', 'compete', 'khan', 'neal', 'reeks', 'romy', 'wolverine', 'rousing', 'revolutionary', 'daly', 'communicating', 'trace', 'cyborgs', 'grandfather', 'inhabited', 'shakespearean', 'pia', 'dreyfuss', 'morricone', 'discount', 'scandinavian', 'comics', 'mysticism', 'scarecrows', 'jumbled', 'norris', 'waited', 'gregory', 'wonderland', 'patients', 'lawless', 'combs', 'rewarding', 'improv', 'trail', 'neatly', 'convicts', 'clunky', 'patty', 'fading', 'cheered', 'takashi', 'atypical', 'arnie', 'dreamer', 'paresh', 'stretches', 'diplomat', 'smartly', 'danning', 'tattoo', 'betray', 'verbal', 'sadie', 'lyle', 'nicer', 'waldemar', 'blessing', 'dinosaur', 'emoting', 'dexter', 'deluise', 'isabelle', 'swordsman', 'natali', 'butter', 'vacuous', 'gyllenhaal', 'illustrate', 'pantoliano', 'advertisement', 'claws', 'debates', 'honour', 'raiders', 'selfishness', 'abiding', 'repercussions', 'cum', 'enthusiast', 'tightrope', 'stupider', 'choking', 'gathers', 'hostages', 'violet', 'skeleton', 'hattie', 'dianne', 'hinting', 'harmful', 'friel', 'sherman', 'garson', 'attackers', 'della', 'vi', 'garr']\n",
            "\n",
            "Cluster 24\n",
            "['people', 'those', 'comes', 'perceive', 'anything', 'strikes', 'particular', 'slaughtered', 'god', 'shamelessly', 'said', 'tries', 'supposed', 'tears', 'replace', 'urge', 'celebrity', 'software', 'article', 'mom', 'priority', 'notion', 'homophobic', 'mouths', 'wolf', 'exceptionally', 'daytime', 'inspire', 'marcus', 'raise', 'apart', 'wb', 'dollars', 'announced', 'inferior', 'cents', 'knife', 'joins', 'ghost', 'hanging', 'forty', 'lindsay', 'cases', 'memories', 'damage', 'bodies', 'sisters', 'furry', 'reasonably', 'holmes', 'moody', 'applying', 'nights', 'vermont', 'rejected', 'wipes', 'pond', 'drunk', 'sepia', 'budding', 'dust', 'unclear', 'ashley', 'scum', 'academic', 'clancy', 'purest', 'filling', 'kinda', 'kilter', 'eileen', 'vaguely', 'rambling', 'pine', 'spends', 'incidental', 'collect', 'dublin', 'commander', 'stanley', 'ethical', 'committee', 'wiped', 'traffic', 'fondness', 'folly', 'stature', 'manipulate', 'villa', 'surpassed', 'meaty', 'package', 'burr', 'dickens', 'toole', 'fellows', 'pixar', 'exorcism', 'knack', 'bloodbath', 'irrelevant', 'sidekicks', 'refusing', 'linklater', 'qualms', 'bonds', 'sleeps', 'crust', 'cherished', 'decoration', 'devotion', 'digs', 'believers', 'surgical', 'declining', 'spectators', 'tackling', 'riddled', 'muppet', 'encompasses', 'emil', 'glorify', 'loan', 'punctuated', 'louisiana', 'redford', 'emilio', 'elm', 'farrelly', 'pap', 'dwelling', 'magnetic', 'gizmo', 'blindness', 'scripture', 'ncis', 'exiting', 'sneaky', 'scoring', 'characterisations', 'rife', 'opting', 'danika']\n",
            "\n",
            "Cluster 25\n",
            "['jackson', 'me', 't', 'g', 'slightest', 'meanwhile', 'stars', 'blood', 'angel', 'disaster', 'nonsensical', 'dialogs', 'lifts', 'little', 'translates', 'avoid', 'gender', 'mad', 'purposes', 'didactic', 'lesson', 'ok', 'buy', 'mainstream', 'rave', 'awful', 'veil', 'major', 'fists', 'loving', 'assorted', 'grand', 'wait', 'quick', 'rip', 'church', 'maligned', 'narration', 'rare', 'lamarr', 'disgusting', 'duped', 'five', 'boss', 'features', 'chuckle', 'turner', 'unbearable', 'hunting', 'treat', 'ward', 'spoil', 'starred', 'amazingly', 'puberty', 'simmons', 'pass', 'silk', 'awesome', 'shaky', 'backlash', 'nuclear', 'addicts', 'employer', 'highlight', 'horton', 'suck', 'image', 'cancelled', 'performs', 'reasonable', 'spending', 'wendy', 'subplots', 'horny', 'seven', 'lacking', 'attract', 'techno', 'vocal', 'baddies', 'meeting', 'classics', 'spontaneously', 'subsequent', 'awarded', 'marred', 'lois', 'mankind', 'russian', 'aristocracy', 'scale', 'lesser', 'favor', 'ring', 'personality', 'fierce', 'goldsmith', 'boston', 'shocking', 'steiner', 'hitchcock', 'concern', 'dillon', 'desperation', 'conned', 'stubborn', 'shifting', 'palpable', 'recognize', 'hackman', 'blacks', 'nightclub', 'suburbia', 'popped', 'mormons', 'scheme', 'eh', 'mon', 'edgy', 'fest', 'tapes', 'projection', 'adulterous', 'dreary', 'praying', 'snoopy', 'legends', 'crosses', 'finding', 'ross', 'terrorism', 'sadistic', 'assumes', 'attribute', 'mastered', 'cinematographic', 'eagerly', 'evidently', 'gestures', 'kisses', 'spaceship', 'mcdonald', 'creaky', 'rises', 'bureau', 'bittersweet', 'roth', 'crowning', 'canon', 'arguments', 'herbert', 'amicus', 'wolfe', 'valentine', 'enforcement', 'hopping', 'excrement', 'motorcycle', 'loyal', 'agnes', 'mischief', 'marching', 'exploiting', 'evelyn', 'lads', 'wimpy', 'limp', 'puri', 'landed', 'communists', 'aimlessly', 'arena', 'chatter', 'plotted', 'firmly', 'premises', 'sofa', 'janeane', 'hellman', 'informative', 'tent', 'seventh', 'wayward', 'crowded', 'concrete', 'leaning', 'corbin', 'banging', 'referring', 'frantic', 'hamill', 'suave', 'slipping', 'fry', 'blinded', 'jelly', 'equality', 'repulsive', 'indulging', 'metaphysical', 'strode', 'earliest', 'carlos', 'crane', 'gino', 'fraser', 'crusty', 'automatic', 'deftly', 'selves', 'mal', 'elton', 'ava', 'differs', 'prepares', 'stricken', 'dungeon', 'highlighting', 'scorcese', 'dirk', 'focal', 'stained', 'upright', 'storylines', 'ajay', 'vignettes', 'certificate', 'polarisdib', 'behaviors', 'comrades', 'tribulations', 'debris', 'leary', 'abject', 'varma', 'broadcasts', 'tapped', 'escalating', 'giggle', 'archetype', 'rankin', 'ida', 'quickie', 'hagen', 'versatility', 'idealist', 'underplayed', 'priyanka', 'peel', 'wongo', 'claudius', 'huppert', 'deodato', 'moviegoer', 'rv', 'fincher', 'boop', 'oberoi', 'keating']\n",
            "\n",
            "Cluster 26\n",
            "['subtle', 'have', 'version', 'human', 'raising', 'kids', 'exposure', 'valuable', 'liked', 'adam', 'sandler', 'capote', 'based', 'simpsons', 'summer', 'unfortunately', 'repeatedly', 'stranger', 'problems', 'cemetery', 'toward', 'overuse', 'thrown', 'happening', 'indian', 'speaks', 'uncanny', 'macabre', 'baron', 'illustrates', 'pace', 'poem', 'august', 'wandering', 'hired', 'paltrow', 'operas', 'spot', 'discussing', 'appearance', 'fooled', 'mainly', 'involves', 'filthy', 'afraid', 'advanced', 'plane', 'bits', 'handle', 'formula', 'tycoon', 'entranced', 'idiot', 'pertwee', 'possessed', 'funniest', 'perennial', 'encouraged', 'inspired', 'code', 'beneath', 'places', 'link', 'tighter', 'card', 'blind', 'word', 'system', 'scientist', 'irony', 'nausea', 'preferably', 'accepted', 'rainer', 'cannibals', 'horrifying', 'sketches', 'jim', 'scenarios', 'grew', 'pirates', 'melodies', 'brewster', 'electricity', 'audio', 'irritating', 'trials', 'elsewhere', 'roughly', 'similarity', 'unscrupulous', 'favourites', 'correct', 'retired', 'incidentally', 'ageing', 'teaching', 'shock', 'july', 'forbidden', 'rose', 'shocked', 'matured', 'wong', 'knightley', 'cook', 'dancer', 'bold', 'devilish', 'conviction', 'scoop', 'duke', 'stopping', 'meek', 'oppressive', 'stayed', 'opposed', 'faux', 'tunes', 'screwed', 'diva', 'journalists', 'hunters', 'inmates', 'pirate', 'hunky', 'akin', 'appearing', 'oral', 'revive', 'excels', 'thirst', 'wai', 'announcing', 'skelton', 'grey', 'factors', 'sid', 'unscathed', 'exploding', 'pakistani', 'les', 'noirish', 'volumes', 'bombing', 'allegorical', 'defined', 'assumptions', 'spits', 'passionate', 'angelic', 'stab', 'ears', 'unsuspecting', 'harmless', 'greek', 'illusion', 'poking', 'fuller', 'reservation', 'virtual', 'charging', 'myths', 'marisa', 'parasite', 'composers', 'pecker', 'dreamy', 'illustrated', 'rang', 'understatement', 'environments', 'adolescence', 'romanticism', 'maniac', 'punishment', 'malone', 'reconstruction', 'barred', 'curve', 'zoo', 'foray', 'sh', 'griffin', 'unemotional', 'divide', 'elementary', 'opponents', 'reliance', 'hays', 'religions', 'crawls', 'specials', 'gambling', 'cassie', 'unthinkable', 'supply', 'define', 'voorhees', 'houston', 'bsg', 'sympathise', 'chopra', 'underestimated', 'villainess', 'rawal', 'callahan', 'falcon', 'sunglasses', 'gunfighter', 'puerto', 'lombardi', 'patently', 'melvin', 'introspective', 'shunned', 'tolkien', 'shoulder', 'shifted', 'bandit', 'checks', 'dot', 'fridge', 'annoys', 'interpreted', 'pics', 'imagines', 'textbook', 'cent', 'animations', 'cement', 'gi', 'moralizing', 'sneaks', 'ensuring', 'emergency', 'downer', 'telephone', 'outtakes', 'exchanged', 'richie', 'pocket', 'strut', 'sade', 'exhibition', 'arrange', 'hoyt', 'underwritten', 'fathom', 'fortress', 'unstoppable', 'dtv', 'stephens', 'malibu', 'titans', 'stresses', 'negatives', 'truthfully', 'claudia', 'tremors', 'seeds', 'wallow', 'lenny', 'connell', 'limo', 'drastic', 'currie', 'plumber', 'pinhead', 'audie', 'filtered', 'cottage', 'rudy', 'vinod', 'mallory', 'heartbroken', 'gibbs', 'jang']\n",
            "\n",
            "Cluster 27\n",
            "['the', 'feature', 'nice', 'pesci', 'performing', 'line', 'dangerous', 'effects', 'generator', 'gory', 'from', 'somewhere', 'any', 'serious', 'siblings', 'dubbed', 'twist', 'appropriate', 'acting', 'techniques', 'montages', 'touching', 'right', 'designer', 'dives', 'known', 'yeah', 'handled', 'strong', 'green', 'climate', 'existence', 'intrusive', 'go', 'steve', 'island', 'survivors', 'these', 'normal', 'difficult', 'beautiful', 'caricature', 'visuals', 'release', 'draw', 'insult', 'catastrophe', 'insults', 'votes', 'castle', 'screenwriters', 'fractured', 'movement', 'via', 'coverage', 'breathtaking', 'stories', 'involve', 'block', 'virtuous', 'jealousy', 'dinner', 'degenerates', 'succeed', 'bash', 'grin', 'nearly', 'hangover', 'stroke', 'thumbs', 'deeply', 'witnessed', 'todd', 'renegade', 'missile', 'micheal', 'zombie', 'dudley', 'bizarre', 'lying', 'lions', 'herein', 'loyalty', 'ingenious', 'incapable', 'undeniably', 'triumphs', 'leader', 'hardship', 'jet', 'adaptations', 'viewpoints', 'haunted', 'chosen', 'guts', 'swear', 'proceedings', 'metaphors', 'moviegoers', 'angela', 'beside', 'tag', 'husbands', 'swords', 'guessed', 'towers', 'confession', 'sunshine', 'apartment', 'recruit', 'veers', 'tactics', 'conan', 'historic', 'beckinsale', 'peer', 'recognised', 'hayden', 'disclaimer', 'bergman', 'painter', 'sprawling', 'truths', 'worship', 'bourne', 'stargate', 'sith', 'cd', 'repulsion', 'masters', 'harder', 'shops', 'sarne', 'heartless', 'atkins', 'retard', 'prodigy', 'lyrics', 'fill', 'excruciatingly', 'carefully', 'duval', 'peripheral', 'sleepless', 'chalk', 'seek', 'proceeded', 'soft', 'orphan', 'milieu', 'shootouts', 'brighter', 'operate', 'collaborations', 'ocean', 'sexes', 'seth', 'banner', 'invasion', 'splash', 'sellers', 'vomiting', 'relentless', 'rail', 'subtly', 'gruff', 'overrated', 'sacred', 'economic', 'borderline', 'terminator', 'thrilled', 'goat', 'panache', 'bandits', 'inconsequential', 'service', 'headquarters', 'samuel', 'twin', 'francois', 'identifiable', 'pencil', 'heist', 'irrational', 'mannered', 'masculinity', 'ratio', 'hosts', 'vinci', 'wednesday', 'cooks', 'races', 'overseas', 'interlude', 'stallion', 'chaplin', 'coal', 'elliot', 'secure', 'henderson', 'gandalf', 'hypnotic', 'eliminating', 'videotape', 'skillful', 'foil', 'badge', 'manuscript', 'blvd', 'rouge', 'confuses', 'uncertainty', 'alexandra', 'engines', 'predominantly', 'tearing', 'hayworth', 'feather', 'hustle', 'foch', 'wrestlers', 'braindead', 'bots', 'investigates', 'binoche', 'throwback', 'hypnosis', 'sigourney', 'rehearsals', 'reinforced', 'lump', 'devastation', 'cheech', 'psychos', 'sooner', 'misfit', 'unlimited', 'cristina', 'abundant', 'drowns', 'portraits', 'clocks', 'housekeeper', 'groom', 'mattered', 'launch', 'wool', 'salma', 'romantically', 'unwanted', 'shriek', 'waterfall', 'budgetary', 'copying', 'tautou', 'dialouge', 'informed', 'singapore', 'contradictory', 'retread', 'sociological', 'idiosyncratic', 'spiral', 'remarked', 'execute', 'charitable', 'belts', 'conte', 'irving', 'shand', 'precursor', 'dusk', 'untold', 'fiends', 'gidget', 'blacktop']\n",
            "\n",
            "Cluster 28\n",
            "['i', 'for', 'off', 'closed', 'brian', 'appropriately', 'lurid', 'mommy', 'structure', 'black', 'gets', 'crew', 'ignorant', 'uses', 'champagne', 'editing', 'c', 'dubbing', 'club', 'minister', 'bullet', 'series', 'now', 'appeal', 'jerry', 'sf', 'factor', 'eyes', 'celebrates', 'nomination', 'lame', 'sit', 'live', 'unseen', 'logic', 'robbery', 'betrays', 'disrespect', 'lover', 'alluring', 'menace', 'jake', 'branagh', 'means', 'further', 'surprisingly', 'cost', 'punished', 'living', 'memory', 'cat', 'eddie', 'stalker', 'flaws', 'morgan', 'devil', 'contains', 'news', 'echo', 'sheridan', 'em', 'brain', 'paranoid', 'rehearsal', 'hamilton', 'lisa', 'queen', 'ready', 'stabbing', 'affected', 'arnold', 'dispose', 'piercing', 'organs', 'complaint', 'chill', 'subdued', 'motif', 'splitting', 'shaggy', 'hooked', 'hippy', 'confidence', 'feminine', 'impress', 'pointlessly', 'sitcom', 'chain', 'drooling', 'lighter', 'skeletons', 'daniel', 'mini', 'backed', 'freddie', 'respected', 'positively', 'loves', 'juxtaposition', 'replete', 'widower', 'featurette', 'bounces', 'styles', 'nina', 'incomprehensible', 'dom', 'shipping', 'polly', 'reluctant', 'guard', 'hewitt', 'branch', 'improvise', 'companion', 'bikini', 'slaughter', 'notices', 'crack', 'engine', 'dropped', 'somber', 'corpses', 'stevenson', 'devoted', 'donna', 'nuances', 'shane', 'rome', 'tripe', 'observes', 'ample', 'lends', 'rampage', 'lunatic', 'mythology', 'neat', 'ferrell', 'burst', 'bernard', 'collaboration', 'excitement', 'pays', 'bennett', 'morris', 'plea', 'pregnancy', 'heights', 'assist', 'reno', 'monarch', 'lifted', 'brigitte', 'cinemascope', 'noble', 'nanny', 'sideways', 'deviant', 'musically', 'activities', 'adrian', 'garbo', 'denominator', 'gretchen', 'zu', 'spewing', 'overblown', 'bug', 'feast', 'seduction', 'ballad', 'ernie', 'chavez', 'parting', 'bread', 'investigated', 'meticulously', 'orphanage', 'bank', 'lapd', 'denies', 'attracted', 'raid', 'airwolf', 'warp', 'versatile', 'drifts', 'lurking', 'sect', 'uniformly', 'coen', 'bred', 'conscious', 'bombed', 'barbra', 'phillip', 'actioner', 'idyllic', 'solved', 'garnered', 'personified', 'laputa', 'abu', 'remaining', 'lows', 'caprica', 'expanded', 'commando', 'socially', 'dilemmas', 'tyrant', 'instructions', 'encouraging', 'drain', 'sirk', 'celine', 'invading', 'churn', 'judged', 'squire', 'skinned', 'grandma', 'genesis', 'glimpses', 'tempted', 'communion', 'powerhouse', 'scariest', 'whim', 'denial', 'inmate', 'specialized', 'singularly', 'slayer', 'reborn', 'undeserved', 'speeds', 'pipe', 'irritated', 'lopez', 'personnel', 'grammar', 'traditionally', 'edmund', 'contributing', 'accented', 'lila', 'gadgets', 'babbling', 'whistle', 'humility', 'retro', 'hess', 'coated', 'malle', 'pact', 'topper', 'brokeback', 'closes', 'raging', 'exiled', 'egyptian', 'forte', 'cough', 'pope', 'largest', 'haneke', 'forged', 'gould', 'touchy', 'savages', 'erotica', 'fetus', 'doodle', 'merge', 'gabin', 'kisna', 'clayburgh', 'taj']\n",
            "\n",
            "Cluster 29\n",
            "['or', 'message', 'michael', 'powerful', 'either', 'bigger', 'rating', 'song', 'stuck', 'gratuitous', 'lot', 'suddenly', 'short', 'instead', 'listen', 'clear', 'shelves', 'surprising', 'interrupted', 'dismiss', 'work', 'professional', 'battle', 'prevent', 'franchise', 'hear', 'idea', 'abyss', 'consider', 'military', 'jr', 'turn', 'aren', 'madly', 'lining', 'describe', 'office', 'affleck', 'thinking', 'realistically', 'essentially', 'lifestyle', 'invisible', 'snakes', 'grow', 'weakest', 'detectives', 'civilians', 'pure', 'jealous', 'melissa', 'shoe', 'legacy', 'guns', 'francis', 'swift', 'vamp', 'wasted', 'imitations', 'breathes', 'rocker', 'centres', 'creators', 'fictitious', 'rice', 'exhibits', 'rosario', 'portrays', 'wedding', 'quaid', 'fake', 'com', 'horrific', 'zombi', 'cannibalistic', 'tracked', 'emphasis', 'flying', 'aimed', 'liking', 'reminded', 'invade', 'unoriginal', 'mental', 'wives', 'downtown', 'outward', 'st', 'jeremy', 'lane', 'harold', 'mild', 'trilogy', 'translated', 'slim', 'wrote', 'yrs', 'bitter', 'test', 'paths', 'horses', 'prestigious', 'rape', 'crawford', 'drums', 'commended', 'client', 'timing', 'kate', 'goldie', 'automatically', 'identical', 'uttering', 'rocky', 'ilk', 'naval', 'diaz', 'bicycle', 'featured', 'cloth', 'comedians', 'tortures', 'rope', 'keira', 'domino', 'unwatchable', 'misleading', 'woodward', 'rehearsed', 'caron', 'toons', 'symbol', 'distribution', 'groove', 'cole', 'congratulations', 'dumped', 'insists', 'trips', 'lair', 'feed', 'chooses', 'goofs', 'boundaries', 'muse', 'mummies', 'laura', 'shares', 'sparks', 'mccoy', 'periods', 'demanded', 'puppet', 'wally', 'inducing', 'nailed', 'knees', 'matters', 'stir', 'stabbed', 'dame', 'percy', 'widowed', 'vin', 'whimsical', 'punks', 'progressively', 'buzz', 'boyfriends', 'airline', 'murray', 'mc', 'blanket', 'empathise', 'demonstrating', 'vulnerability', 'plainly', 'darryl', 'existential', 'formulas', 'distracts', 'eyre', 'canadians', 'sensitively', 'screwing', 'eternity', 'troma', 'mick', 'cousins', 'ninth', 'topical', 'wherein', 'plutonium', 'wayans', 'bikes', 'elegantly', 'euro', 'boil', 'kaufman', 'embedded', 'avengers', 'zach', 'freshly', 'envy', 'cube', 'pyramid', 'marsha', 'garde', 'contempt', 'fairytale', 'metropolitan', 'casino', 'parliament', 'cater', 'cautious', 'rita', 'orwell', 'pointing', 'brotherhood', 'avail', 'screamed', 'resurrected', 'toughest', 'altman', 'tires', 'howe', 'evolution', 'independence', 'nagging', 'employment', 'professionally', 'maurice', 'dumpster', 'distasteful', 'muddy', 'anthropologist', 'sheltered', 'theodore', 'alarm', 'programming', 'stash', 'faded', 'dork', 'sewell', 'bey', 'countess', 'whispering', 'glorified', 'manhood', 'overs', 'roddy', 'herrings', 'issued', 'pantomime', 'promos', 'tragically', 'affections', 'bending', 'omg', 'unsurprisingly', 'johns', 'shield', 'grasping', 'populace', 'vortex', 'trey', 'awaits', 'hawks', 'starsky', 'mein', 'responded', 'utilize', 'fischer', 'offices', 'myrtle', 'sync', 'scanners', 'loathsome', 'donen', 'rodman', 'reinhold']\n",
            "\n",
            "Cluster 30\n",
            "['listening', 'documentary', 'joe', 'working', 'out', 'bell', 'center', 'didn', 'lush', 'your', 'survive', 'sea', 'naturally', 'exuberant', 'manner', 'works', 'drill', 'yes', 'remembered', 'fine', 'gunga', 'ability', 'spoilers', 'equally', 'progresses', 'ruined', 'cable', 'assassination', 'hong', 'demand', 'join', 'worry', 'glory', 'spectacular', 'anxious', 'fiasco', 'dress', 'oliver', 'crushed', 'internal', 'warped', 'talking', 'global', 'attempted', 'knows', 'shows', 'underneath', 'clash', 'showdown', 'heaven', 'bats', 'chef', 'massacre', 'cbc', 'drove', 'jimmy', 'purist', 'pressure', 'sir', 'spawned', 'maureen', 'z', 'creek', 'benevolent', 'yu', 'associates', 'policy', 'documentaries', 'nolte', 'ford', 'posturing', 'pg', 'chip', 'delay', 'triple', 'robbed', 'mildred', 'hammer', 'timeless', 'ali', 'indelible', 'deputy', 'tangible', 'rightly', 'exceptions', 'fee', 'collins', 'hammy', 'lingers', 'sunlight', 'simplest', 'vince', 'infant', 'succumb', 'fortunately', 'offended', 'unravel', 'hearted', 'sleuth', 'distinctly', 'madonna', 'casts', 'spelling', 'derivative', 'newer', 'trailers', 'robust', 'midgets', 'sack', 'hinted', 'ghastly', 'wallach', 'inherently', 'colonel', 'norman', 'limitations', 'purposefully', 'jacket', 'hues', 'midway', 'gaping', 'lamp', 'transported', 'gibson', 'scarecrow', 'gallery', 'landau', 'deco', 'railway', 'margo', 'cloying', 'overtly', 'session', 'whitaker', 'dreamed', 'kinnear', 'episodic', 'nemo', 'heiress', 'winkler', 'pierce', 'beans', 'phoebe', 'abused', 'removing', 'continuously', 'baffling', 'dual', 'mice', 'scheming', 'subtitled', 'mcqueen', 'collapsed', 'breakout', 'rooftop', 'oddity', 'defended', 'binder', 'spider', 'illinois', 'calvin', 'lizard', 'noah', 'cheapness', 'incongruous', 'mounted', 'mastermind', 'passive', 'ropes', 'requiring', 'insensitive', 'julius', 'graced', 'resent', 'smokes', 'havilland', 'removes', 'silverman', 'airs', 'grinding', 'shaq', 'tens', 'amato', 'circulation', 'channing', 'reserve', 'katt', 'adamson', 'karaoke', 'bogarde', 'araki']\n",
            "\n",
            "Cluster 31\n",
            "['all', 'watched', 'think', 'secret', 'other', 'moments', 'way', 'mountain', 'andrews', 'unfolding', 'incredibly', 'cheesy', 'looked', 'blow', 'through', 'unfathomable', 'jones', 'brother', 'saw', 'horror', 'disturbing', 'wars', 'day', 'events', 'mention', 'refuses', 'investigating', 'attitude', 'activity', 'empire', 'am', 'compared', 'both', 'allow', 'vote', 'faced', 'staying', 'portraying', 'plug', 'handful', 'lighting', 'attempt', 'france', 'mathieu', 'demanding', 'crisp', 'daughter', 'flaw', 'locate', 'cambodia', 'networks', 'maggie', 'roll', 'presents', 'free', 'help', 'ridicules', 'clean', 'solid', 'profanity', 'sensual', 'ham', 'pictures', 'assembly', 'tramp', 'cgi', 'logo', 'revel', 'amount', 'destroy', 'hypocritical', 'safe', 'justin', 'rotting', 'warming', 'perry', 'merit', 'began', 'strict', 'gained', 'mistakes', 'unlike', 'phillips', 'technique', 'brainless', 'sr', 'ignore', 'combat', 'belong', 'begun', 'disgruntled', 'karen', 'commented', 'marsh', 'participants', 'engaging', 'pushed', 'hysterical', 'recipe', 'tests', 'caring', 'cab', 'keeler', 'seymour', 'enjoyment', 'introduction', 'quirks', 'jump', 'bros', 'lend', 'rko', 'shoes', 'marion', 'allen', 'undergoes', 'spin', 'acknowledge', 'regal', 'sleaze', 'beggars', 'robotic', 'correctly', 'majestic', 'discovery', 'wielding', 'situated', 'dispute', 'beetle', 'henchman', 'decrepit', 'monitors', 'nuff', 'sooo', 'minimum', 'slide', 'grease', 'pyun', 'treason', 'reinforce', 'nickelodeon', 'denouement', 'europe', 'innate', 'glass', 'attendant', 'victorian', 'hadn', 'beta', 'hendrix', 'appeals', 'clues', 'bana', 'essence', 'squirm', 'curry', 'admired', 'dam', 'admirer', 'wheelchair', 'fabric', 'click', 'goldsworthy', 'pierre', 'eleven', 'furlong', 'histrionic', 'symbols', 'hilariously', 'straightforward', 'indictment', 'stupidity', 'badass', 'lest', 'rapport', 'terence', 'walsh', 'richness', 'foreman', 'containing', 'repressed', 'circles', 'psyche', 'culprit', 'commonplace', 'trevor', 'borrows', 'earthquake', 'sibling', 'witless', 'sweeps', 'ana', 'diving', 'deniro', 'charmer', 'hungry', 'mama', 'dictator', 'fencing', 'marina', 'coast', 'mixes', 'satanic', 'explicitly', 'tobacco', 'recognizes', 'shades', 'prot', 'failings', 'crystal', 'footsteps', 'nations', 'laying', 'amidst', 'oxygen', 'file', 'degradation', 'dishes', 'excuses', 'cain', 'sheds', 'unease', 'fired', 'iv', 'filmic', 'financially', 'communications', 'approached', 'queue', 'mcconaughey', 'foxes', 'unwilling', 'rancid', 'bells', 'observer', 'hangs', 'berenger', 'wales', 'wanders', 'tucci', 'burnett', 'tracy', 'depraved', 'breeding', 'mesmerizing', 'pronounced', 'horizon', 'safety', 'affable', 'plastered', 'cheers', 'franchot', 'frustrating', 'shamefully', 'restraint', 'tripping', 'excess', 'percentage', 'boxed', 'overload', 'fidel', 'diaries', 'edinburgh', 'disingenuous', 'visibly', 'armies', 'conform', 'mermaid', 'sickness', 'reds', 'mcdowall', 'poignancy', 'weirdest', 'starved', 'martinez', 'smacks', 'prequels', 'impoverished', 'recalling', 'unassuming', 'unprecedented', 'ferguson', 'vault', 'ditsy', 'sparkling', 'profane', 'shortage', 'dev', 'susie', 'romasanta', 'minghella']\n",
            "\n",
            "Cluster 32\n",
            "['going', 'you', 'may', 'bit', 'lots', 'spielberg', 'chills', 'full', 'reacting', 'john', 'reading', 'text', 'seen', 'review', 'towel', 'reason', 'mouth', 'breasts', 'astronauts', 'broadcast', 'showing', 'claims', 'breaking', 'order', 'cultural', 'cast', 'anthony', 'number', 'emotions', 'ben', 'quiet', 'sounds', 'hand', 'seconds', 'carrie', 'footage', 'cary', 'style', 'position', 'sudden', 'settings', 'claim', 'distinction', 'woke', 'kristen', 'long', 'night', 'pulled', 'permanent', 'perform', 'ounce', 'charisma', 'myself', 'deserves', 'eerie', 'keeping', 'priceless', 'translation', 'figures', 'explain', 'lungs', 'productive', 'suggest', 'stage', 'sadly', 'nonsense', 'types', 'blaine', 'harsh', 'unmistakable', 'sally', 'randall', 'craven', 'competition', 'intentionally', 'breed', 'claus', 'raunchy', 'hurts', 'mistress', 'ugh', 'defines', 'chilling', 'jay', 'reuben', 'stretch', 'haunt', 'properly', 'debra', 'parties', 'dreadful', 'resembling', 'craft', 'timid', 'faces', 'destroyed', 'thinks', 'hi', 'grapes', 'stiles', 'giddy', 'carefree', 'confrontation', 'tear', 'subtitles', 'prototype', 'hollow', 'technology', 'progress', 'aided', 'coach', 'assigned', 'harvest', 'wronged', 'wwi', 'plucky', 'dignity', 'tackles', 'youngest', 'cities', 'destiny', 'electric', 'awake', 'immense', 'voters', 'batch', 'combined', 'con', 'underbelly', 'outfit', 'dilapidated', 'innovative', 'frenchman', 'abundance', 'cinderella', 'aims', 'cher', 'verge', 'progression', 'joined', 'rodney', 'vile', 'hole', 'compositions', 'freddy', 'grab', 'hillbillies', 'dragged', 'sandra', 'acceptance', 'optimism', 'scholars', 'nicky', 'reverse', 'grief', 'approaches', 'outcast', 'nathan', 'heap', 'devastating', 'seattle', 'published', 'maxwell', 'rethink', 'underdog', 'butch', 'realized', 'threesome', 'odds', 'reversal', 'closing', 'hoods', 'pounding', 'boats', 'guitar', 'fools', 'goof', 'bootleg', 'dub', 'worrying', 'lands', 'token', 'cartoonish', 'pets', 'stalwart', 'inconsistencies', 'terrain', 'greg', 'businessman', 'absurdly', 'anguish', 'dash', 'screenplays', 'hale', 'paco', 'whimsy', 'hotels', 'crying', 'gathering', 'construction', 'sorcery', 'mile', 'generate', 'cub', 'kentucky', 'saturated', 'biopic', 'wicker', 'egan', 'cancel', 'saddest', 'unfolded', 'superstar', 'access', 'mainland', 'swallowed', 'dazzling', 'bloodshed', 'arkin', 'bricks', 'ape', 'stabs', 'photograph', 'delightfully', 'payment', 'famously', 'inconvenient', 'motel', 'olympic', 'aura', 'demographic', 'hammered', 'corporate', 'endlessly', 'docudrama', 'seated', 'amsterdam', 'colin', 'manifest', 'qualified', 'communication', 'miner', 'metropolis', 'unwittingly', 'shrews', 'bless', 'timely', 'compulsive', 'concocted', 'respective', 'shortened', 'rendering', 'reverend', 'sitcoms', 'crashed', 'grail', 'progressive', 'franklin', 'gap', 'county', 'blatantly', 'meanders', 'periodically', 'barking', 'guiding', 'twisting', 'sorely', 'compensation', 'poitier', 'belgium', 'resistance', 'sanjay', 'duration', 'carroll', 'neglects', 'adoption', 'reacts', 'nacho', 'cracker', 'bothers', 'viii', 'artemisia', 'pad', 'gilbert', 'adviser', 'searched', 'province', 'muriel', 'grants', 'darwin', 'prolonged', 'ambulance', 'musketeers', 'rubin', 'andie', 'bookstore', 'judas', 'biographical', 'lassie', 'junkie', 'gr', 'wallop', 'harbor', 'trendy', 'ohio', 'overtones', 'tinted', 'betrayed', 'heavies', 'katharine', 'digitally', 'wink', 'barman', 'darcy', 'afterward', 'outweigh', 'satanist', 'profoundly', 'saget', 'consume', 'tenant', 'whoa', 'remaking', 'pursued', 'cord', 'founder', 'sizes', 'competently', 'balloon', 'fares', 'farther', 'schmidt', 'malta', 'burying', 'column', 'gaudy', 'accomplishes', 'cheery', 'cock', 'ark', 'hellraiser', 'outta', 'harassed', 'cheerleaders', 'pluto', 'decadence', 'shaved', 'wellington', 'blackadder', 'chico', 'kara', 'frederick', 'unsuccessfully', 'mcg', 'crichton', 'roberta', 'gypo', 'footloose', 'jovovich', 'ember', 'nukie', 'nobile']\n",
            "\n",
            "Cluster 33\n",
            "['down', 'into', 'eighties', 'cinema', 'bunch', 'another', 'buddy', 'everyone', 'enter', 'hardly', 'furthermore', 'quite', 'running', 'filmed', 'ideas', 'ate', 'took', 'clearly', 'clip', 'featuring', 'uniforms', 'match', 'overlong', 'mentor', 'minority', 'chiller', 'camera', 'botched', 'p', 'josef', 'meticulous', 'perspective', 'humanity', 'glued', 'constructed', 'credibility', 'relive', 'member', 'drivel', 'deserved', 'nude', 'overly', 'ways', 'eva', 'relative', 'reels', 'silent', 'unusual', 'paying', 'expect', 'absurd', 'fly', 'producing', 'canceled', 'schedule', 'noir', 'disappeared', 'uncredited', 'hatcher', 'weak', 'awe', 'shoot', 'universal', 'warned', 'crowds', 'edition', 'kitchen', 'detached', 'colors', 'cheering', 'cars', 'disgusted', 'cave', 'ear', 'eyeball', 'opinions', 'bat', 'divorced', 'cleverly', 'jason', 'telly', 'packed', 'sinks', 'senior', 'childhood', 'ruthlessly', 'spanish', 'outdated', 'leisurely', 'synthesizer', 'hunter', 'sounded', 'unreal', 'arabia', 'election', 'costume', 'lindsey', 'finesse', 'guides', 'cleaned', 'breaks', 'celebrities', 'strictly', 'grates', 'rohmer', 'backdrop', 'sentimentality', 'tortured', 'pamela', 'mcgee', 'shootings', 'suckers', 'strangest', 'elves', 'redundant', 'greedy', 'dope', 'pornographic', 'homosexual', 'vague', 'jovi', 'coroner', 'obstacles', 'credentials', 'workplace', 'dominating', 'dee', 'preston', 'custer', 'forrest', 'aroused', 'lay', 'depict', 'patton', 'mumbling', 'wander', 'minds', 'external', 'wray', 'uma', 'elevates', 'innuendo', 'disappearing', 'csi', 'milligan', 'escapades', 'invested', 'comprehensive', 'beforehand', 'schindler', 'terminal', 'errol', 'copies', 'successor', 'verdict', 'magnolia', 'yadda', 'tango', 'officially', 'emerged', 'vu', 'doses', 'forwarding', 'fleming', 'separates', 'indifference', 'picky', 'tricks', 'crews', 'dichotomy', 'butcher', 'rebels', 'champ', 'natives', 'beast', 'corbett', 'innovation', 'kiddies', 'oneself', 'macy', 'mystic', 'draft', 'veidt', 'reiser', 'chimps', 'amityville', 'gwyneth', 'plagiarism', 'depression', 'pretend', 'occupation', 'demonstrated', 'dedication', 'gracie', 'holm', 'kin', 'guidance', 'mans', 'jaded', 'troublesome', 'slant', 'summon', 'schwartzman', 'attire', 'pink', 'vikings', 'affectionate', 'dental', 'lad', 'scars', 'longs', 'slot', 'illicit', 'declined', 'lowly', 'bewilderment', 'comically', 'compliments', 'sneering', 'beaches', 'lookalike', 'tailor', 'groucho', 'goodfellas', 'measured', 'tormented', 'dive', 'groaning', 'pioneer', 'eliot', 'commend', 'gates', 'webster', 'consent', 'muscles', 'unfaithful', 'remembering', 'steiger', 'esoteric', 'jeffery', 'rubbing', 'coins', 'ouch', 'chairman', 'jacob', 'tuning', 'mechanics', 'privates', 'vivacious', 'hobbit', 'theatrically', 'presidents', 'barkin', 'duchess', 'lumiere', 'blurry', 'deserts', 'umbrella', 'turks', 'rwanda', 'novello', 'detest', 'dolphins', 'kitano', 'elfen', 'ghai']\n",
            "\n",
            "Cluster 34\n",
            "['whether', 'messages', 'course', 'wants', 'robot', 'planet', 'very', 'obviously', 'recreate', 'everything', 'easy', 'giving', 'gore', 'attack', 'picture', 'previous', 'representation', 'stages', 'provided', 'unusually', 'script', 'local', 'accent', 'preposterous', 'got', 'grossly', 'taking', 'ship', 'gather', 'individually', 'religious', 'unexpected', 'aged', 'matrix', 'shot', 'linear', 'worth', 'happened', 'nor', 'transforms', 'manage', 'reflected', 'attacking', 'swashbuckler', 'cannot', 'received', 'enjoyable', 'afterwards', 'term', 'arthur', 'hesitation', 'period', 'subjects', 'yourself', 'older', 'chance', 'slowly', 'profile', 'accident', 'roles', 'severe', 'segal', 'accomplice', 'farcical', 'oops', 'generous', 'lives', 'signal', 'transfer', 'supposedly', 'crappy', 'pills', 'reasons', 'stops', 'portrayals', 'dracula', 'premiered', 'stein', 'cathy', 'jed', 'woronov', 'capable', 'technical', 'boobs', 'nominated', 'mature', 'enthusiasm', 'overplayed', 'shouting', 'mantegna', 'cheating', 'catches', 'ironside', 'oozing', 'values', 'expectation', 'buscemi', 'bach', 'zombies', 'bright', 'gate', 'beat', 'pearl', 'chest', 'fulci', 'skill', 'corpse', 'burn', 'refers', 'nintendo', 'opportunity', 'durbin', 'elegant', 'everybody', 'vietnam', 'heading', 'pilot', 'boomer', 'beatles', 'pseudonym', 'landmark', 'secular', 'prosecutor', 'reviewed', 'leno', 'nuts', 'relevant', 'buttons', 'pupils', 'malcolm', 'tower', 'gorilla', 'chunk', 'hung', 'leaves', 'adorable', 'trap', 'larry', 'chips', 'billing', 'abomination', 'demonstration', 'continuous', 'utilizing', 'professor', 'injured', 'alfred', 'chanting', 'satan', 'horrendously', 'brief', 'lincoln', 'racer', 'spacek', 'friendship', 'survival', 'alas', 'texas', 'homeless', 'smashed', 'alcoholism', 'trademark', 'storytelling', 'classy', 'fluffy', 'adequate', 'pieced', 'voodoo', 'warners', 'burns', 'filth', 'roberto', 'flashing', 'courts', 'murphy', 'darth', 'channeling', 'sixties', 'breakfast', 'affecting', 'drastically', 'opener', 'ladder', 'busted', 'cena', 'speeches', 'pile', 'noses', 'pimps', 'region', 'decapitation', 'performed', 'singin', 'equals', 'sufficient', 'surf', 'usa', 'customers', 'volunteer', 'wary', 'ensues', 'palance', 'responsibilities', 'diane', 'keaton', 'shelley', 'innocents', 'sean', 'robots', 'ventures', 'deplorable', 'cliches', 'exaggeration', 'posh', 'confessions', 'doomed', 'drowning', 'existing', 'narrating', 'airport', 'stupidest', 'viable', 'option', 'contrasted', 'tabloid', 'dared', 'muscle', 'premiere', 'hop', 'focused', 'ton', 'spout', 'vapid', 'reader', 'construct', 'sons', 'solutions', 'restoration', 'revelation', 'grader', 'humdrum', 'practice', 'equivalent', 'oates', 'gunpoint', 'creatures', 'wei', 'thankless', 'ultra', 'conversations', 'engagement', 'constance', 'uttered', 'ambiguous', 'worldwide', 'subway', 'chic', 'pesky', 'ideally', 'bogus', 'bates', 'coincidences', 'scorsese', 'compassion', 'intestines', 'goody', 'philosopher', 'attachment', 'gwen', 'experimental', 'misogyny', 'exploited', 'fields', 'documented', 'hobgoblins', 'om', 'confronting', 'insignificant', 'thankful', 'phenomena', 'gage', 'benny', 'combining', 'scam', 'cavemen', 'openly', 'thrust', 'shooter', 'sloppily', 'lures', 'attentions', 'makings', 'nap', 'ennio', 'mesmerized', 'maudlin', 'captive', 'undeniable', 'sleeping', 'billionaire', 'editors', 'deciding', 'hmm', 'mpaa', 'orange', 'mills', 'busby', 'garfield', 'wakes', 'flashes', 'perez', 'gunplay', 'usage', 'regrettably', 'tchaikovsky', 'ronnie', 'edith', 'swell', 'tolerant', 'potato', 'townsend', 'phones', 'extraordinarily', 'chandler', 'catalyst', 'zinta', 'motive', 'alonso', 'convention', 'patchy', 'intact', 'sleeve', 'wash', 'handing', 'caroline', 'antagonists', 'mcclure', 'travelogue', 'strains', 'sporadic', 'levi', 'parade', 'renewed', 'effectiveness', 'embodied', 'wires', 'pastor', 'boasting', 'uber', 'marshal', 'biz', 'unnerving', 'dour', 'loosing', 'newhart', 'immigration', 'dune', 'intimidating', 'wreak', 'plagued', 'detractors', 'enraged', 'poland', 'vertigo', 'panned', 'aspire', 'sadder', 'ichi', 'jima', 'flags', 'saucy', 'cromwell', 'vows', 'spiritually', 'fixation', 'locking', 'shah', 'bs', 'stems', 'novarro', 'chickens', 'governor', 'offenders', 'passionately', 'loathing', 'hallways', 'jeez', 'coolest', 'gasping', 'elaine', 'incorporate', 'lupino', 'prizes', 'lindy', 'macarthur', 'nuance', 'lobster', 'explorers', 'unrealistically', 'lunacy', 'smarts', 'outcasts', 'frat', 'beggar', 'amendment', 'globalization', 'kenya', 'ussr', 'mckee', 'oswald', 'freezing', 'ode', 'harpo', 'censor', 'excused', 'bateman', 'moscow', 'gator', 'pinocchio', 'hauntingly', 'bondi', 'carriage', 'gruner', 'dutt', 'gaul']\n",
            "\n",
            "Cluster 35\n",
            "['maybe', 'get', 'ever', 'rate', 'shortcomings', 'mate', 'though', 'goods', 'scenes', 'george', 'babe', 'sing', 'piece', 'bo', 'quest', 'explains', 'completely', 'll', 'headed', 'exception', 'performance', 'social', 'fed', 'played', 'low', 'take', 'oscars', 'synthetic', 'modest', 'tea', 'presented', 'longed', 'son', 'stumbled', 'intend', 'explanation', 'grown', 'remark', 'show', 'saying', 'mother', 'imitation', 'josh', 'mentioning', 'power', 'teen', 'comprised', 'misfortune', 'satisfying', 'highlander', 'presentation', 'lawyer', 'might', 'charming', 'vinyl', 'stills', 'enchanting', 'feels', 'hands', 'paranoia', 'freaks', 'broken', 'settle', 'wagon', 'failed', 'commentary', 'missionary', 'villain', 'picnic', 'anne', 'elvira', 'pushing', 'tie', 'louis', 'horribly', 'edit', 'combines', 'recall', 'games', 'resentment', 'graphic', 'renaissance', 'hbo', 'bare', 'immediate', 'compliment', 'type', 'viewpoint', 'bravery', 'appalling', 'gunshots', 'improbable', 'instrument', 'wrath', 'squandered', 'scores', 'paint', 'unprofessional', 'causes', 'chief', 'prompted', 'upper', 'wilson', 'similarly', 'hannibal', 'variety', 'disjointed', 'relates', 'machinations', 'fool', 'sheriff', 'pole', 'impossible', 'ppv', 'reversed', 'crowe', 'instinct', 'heyday', 'dragons', 'controversy', 'blah', 'impersonating', 'vivid', 'finest', 'prevalent', 'impresses', 'jonathon', 'attitudes', 'erratic', 'grandmother', 'varying', 'paradise', 'mirrors', 'gesture', 'launched', 'boyfriend', 'cradle', 'bandwagon', 'noticed', 'mickey', 'injustice', 'freedom', 'abusive', 'round', 'vonnegut', 'fulfilling', 'pam', 'chases', 'listens', 'merlin', 'outfits', 'authenticity', 'spain', 'justify', 'vaudeville', 'devised', 'mostel', 'warehouse', 'quintessential', 'hindi', 'connery', 'vanity', 'exhausted', 'trend', 'wholeheartedly', 'deepest', 'ostensibly', 'stan', 'riveting', 'adequately', 'similarities', 'silently', 'walter', 'dashing', 'locals', 'faris', 'subtleties', 'sleek', 'fort', 'mumbles', 'unconvincing', 'scotland', 'ought', 'tax', 'dentist', 'alley', 'administration', 'consumption', 'historically', 'wealthy', 'lamb', 'ellen', 'steaming', 'potent', 'deja', 'bonding', 'marrying', 'lubitsch', 'sarah', 'agents', 'marx', 'kubrick', 'charts', 'learnt', 'protests', 'tainted', 'meal', 'urges', 'eraserhead', 'traumatic', 'savalas', 'dan', 'hallmark', 'spoilt', 'gullible', 'singles', 'framing', 'repeating', 'hayes', 'gee', 'golf', 'license', 'recorded', 'expresses', 'isolated', 'ripper', 'silverstone', 'virginal', 'unconscious', 'wallet', 'beaver', 'spotlight', 'redeems', 'circa', 'decorated', 'duplicate', 'rack', 'squeaky', 'species', 'dome', 'predecessors', 'resembled', 'biker', 'coping', 'murky', 'indistinguishable', 'gimmicks', 'wound', 'marvin', 'commandos', 'sensitivity', 'tread', 'earns', 'tacky', 'discern', 'miyazaki', 'increases', 'helpless', 'dun', 'acid', 'businesses', 'provoke', 'laws', 'auntie', 'prompts', 'speeding', 'sobbing', 'recite', 'identification', 'sundance', 'anton', 'derive', 'reserved', 'hunts', 'maude', 'forbid', 'truer', 'connolly', 'gus', 'hordes', 'baywatch', 'dunaway', 'fearful', 'maniacs', 'roar', 'cola', 'brawl', 'brats', 'chaney', 'lowbrow', 'likability', 'pratfalls', 'unacceptable', 'tombstone', 'junkies', 'olin', 'concerts', 'guevara', 'benicio', 'miners', 'referential', 'tt', 'sway', 'wherever', 'rents', 'elder', 'englund', 'goldblum', 'busting', 'bastards', 'perversion', 'jayne', 'diet', 'newton', 'gladys', 'cillian', 'sica', 'retelling', 'alabama', 'fargo', 'taliban', 'assailant', 'winslet', 'lister', 'trashed', 'invents', 'libby', 'speculation', 'camerawork', 'beijing', 'collaborator', 'spellbound', 'poirot', 'dixie', 'jc', 'boldly', 'beck', 'bubblegum', 'solar', 'arranges', 'boyz', 'neville', 'confrontations', 'kellogg', 'eleniak', 'culp', 'farmhouse', 'naish', 'cabot', 'berger', 'sobieski', 'ricco']\n",
            "\n",
            "Cluster 36\n",
            "['has', 'grace', 'wells', 'fare', 'entertained', 'seem', 'lousy', 'praised', 'tenor', 'white', 'dirty', 'related', 'cameo', 'zone', 'nonexistent', 'climbs', 'blew', 'loneliness', 'kinky', 'couch', 'walk', 'confess', 'stealing', 'waking', 'offered', 'foster', 'sue', 'redneck', 'diana', 'signing', 'sickening', 'ignored', 'specifically', 'impatient', 'invariably', 'sludge', 'student', 'maris', 'hoffman', 'psychologist', 'nonstop', 'x', 'crash', 'ordeal', 'fail', 'ketchup', 'deprived', 'adventures', 'described', 'expensive', 'suggested', 'muni', 'age', 'exploit', 'approaching', 'williams', 'effective', 'fifteen', 'relate', 'indication', 'selma', 'doo', 'mac', 'undoubtedly', 'rehash', 'substance', 'abound', 'triad', 'generated', 'bollywood', 'bulb', 'agenda', 'censored', 'manchu', 'mat', 'haunting', 'flashback', 'rubber', 'handsome', 'jaw', 'pokes', 'causing', 'hindsight', 'sidewalk', 'marks', 'shaking', 'kissing', 'cease', 'skywalker', 'wrestling', 'irons', 'operation', 'eyeballs', 'insanity', 'woeful', 'drift', 'elite', 'complement', 'precision', 'accompanying', 'drafted', 'trade', 'complain', 'swears', 'snappy', 'additionally', 'forties', 'caesar', 'ivy', 'prisoner', 'steer', 'watts', 'routinely', 'spock', 'chess', 'del', 'studying', 'motives', 'underrated', 'sophistication', 'rats', 'unappealing', 'testimony', 'strip', 'vincenzo', 'stunningly', 'sections', 'harlow', 'nest', 'torment', 'dread', 'faking', 'mismatched', 'respectable', 'gathered', 'blackmailed', 'bettie', 'chops', 'tastefully', 'floors', 'relaxed', 'jackman', 'ching', 'shrek', 'cynic', 'heels', 'mock', 'indicated', 'zelah', 'stud', 'swings', 'rangers', 'skeptical', 'dane', 'discernible', 'philosophies', 'rediscovered', 'vol', 'extinct', 'acclaim', 'matin', 'plains', 'sensibility', 'wider', 'gen', 'bowl', 'smell', 'lsd', 'swordplay', 'presley', 'nastiness', 'hopper', 'fixing', 'passport', 'bores', 'repulsed', 'priests', 'ebert', 'dictionary', 'fullest', 'accepts', 'glove', 'enlisted', 'differently', 'expansion', 'willingness', 'liquid', 'debating', 'stripper', 'shelly', 'condescending', 'closeup', 'opted', 'grudge', 'unravels', 'recognizing', 'swept', 'atheist', 'sturges', 'kira', 'retirement', 'boyd', 'django', 'infuriating', 'gloriously', 'montgomery', 'enigma', 'towering', 'solitude', 'lulu', 'castellari', 'pleasance', 'scroll', 'trolls', 'fingerprints', 'addams', 'reused', 'prisons', 'dink', 'paddy', 'latifah', 'mcewan', 'withers', 'graf', 'swann', 'vivek', 'aldrich', 'elwood', 'amira']\n",
            "\n",
            "Cluster 37\n",
            "['really', 'film', 'animal', 'mediocre', 'james', 'ill', 'dealing', 'needs', 'change', 'keeps', 'smoking', 'dvd', 'teacher', 'private', 'bullies', 'portrayed', 'asking', 'wise', 'rugged', 'cutter', 'maria', 'paul', 'person', 'synopsis', 'plenty', 'asked', 'numerous', 'non', 'nicholson', 'barbara', 'secondly', 'evocative', 'ivory', 'lowest', 'unrealistic', 'bogdanovich', 'recommended', 'speakers', 'axe', 'plus', 'penned', 'cliched', 'months', 'ensemble', 'elderly', 'serene', 'myers', 'fashions', 'charlie', 'memorial', 'creating', 'beth', 'complexity', 'gunslinger', 'produce', 'fable', 'infantile', 'thief', 'bag', 'abandon', 'f', 'percent', 'tells', 'reunite', 'displays', 'demi', 'ruins', 'compelling', 'reached', 'britney', 'existent', 'cage', 'train', 'demise', 'humiliation', 'necessity', 'knocking', 'luckily', 'harem', 'nine', 'cleaner', 'uneven', 'ruthless', 'caps', 'sidekick', 'dustin', 'merely', 'obligation', 'prince', 'blowing', 'evolved', 'deeds', 'braveheart', 'pas', 'praises', 'unforgettable', 'outlaw', 'remained', 'owner', 'mamie', 'continental', 'nutshell', 'mines', 'dreaming', 'expressing', 'hasn', 'widmark', 'drew', 'juice', 'transformation', 'sharpe', 'tips', 'moderately', 'fewer', 'cerebral', 'toes', 'hopeless', 'sells', 'coup', 'lemmon', 'kitty', 'naomi', 'crooks', 'reyes', 'westerns', 'medieval', 'heartfelt', 'electronics', 'pals', 'april', 'resourceful', 'schoolboy', 'cans', 'dramatized', 'stripped', 'perpetrator', 'pit', 'jumping', 'defence', 'vent', 'participant', 'registered', 'retaining', 'button', 'detour', 'abrupt', 'toronto', 'smack', 'accolades', 'finch', 'cleveland', 'izo', 'fenn', 'introverted', 'dallas', 'programmes', 'equipment', 'massively', 'sewer', 'radar', 'dubious', 'nipples', 'corporation', 'profits', 'meals', 'downside', 'deceived', 'gina', 'esp', 'suffice', 'implausibility', 'ahem', 'strathairn', 'roommate', 'dismal', 'serials', 'rescues', 'journeys', 'fighters', 'excesses', 'fetish', 'ada', 'incomparable', 'tasty', 'guinness', 'fabricated', 'contributions', 'dogg', 'significance', 'duds', 'sanitized', 'decor', 'dislikes', 'travis', 'controls', 'critically', 'petition', 'bubbles', 'occult', 'establishing', 'commenter', 'gomez', 'compilation', 'transplant', 'applegate', 'declares', 'jen', 'pauline', 'exploring', 'fanny', 'sasha', 'hari', 'oozes', 'squid', 'hiring', 'plummer', 'schwimmer', 'sweaty', 'sesame', 'fangoria', 'tel', 'adele', 'sweep', 'revisit', 'sacrificing', 'pork', 'exercises', 'scorn', 'pleasence', 'casper', 'coronation', 'hutch', 'chabrol', 'dv', 'sturdy', 'satyricon', 'accompaniment', 'catastrophic', 'swank', 'inuyasha', 'horsemen', 'sayles', 'starcraft']\n",
            "\n",
            "Cluster 38\n",
            "['directors', 'camilla', 'during', 'mine', 'tv', 'preparing', 'consistently', 'pointless', 'edwards', 'reach', 'empty', 'hugo', 'return', 'distributed', 'come', 'enjoy', 'frightening', 'expectations', 'knowing', 'winning', 'growing', 'duty', 'clever', 'brains', 'pedigree', 'compelled', 'including', 'says', 'glasses', 'masterful', 'boom', 'mid', 'clown', 'cheaper', 'halfway', 'model', 'dwarf', 'revolutionaries', 'russo', 'recognise', 'hence', 'fugitive', 'stable', 'frequently', 'austen', 'glue', 'jock', 'fooling', 'favorites', 'booker', 'en', 'czech', 'celebrate', 'grip', 'wasting', 'scantily', 'jodie', 'gamut', 'padded', 'trusting', 'dove', 'inexperienced', 'entries', 'stress', 'suitcase', 'roaring', 'tomei', 'captors', 'sorrow', 'dreaded', 'lighthouse', 'displeasure', 'address', 'joking', 'vistas', 'monroe', 'aide', 'uncommon', 'disgrace', 'characterisation', 'obsessive', 'artful', 'burnt', 'shepard', 'miniature', 'traveler', 'everytime', 'sultan', 'bullied', 'firth', 'mushy', 'alias', 'marple', 'acquaintance', 'zucco', 'multiplex', 'courtship', 'devgan', 'creeped', 'humming', 'imaginary', 'harilal', 'kher', 'decipher', 'joyous', 'concentrated', 'papillon', 'ammo', 'annabelle', 'rig', 'nene']\n",
            "\n",
            "Cluster 39\n",
            "['talented', 'primal', 'astounding', 'appear', 'questionable', 'jordan', 'still', 'genitals', 'fled', 'coincidentally', 'time', 'walken', 'own', 'waiter', 'comparison', 'used', 'road', 'looking', 'end', 'stiff', 'company', 'career', 'protecting', 'plunge', 'wing', 'sale', 'helped', 'jamie', 'elizabeth', 'theatrical', 'remind', 'advise', 'dorothy', 'arrangements', 'tale', 'visits', 'recent', 'twists', 'tbs', 'station', 'actresses', 'blurb', 'macdonald', 'heroine', 'massachusetts', 'teens', 'scott', 'city', 'accomplished', 'cooper', 'mischievous', 'wrapped', 'honored', 'push', 'dumping', 'managed', 'property', 'immensely', 'veiled', 'paper', 'caliber', 'enemy', 'rushing', 'severely', 'recruited', 'sent', 'depictions', 'coolness', 'tony', 'burning', 'razor', 'gripping', 'strained', 'selling', 'meyers', 'celebrating', 'overview', 'utah', 'boys', 'monstrosity', 'technically', 'colorful', 'nemesis', 'cos', 'popcorn', 'spread', 'lip', 'orthodox', 'desperately', 'tommy', 'buster', 'helplessness', 'confinement', 'tricked', 'warts', 'protect', 'boiler', 'aid', 'wrapping', 'send', 'bully', 'norway', 'erupts', 'infatuation', 'bombs', 'snapshot', 'menjou', 'fassbinder', 'irritate', 'starr', 'greta', 'fosse', 'hilt', 'aristocratic', 'bra', 'shadowy', 'oblivion', 'beauties', 'capacity', 'helmet', 'randy', 'inform', 'angelina', 'ella', 'behaved', 'potion', 'misery', 'policies', 'pauly', 'disturbingly', 'kareena', 'mar', 'alienated', 'unstable', 'guarded', 'quantity', 'rachael', 'uncomfortably', 'anticipated', 'bu', 'lotr', 'hicks', 'oriental', 'rapper', 'acrobatic', 'aborted', 'loot', 'girlfriends', 'autobiographical', 'brolin', 'forefront', 'vinny', 'mil', 'hubby', 'whack', 'spaces', 'impulse', 'reincarnated', 'squirrel', 'inventions', 'africans', 'indestructible', 'heaps', 'bitchy', 'gripped', 'inserting', 'kibbee', 'aykroyd', 'whitney', 'regions', 'bluth', 'turkeys', 'rickman', 'ugliness', 'benchmark', 'indoors', 'korda', 'untouchables', 'sorority', 'engineered', 'jensen', 'kristel', 'puck', 'nanon']\n",
            "\n",
            "Cluster 40\n",
            "['here', 'high', 'earth', 'occasionally', 'leaden', 'sequences', 'fred', 'did', 'tell', 'preaching', 'calling', 'worthless', 'actress', 'flock', 'laugh', 'mercifully', 'record', 'vital', 'trapped', 'supporter', 'apocalyptic', 'abominable', 'shooting', 'sexual', 'atmospheric', 'lesbian', 'whose', 'fontaine', 'adventure', 'recently', 'laughing', 'walking', 'eliza', 'titles', 'richard', 'helena', 'loser', 'assured', 'helen', 'bomb', 'boy', 'utter', 'pranks', 'force', 'cw', 'lamas', 'pleasure', 'prevented', 'huge', 'asian', 'likable', 'veteran', 'community', 'overboard', 'caught', 'anyways', 'modicum', 'collapses', 'involvement', 'opposites', 'differences', 'julia', 'colombian', 'counted', 'statement', 'evolve', 'lower', 'homosexuality', 'emerges', 'marvelous', 'goo', 'backyard', 'bay', 'mitchum', 'revival', 'elaborated', 'consequences', 'someplace', 'blonde', 'university', 'splatter', 'abstract', 'shannon', 'archie', 'ludicrous', 'measure', 'cheerleader', 'responsible', 'adversity', 'streets', 'jennifer', 'vet', 'armed', 'refugee', 'vendetta', 'belief', 'beliefs', 'uh', 'rory', 'spinal', 'mothers', 'understandably', 'crouching', 'relatives', 'kazan', 'infectious', 'housewives', 'composed', 'valid', 'sterile', 'spit', 'leagues', 'dopey', 'vocabulary', 'sophisticated', 'imagined', 'frankenstein', 'transformers', 'lifeless', 'rosanna', 'joanna', 'camping', 'revere', 'taxi', 'latino', 'weir', 'whore', 'lock', 'headstrong', 'olympia', 'efficiency', 'brooding', 'wed', 'damian', 'launching', 'abbey', 'tiresome', 'groups', 'converted', 'faked', 'hearty', 'regretted', 'yourselves', 'kerry', 'banter', 'mugging', 'aloud', 'coaching', 'johnnie', 'rusty', 'jeep', 'wire', 'reduce', 'poured', 'enthralled', 'enlist', 'flirt', 'solo', 'tide', 'temperature', 'rundown', 'escaped', 'sheesh', 'lineup', 'hideout', 'poisoning', 'carlson', 'respects', 'brigade', 'parking', 'hailed', 'ruffalo', 'jeanne', 'xavier', 'mortality', 'ailing', 'usher', 'alba', 'tibet', 'harshness', 'incorporates', 'differ', 'pig', 'reconsider', 'eaters', 'communities', 'troy', 'si', 'rewrite', 'feces', 'pang', 'evoking', 'thunderbirds', 'toto', 'admiring', 'amnesia', 'intruder', 'bigotry', 'una', 'tnt', 'sailor', 'balances', 'pleading', 'astronaut', 'zelda', 'oldman', 'deluded', 'jam', 'cues', 'magnitude', 'har', 'nosed', 'thespian', 'regiment', 'sledgehammer', 'bums', 'shyamalan', 'olga', 'capone', 'advancing', 'tongues', 'robs', 'ambassador', 'contrivances', 'siodmak', 'au', 'lelouch', 'missy', 'gram', 'outback', 'mukherjee']\n",
            "\n",
            "Cluster 41\n",
            "['thought', 'an', 'timothy', 'agent', 'dangling', 'rhys', 'represented', 'ritual', 'seemingly', 'presumably', 'something', 'chase', 'laurence', 'moss', 'dull', 'fisted', 'schemes', 'contrived', 'victim', 'between', 'sexy', 'middle', 'thirty', 'jude', 'believably', 'letters', 'self', 'driven', 'wonderfully', 'hell', 'somehow', 'proving', 'entirely', 'trousers', 'themes', 'overcome', 'literally', 'cabin', 'issue', 'silliest', 'preacher', 'records', 'eating', 'shue', 'reads', 'pouring', 'crafted', 'costuming', 'realize', 'eddy', 'cassandra', 'gravity', 'annoying', 'establish', 'core', 'aircraft', 'stock', 'apparent', 'uk', 'grateful', 'homages', 'fianc', 'spitting', 'reply', 'matthau', 'cute', 'redeeming', 'maiden', 'funnier', 'foolishly', 'v', 'empathy', 'eighty', 'daughters', 'novice', 'arch', 'monday', 'abysmal', 'active', 'seals', 'market', 'massey', 'insect', 'murders', 'stunt', 'deck', 'fully', 'indulgent', 'occurring', 'suspicious', 'complained', 'disgraceful', 'caligula', 'waitress', 'hospital', 'resulted', 'account', 'separate', 'bands', 'bait', 'switch', 'experiencing', 'forehead', 'nancy', 'screening', 'salesman', 'devoid', 'winding', 'pryor', 'laden', 'seasoned', 'cried', 'mixing', 'california', 'fawcett', 'upside', 'dealer', 'dolls', 'uncovers', 'thread', 'wry', 'bumps', 'censorship', 'bewildered', 'wishes', 'warfare', 'holden', 'overdone', 'gaps', 'maid', 'exquisitely', 'travelling', 'lagoon', 'packaged', 'feared', 'perception', 'tends', 'trish', 'chagrin', 'offering', 'thereby', 'coward', 'papa', 'concede', 'flames', 'substitute', 'peach', 'eighteen', 'bagdad', 'diamonds', 'whip', 'salacious', 'cohorts', 'julian', 'trivial', 'eliminate', 'humphrey', 'explosives', 'colleague', 'citizens', 'slumming', 'responsibility', 'linda', 'emulate', 'pales', 'comparatively', 'embittered', 'nbc', 'seinfeld', 'gross', 'lombard', 'lace', 'characterizations', 'arc', 'madcap', 'watson', 'kit', 'slapstick', 'wont', 'follower', 'jagger', 'starters', 'foundation', 'manos', 'inspector', 'demolition', 'kansas', 'contest', 'temper', 'prop', 'confirmed', 'slob', 'finely', 'inheritance', 'hammett', 'articles', 'babylon', 'ensue', 'chimp', 'marlon', 'darkened', 'purple', 'poets', 'finney', 'robards', 'sandy', 'invest', 'eroticism', 'battlestar', 'happier', 'flea', 'ju', 'colourful', 'calculating', 'overhead', 'poorer', 'masturbation', 'craziness', 'integral', 'asset', 'hazy', 'uncover', 'forwarded', 'strung', 'vaughn', 'employees', 'strands', 'agreeing', 'threaten', 'physique', 'friggin', 'churches', 'iwo', 'lenses', 'rutger', 'bias', 'stagecoach', 'turtles', 'astor', 'peppered', 'condemn', 'pong', 'gleefully', 'hijacking', 'serenity', 'gere', 'centred', 'enzo', 'hathaway', 'utilizes', 'lava', 'probation', 'dum', 'gulf', 'federation', 'goku', 'alucard', 'carvey', 'belial', 'korvo']\n",
            "\n",
            "Cluster 42\n",
            "['see', 'drugs', 'then', 'fans', 'say', 'extremely', 'bases', 'investors', 'using', 'youngsters', 'especially', 'without', 'endure', 'set', 'impression', 'brilliant', 'cop', 'locked', 'opinion', 'wondered', 'showed', 'grade', 'family', 'worse', 'quickly', 'start', 'move', 'sublime', 'standards', 'environmental', 'shape', 'rifle', 'awfully', 'soundtrack', 'heroes', 'along', 'death', 'wood', 'engineer', 'vhs', 'therefore', 'eight', 'prices', 'dumb', 'trust', 'reaction', 'apparently', 'robbing', 'sympathy', 'chan', 'curse', 'decide', 'officers', 'lugosi', 'whats', 'field', 'addiction', 'detracts', 'significantly', 'wretched', 'remains', 'coat', 'endless', 'packing', 'punk', 'slaves', 'intelligent', 'vengeful', 'defeated', 'policeman', 'artist', 'society', 'survived', 'spiritual', 'lets', 'praising', 'target', 'prevents', 'legal', 'consists', 'consisted', 'gifted', 'pan', 'travels', 'hellish', 'reform', 'prize', 'stores', 'colonial', 'boyer', 'psychology', 'yearning', 'oppression', 'tomboy', 'sweetly', 'flows', 'foot', 'hypocrisy', 'envelope', 'irwin', 'rumble', 'unnecessarily', 'tho', 'spoiled', 'natured', 'liberty', 'egypt', 'climb', 'phony', 'hrs', 'hector', 'banality', 'swinging', 'idiocy', 'adding', 'strings', 'airplane', 'struck', 'honesty', 'politically', 'astonished', 'providing', 'inferno', 'anal', 'sensation', 'online', 'freak', 'superpowers', 'defeat', 'raping', 'simplicity', 'recovers', 'trial', 'carrey', 'orleans', 'improvisation', 'dock', 'deer', 'misunderstandings', 'paramount', 'princess', 'directorial', 'joker', 'freeze', 'bing', 'meaningless', 'stalked', 'seamlessly', 'tierney', 'emotion', 'pompous', 'schizophrenic', 'served', 'employing', 'inch', 'teresa', 'interpret', 'truck', 'alongside', 'diatribe', 'melodramatic', 'midget', 'judd', 'kissed', 'heroics', 'panning', 'scratch', 'tightly', 'surrounding', 'detention', 'damon', 'melodramas', 'intolerable', 'peaceful', 'outdoor', 'flamenco', 'marked', 'sofia', 'craftsmanship', 'bags', 'sacrifices', 'amiable', 'staring', 'refugees', 'typecast', 'cyborg', 'griffith', 'repertoire', 'crooked', 'qi', 'pandering', 'carl', 'fortunate', 'bumped', 'motivation', 'loathe', 'drifting', 'dish', 'collar', 'photos', 'roast', 'evoke', 'notoriety', 'marines', 'testing', 'chapter', 'pokemon', 'customer', 'missouri', 'inadequate', 'homework', 'haircut', 'enhances', 'suspicions', 'invented', 'troll', 'therapy', 'anil', 'dil', 'dicaprio', 'giggles', 'coleman', 'blondes', 'prolific', 'classroom', 'mocked', 'schildkraut', 'blocking', 'psychologically', 'peanuts', 'apathy', 'mount', 'landmarks', 'choke', 'townspeople', 'hans', 'melt', 'produces', 'confuse', 'yimou', 'seduced', 'strive', 'corey', 'revolver', 'feedback', 'famed', 'wandered', 'exchanges', 'goddard', 'arrows', 'barbie', 'flu', 'artifact', 'chambers', 'turbulent', 'te', 'abe', 'sic', 'descends', 'touring', 'yelled', 'grenade', 'ellis', 'saber', 'michele', 'blessed', 'chronological', 'gamers', 'cutouts', 'serpent', 'carlyle', 'trippy', 'zucker', 'gracious', 'archives', 'scheduled', 'shouted', 'levinson', 'perceptions', 'elf', 'twitch', 'blades', 'pastiche', 'spins', 'moms', 'respectful', 'hypnotist', 'airplanes', 'recommendations', 'psychopaths', 'publicly', 'giamatti', 'mccarey', 'developers', 'deathstalker', 'valet', 'aditya', 'lucrative', 'statham', 'caviezel', 'lingerie', 'duane', 'vitus']\n",
            "\n",
            "Cluster 43\n",
            "['as', 'attention', 'addition', 'r', 'justification', 'face', 'voices', 'adds', 'recording', 'fear', 'barely', 'imagine', 'chick', 'bob', 'perhaps', 'divided', 'urban', 'role', 'remain', 'momentum', 'ann', 'lommel', 'probably', 'emotional', 'dark', 'surprise', 'beauty', 'seeming', 'afterthought', 'ball', 'dog', 'ourselves', 'frequent', 'witty', 'downbeat', 'gerard', 'bourgeoisie', 'miserable', 'phantom', 'mail', 'facial', 'aimless', 'pursues', 'prove', 'cant', 'lt', 'parental', 'receiving', 'meets', 'richly', 'rocks', 'aforementioned', 'ferris', 'honestly', 'realism', 'promotional', 'gang', 'brings', 'aside', 'sessions', 'factory', 'transitions', 'favourite', 'romeo', 'importantly', 'slavery', 'whenever', 'outrage', 'abc', 'season', 'sci', 'greater', 'shouldn', 'craig', 'bruce', 'minelli', 'einstein', 'robbins', 'blown', 'movements', 'austria', 'rational', 'physically', 'temporary', 'fresh', 'getaway', 'covered', 'scenic', 'insist', 'carr', 'discover', 'pollution', 'tape', 'detroit', 'month', 'expressed', 'bliss', 'danger', 'resolves', 'locales', 'bashing', 'fr', 'government', 'dreams', 'sensible', 'restrained', 'sunny', 'untouched', 'handling', 'interaction', 'manhattan', 'anyhow', 'warrior', 'needle', 'legitimate', 'allure', 'opportunities', 'toned', 'penn', 'thousand', 'sissy', 'losers', 'confront', 'supreme', 'mormon', 'mass', 'whining', 'parker', 'margaret', 'reject', 'correctness', 'clockwork', 'overlooked', 'expand', 'kane', 'removed', 'pervert', 'simpson', 'emerge', 'hallucination', 'meryl', 'claire', 'woven', 'halt', 'nada', 'marriages', 'docu', 'squeeze', 'departed', 'string', 'ooh', 'youth', 'emptiness', 'walker', 'outrageously', 'christy', 'sigh', 'carol', 'slapped', 'climactic', 'englishman', 'sidney', 'underwear', 'sock', 'voting', 'documenting', 'village', 'foreboding', 'nit', 'noel', 'tyler', 'coastal', 'hairdo', 'represent', 'momma', 'abruptly', 'disappoints', 'fairness', 'katherine', 'disservice', 'eyebrows', 'hottest', 'skulls', 'counts', 'criminals', 'appointed', 'servant', 'snippets', 'schneider', 'creep', 'hawaii', 'spy', 'twelve', 'prejudice', 'distinguished', 'thinly', 'abandoning', 'audiard', 'cells', 'incest', 'row', 'broadcasting', 'lanza', 'puerile', 'faults', 'latin', 'tosses', 'costumed', 'joanne', 'azaria', 'fenech', 'stanwyck', 'doe', 'seller', 'patron', 'brash', 'spreads', 'robber', 'battlefield', 'leachman', 'sherry', 'casualties', 'fusion', 'mastroianni', 'domineering', 'invite', 'examines', 'syrup', 'suzanne', 'derived', 'businessmen', 'clinging', 'shore', 'patterns', 'challenger', 'freshman', 'insomnia', 'silhouette', 'adrift', 'mins', 'artfully', 'enacted', 'accounts', 'brunette', 'disorder', 'beavers', 'boll', 'architecture', 'postman', 'antithesis', 'undertones', 'blondell', 'endurance', 'tang', 'biographies', 'blames', 'exemplifies', 'recruits', 'participating', 'discusses', 'dc', 'awkwardly', 'mara', 'needn', 'pier', 'sylvia', 'separation', 'drowned', 'esque', 'terrorized', 'mackenzie', 'muck', 'injecting', 'lesbianism', 'traps', 'elsa', 'screened', 'quaint', 'dice', 'nadja', 'miguel', 'priestess', 'glimpsed', 'overnight', 'fateful', 'approximately', 'conceit', 'weddings', 'stoltz', 'eisenberg', 'meredith', 'missiles', 'audible', 'notions', 'arthurian', 'lew', 'helm', 'ames', 'practices', 'screws', 'autopsy', 'antichrist', 'transportation', 'rerun', 'aishwarya', 'claymation', 'xtro', 'colorless', 'stuttering', 'entangled', 'faust', 'aplenty', 'jezebel', 'prospective', 'greenstreet', 'activists', 'blanchett', 'vladimir', 'commandant', 'abner', 'eclipse', 'hodiak', 'colossus']\n",
            "\n",
            "Cluster 44\n",
            "['at', 'and', 'are', 'lord', 'patience', 'fact', 'mr', 'e', 'animals', 'her', 'performances', 'journey', 'play', 'later', 'nasty', 'reveal', 'replacement', 'offensive', 'flight', 'photography', 'break', 'l', 'spall', 'representing', 'junior', 'warmth', 'tolerance', 'redemption', 'flick', 'complete', 'maine', 'disfigured', 'compare', 'un', 'report', 'taken', 'cow', 'friends', 'depicted', 'legs', 'golden', 'lady', 'soylent', 'executives', 'heterosexual', 'male', 'includes', 'else', 'knock', 'six', 'create', 'married', 'joke', 'poison', 'revealed', 'chemistry', 'pull', 'passed', 'perfectly', 'fast', 'expense', 'bets', 'effectively', 'unpredictable', 'conclusion', 'cheek', 'critical', 'beach', 'yikes', 'novak', 'ah', 'elliott', 'disappears', 'teenager', 'canned', 'pants', 'masks', 'suffers', 'arts', 'earned', 'remove', 'starring', 'lovely', 'adult', 'add', 'hardest', 'spaghetti', 'fallen', 'choose', 'bears', 'reviewers', 'overshadowed', 'wishing', 'venture', 'apocalypse', 'chewing', 'minor', 'advertised', 'uninterested', 'fu', 'pun', 'abortion', 'hitting', 'wake', 'surprises', 'seats', 'dressed', 'bruno', 'positive', 'pacing', 'lived', 'morons', 'psychological', 'socialist', 'regime', 'posters', 'shrill', 'tolerable', 'puppy', 'delivered', 'holy', 'casual', 'identifying', 'survivor', 'greeted', 'indifferent', 'godfather', 'terrorists', 'bratty', 'strives', 'mates', 'exploration', 'dimension', 'heavenly', 'jumped', 'slam', 'manipulative', 'likewise', 'weller', 'imagining', 'placed', 'descent', 'arm', 'useful', 'alcoholic', 'achieve', 'instrumental', 'indicating', 'porter', 'size', 'peculiar', 'consciousness', 'wooden', 'hearing', 'device', 'fatally', 'reminder', 'shortly', 'lucy', 'sporadically', 'hundred', 'perfection', 'welch', 'output', 'haired', 'conceived', 'veins', 'examination', 'commissioner', 'trite', 'hiking', 'quotable', 'ww', 'porno', 'believed', 'prone', 'dien', 'sharif', 'knowledgeable', 'harmon', 'establishes', 'ledger', 'bum', 'collage', 'clark', 'kei', 'superstars', 'nicolas', 'concerning', 'bel', 'manual', 'directions', 'corrupted', 'norwegian', 'fodder', 'curiosity', 'offend', 'remarkably', 'virtue', 'meter', 'salon', 'brooklyn', 'recognizable', 'colleagues', 'pub', 'outer', 'tribal', 'murderers', 'alex', 'unleashed', 'nihilistic', 'bradford', 'illness', 'mighty', 'repetition', 'vega', 'freed', 'marathon', 'insomniac', 'analyzing', 'bout', 'economy', 'queens', 'enormously', 'escapist', 'coin', 'assuming', 'benson', 'machinery', 'hotter', 'kim', 'hindu', 'firing', 'maintenance', 'prophet', 'improves', 'doc', 'pov', 'perceived', 'hinds', 'clarke', 'lately', 'autumn', 'marvelously', 'remembers', 'summarized', 'bashed', 'brashear', 'vitality', 'enhanced', 'assassins', 'alligator', 'naschy', 'manners', 'boogie', 'flown', 'substantial', 'gunshot', 'shin', 'languages', 'thai', 'eerily', 'partially', 'dynamics', 'expedition', 'shout', 'charlotte', 'advocate', 'tissue', 'candid', 'courageous', 'graveyard', 'unexplored', 'felix', 'marvellous', 'perils', 'addict', 'responds', 'pbs', 'rhythm', 'insatiable', 'interestingly', 'caretaker', 'payed', 'frail', 'softcore', 'drugged', 'fleeing', 'tng', 'comprehension', 'elmo', 'candidates', 'prefers', 'socio', 'boulevard', 'excerpts', 'awakens', 'pristine', 'wannabes', 'ds', 'obscurity', 'sardonic', 'constitutes', 'mayer', 'mercedes', 'transferred', 'colored', 'narrowly', 'reported', 'unfamiliar', 'spirituality', 'des', 'monogram', 'yankees', 'lethargic', 'conway', 'fanciful', 'winchester', 'marjorie', 'recurring', 'clutter', 'undress', 'dong', 'rosa', 'components', 'spiders', 'solves', 'owning', 'noose', 'lottery', 'weber', 'orgasm', 'roam', 'dourif', 'pictured', 'booty', 'excalibur', 'exudes', 'capsule', 'mississippi', 'representative', 'garb', 'leprechaun', 'iceberg', 'harryhausen', 'lang', 'shear', 'jawed', 'vietnamese', 'unleashes', 'roswell', 'ghoul', 'durante', 'mercenaries', 'taxes', 'lawson', 'laptop', 'dumbed', 'womanizer', 'bimbos', 'bea', 'sutton', 'curt', 'ayesha', 'marv', 'wigand']\n",
            "\n",
            "Cluster 45\n",
            "['true', 'filming', 'does', 'well', 'enjoyed', 'kind', 'army', 'mike', 'stylish', 'genre', 'pulls', 'blows', 'patrol', 'teeth', 'lightly', 'desperate', 'contain', 'humorous', 'charles', 'daring', 'consideration', 'comparisons', 'zoom', 'crime', 'fever', 'scottish', 'stark', 'props', 'anger', 'actuality', 'otherworldly', 'anderson', 'longer', 'rise', 'plots', 'source', 'advice', 'manuel', 'andrew', 'surreal', 'paycheck', 'bruckheimer', 'feeding', 'inclusion', 'hello', 'objects', 'accents', 'step', 'industry', 'sap', 'saved', 'witherspoon', 'bride', 'cut', 'outcomes', 'aging', 'bullying', 'crumbling', 'blossom', 'gripe', 'palm', 'anticipating', 'willing', 'professors', 'notorious', 'shame', 'ratso', 'annoy', 'ruby', 'dressing', 'treating', 'cagney', 'cards', 'tub', 'bearable', 'adapt', 'traits', 'hugh', 'bullshit', 'berlin', 'official', 'hopkins', 'nephew', 'bone', 'witnesses', 'kooky', 'otto', 'cameras', 'repugnant', 'recreation', 'niven', 'watered', 'abducted', 'dominic', 'rossellini', 'grips', 'riches', 'regional', 'miike', 'attributes', 'bastard', 'dahlia', 'balcony', 'addictive', 'challenging', 'www', 'scarlett', 'solitary', 'patriot', 'copied', 'cliffhanger', 'dominick', 'sugary', 'comeback', 'evolves', 'comatose', 'canine', 'tooth', 'liar', 'noisy', 'bernsen', 'sloane', 'clyde', 'needlessly', 'unspeakable', 'deliberately', 'requirements', 'headlines', 'gays', 'ranger', 'hypocrite', 'interfere', 'soooo', 'casablanca', 'angered', 'mp', 'absurdist', 'architect', 'lana', 'mortensen', 'hercules', 'gunfight', 'chevalier', 'entice', 'ritz', 'fellini', 'weissmuller', 'soderbergh', 'zatoichi', 'diagnosed', 'poles', 'ploy', 'dinosaurs', 'alejandro', 'jive', 'machete', 'marcel', 'moonstruck', 'backbone', 'threshold', 'hacker', 'madhuri', 'adversaries', 'slums', 'silents', 'rampling', 'dashed', 'landlady', 'booby', 'schoolteacher', 'turbo', 'kagome']\n",
            "\n",
            "Cluster 46\n",
            "['up', 'impressive', 'if', 'excluding', 'dead', 'lengths', 'scientific', 'deadly', 'wave', 'should', 'good', 'pulse', 'least', 'times', 'young', 'become', 'resident', 'ii', 'happens', 'mean', 'spoon', 'america', 'home', 'twilight', 'absolutely', 'franchises', 'weaving', 'whatsoever', 'population', 'moral', 'creepiness', 'stylized', 'henchmen', 'dies', 'uninteresting', 'points', 'highway', 'sorts', 'fortune', 'job', 'captain', 'frankly', 'kornbluth', 'caution', 'oh', 'turned', 'hour', 'sinister', 'clich', 'judgment', 'mandy', 'treachery', 'encounters', 'homosexuals', 'hide', 'socks', 'four', 'vanishes', 'steadily', 'bachelor', 'fonda', 'metal', 'ruled', 'delicious', 'faye', 'sometime', 'shave', 'literature', 'bye', 'beer', 'dreamlike', 'decides', 'culkin', 'impaled', 'numb', 'terrific', 'channels', 'hip', 'standing', 'thanks', 'fireplace', 'boggling', 'steam', 'sopranos', 'baby', 'president', 'jury', 'locale', 'lent', 'goth', 'eg', 'worried', 'pulp', 'philippines', 'charmingly', 'vicious', 'sentiment', 'crawling', 'johnny', 'heavyweight', 'interference', 'distracted', 'nash', 'ensure', 'ronald', 'wears', 'teller', 'overthrow', 'electrical', 'hurry', 'football', 'georgia', 'shift', 'horn', 'females', 'anna', 'originated', 'andy', 'arizona', 'alienating', 'cohesive', 'demands', 'shook', 'delirious', 'provocative', 'commits', 'acquainted', 'deliverance', 'describes', 'fbi', 'mechanical', 'operations', 'permission', 'farrah', 'endured', 'highest', 'slick', 'enjoys', 'options', 'filmography', 'blend', 'eaten', 'immigrants', 'convincingly', 'privacy', 'accessible', 'chat', 'balancing', 'jean', 'bust', 'leon', 'hickok', 'dazed', 'emphasize', 'arabic', 'copyright', 'tanya', 'plates', 'reprises', 'auschwitz', 'promoting', 'bleeding', 'distracting', 'coincidence', 'snail', 'herman', 'dwight', 'brit', 'shorts', 'cal', 'captures', 'tonight', 'ralph', 'hosted', 'bird', 'babysitter', 'frozen', 'interior', 'oldest', 'wrought', 'jersey', 'voted', 'purposely', 'fond', 'delusion', 'wisconsin', 'arrival', 'acclaimed', 'indy', 'grocery', 'crockett', 'clan', 'cronies', 'fling', 'oddball', 'roots', 'jonathan', 'injury', 'mystical', 'arrogant', 'spreading', 'reclaim', 'sore', 'grayson', 'injuries', 'legion', 'elicit', 'mercilessly', 'kris', 'chuckling', 'menu', 'tolerate', 'handles', 'gangsta', 'crow', 'argument', 'titled', 'chicken', 'pusher', 'vinnie', 'reflective', 'nifty', 'ardent', 'confederate', 'specialist', 'indirectly', 'yuzna', 'analyze', 'milo', 'complains', 'motley', 'ugliest', 'infidelity', 'tashan', 'delayed', 'favors', 'tomato', 'insects', 'rani', 'chaotic', 'wills', 'coop', 'tex', 'whatnot', 'sanchez', 'unrequited', 'hick', 'heroism', 'badness', 'criticisms', 'neighbourhood', 'anxiety', 'bleed', 'jerusalem', 'blurred', 'feldman', 'outbreak', 'harassment', 'oklahoma', 'underlying', 'roaming', 'letterman', 'trejo', 'exceeds', 'overworked', 'shouts', 'calmly', 'chopping', 'duet', 'hamburg', 'awkwardness', 'relish', 'tornado', 'vanished', 'toss', 'nary', 'tuesday', 'entity', 'showings', 'boyish', 'su', 'newest', 'onwards', 'metaphorical', 'tackled', 'objections', 'oxford', 'deformed', 'elusive', 'continent', 'novella', 'philo', 'sketchy', 'mare', 'villages', 'skies', 'accuse', 'patsy', 'godard', 'mcadams', 'heidi', 'gorgeously', 'steinbeck', 'labored', 'zizek', 'tropical', 'laboured', 'cad', 'mumbo', 'pandora', 'nameless', 'buildup', 'enlists', 'contradictions', 'fiorentino', 'lodge', 'stockwell', 'caleb', 'marcos', 'ferrara', 'lorraine', 'terrence', 'democrats', 'lodger', 'valdez', 'pearce']\n",
            "\n",
            "Cluster 47\n",
            "['kay', 'tourists', 'hair', 'keith', 'matched', 'after', 'loads', 'eastwood', 'south', 'although', 'contained', 'spirit', 'supportive', 'fair', 'spliced', 'seems', 'art', 'ancient', 'oeuvre', 'fitting', 'scenery', 'weaknesses', 'obnoxious', 'n', 'artistry', 'nelson', 'crotch', 'ski', 'angle', 'depend', 'corny', 'gruesome', 'mortal', 'enthralling', 'tree', 'narrates', 'respect', 'study', 'trailer', 'downs', 'traditions', 'rene', 'contemplate', 'romp', 'resides', 'ka', 'silliness', 'pen', 'revealing', 'shared', 'lo', 'heritage', 'credible', 'appearances', 'gospel', 'operative', 'robbers', 'degrading', 'lucky', 'hartley', 'clint', 'surrounded', 'haunts', 'burned', 'enterprise', 'warren', 'compromised', 'ing', 'settlers', 'sites', 'hound', 'necrophilia', 'complaining', 'backdrops', 'celtic', 'das', 'disposal', 'sinking', 'audacity', 'mindset', 'vacant', 'dukes', 'slowing', 'shu', 'organisation', 'obligated', 'nicola', 'income', 'dictatorship', 'phil', 'beef', 'timed', 'campus', 'fiddle', 'pillow', 'stuntman', 'johnston', 'presume', 'ecstatic', 'costa', 'objection', 'antonioni', 'mcgregor', 'beams', 'alison', 'perverse', 'smut', 'val', 'kasdan', 'preservation', 'maniacal', 'nickname', 'resnais', 'crafts', 'shipped', 'bosnian', 'pitcher', 'detect', 'banning', 'jill', 'darko', 'hallway', 'hackett', 'ayres', 'alexei']\n",
            "\n",
            "Cluster 48\n",
            "['who', 'call', 'because', 'wanted', 'whole', 'saint', 'faithfully', 'every', 'resemblance', 'critics', 'project', 'realistic', 'read', 'studio', 'double', 'laid', 'sometimes', 'naked', 'stare', 'raised', 'ultimate', 'bet', 'pool', 'edits', 'thornton', 'named', 'max', 'future', 'do', 'superb', 'case', 'school', 'situation', 'rapping', 'oblivious', 'sg', 'ridicule', 'mary', 'left', 'where', 'parts', 'fade', 'wind', 'loss', 'feel', 'secrets', 'cotton', 'amusing', 'loosely', 'three', 'din', 'principals', 'tremendous', 'shark', 'ambush', 'pour', 'garbage', 'state', 'save', 'characters', 'forever', 'minus', 'cap', 'present', 'critique', 'involved', 'deceptively', 'explaining', 'flashlight', 'delightful', 'interview', 'steele', 'kramer', 'pedestrian', 'labeled', 'moves', 'gazzara', 'wax', 'canyon', 'dim', 'fog', 'laurie', 'stomach', 'told', 'international', 'shoved', 'holocaust', 'hardcore', 'frontal', 'breakthrough', 'w', 'fur', 'schlock', 'brand', 'unintentional', 'meaning', 'hurting', 'avenge', 'draws', 'sharing', 'conversation', 'afloat', 'unleash', 'country', 'vividly', 'traveling', 'tune', 'erased', 'limited', 'rapist', 'pound', 'swarm', 'powell', 'jose', 'iturbi', 'confident', 'prior', 'impossibly', 'echoed', 'hopefully', 'existed', 'placing', 'landing', 'seductive', 'dad', 'animated', 'buck', 'advised', 'captured', 'profit', 'foremost', 'nail', 'quote', 'coburn', 'entry', 'mutilated', 'hogan', 'defeating', 'diesel', 'ceiling', 'circumstances', 'argento', 'millions', 'robbie', 'brat', 'blue', 'vary', 'maturity', 'spades', 'pleasing', 'agrees', 'pitch', 'highlights', 'wyman', 'reprise', 'equal', 'amounts', 'hints', 'potter', 'disagree', 'amy', 'beats', 'undercover', 'mannerisms', 'luke', 'bin', 'grier', 'tales', 'enthusiastic', 'argentina', 'gung', 'dances', 'gain', 'depending', 'fluff', 'womanizing', 'janis', 'gangster', 'determination', 'slap', 'tickets', 'crossed', 'startling', 'lab', 'predictability', 'meadows', 'cutesy', 'interact', 'relic', 'superhero', 'monte', 'choreographer', 'wig', 'universe', 'plotting', 'jan', 'kutcher', 'fixed', 'polished', 'jailed', 'precious', 'voyager', 'path', 'bravado', 'tensions', 'facts', 'orbit', 'ghetto', 'lone', 'disappear', 'ang', 'embarrassing', 'thunder', 'dudikoff', 'murdoch', 'bargained', 'heed', 'sarcasm', 'birthday', 'centerpiece', 'dolph', 'screenwriter', 'hoover', 'dig', 'technicolor', 'tearful', 'payne', 'macgregor', 'amoral', 'constraints', 'approved', 'chuckles', 'travolta', 'fend', 'shrink', 'imaginations', 'needy', 'stepped', 'emotive', 'ambitious', 'homicidal', 'verbally', 'armand', 'listed', 'pickford', 'advent', 'covert', 'blanche', 'whirlwind', 'il', 'foxx', 'displaying', 'tearjerker', 'olive', 'bauer', 'ps', 'gear', 'paste', 'horns', 'gutted', 'defending', 'modeled', 'vidor', 'tyrone', 'peck', 'seas', 'erin', 'individuality', 'attending', 'hawke', 'nodding', 'mute', 'thumb', 'roommates', 'numbingly', 'curtiz', 'rapid', 'morale', 'leaping', 'embark', 'delusional', 'microphone', 'jaime', 'tours', 'arse', 'cursing', 'parole', 'wikipedia', 'authorities', 'arquette', 'swashbuckling', 'predicted', 'uneducated', 'actively', 'hockey', 'competing', 'combo', 'serbia', 'dahl', 'thorough', 'cohen', 'ahmed', 'entrepreneur', 'persecution', 'soaps', 'ricardo', 'wal', 'unsympathetic', 'regina', 'bemused', 'trait', 'es', 'increased', 'radiant', 'waist', 'purports', 'hoskins', 'measures', 'frustrations', 'defiant', 'discs', 'norma', 'slacker', 'momentarily', 'chant', 'creed', 'participated', 'succumbs', 'buses', 'dolphin', 'uniqueness', 'playground', 'guild', 'extract', 'perfunctory', 'donnie', 'cornball', 'objectionable', 'robe', 'capability', 'depended', 'rowdy', 'buchanan', 'frantically', 'sloan', 'gardenia', 'engulfed', 'foreigners', 'matriarch', 'additions', 'fracture', 'hammond', 'inflict', 'anarchist', 'scrimm', 'informing', 'besson', 'tai', 'wilding', 'karan', 'dehavilland']\n",
            "\n",
            "Cluster 49\n",
            "['this', 'made', 'starts', 'had', 'run', 'bloody', 'crusoe', 'half', 'orphaned', 'laughter', 'hurt', 'town', 'bathroom', 'era', 'remake', 'written', 'dramatic', 'commercials', 'enough', 'clumsy', 'insulting', 'memorable', 'dream', 'interesting', 'drenched', 'minded', 'mall', 'lacey', 'history', 'pleased', 'react', 'exploits', 'douglas', 'drinking', 'rock', 'distributors', 'behavior', 'sitting', 'consequently', 'th', 'outrageous', 'danza', 'weren', 'super', 'indie', 'nielsen', 'deservedly', 'hero', 'essential', 'shadows', 'kong', 'dump', 'instincts', 'buffs', 'familiar', 'fisher', 'logical', 'deliver', 'bar', 'submission', 'gunfire', 'zip', 'thesis', 'stop', 'mona', 'esther', 'heartstrings', 'groundbreaking', 'gotten', 'aplomb', 'vulgar', 'trunk', 'suppose', 'ai', 'choice', 'rap', 'imagination', 'lasted', 'ugly', 'talked', 'watches', 'acted', 'radio', 'conveying', 'convinced', 'concludes', 'machines', 'reporter', 'artwork', 'sang', 'assed', 'moods', 'parks', 'moralistic', 'context', 'kidnaps', 'brass', 'salt', 'rogers', 'rizzo', 'undercurrent', 'francisco', 'argue', 'info', 'leg', 'tap', 'whites', 'transition', 'applied', 'cockney', 'heath', 'apartheid', 'spouses', 'amid', 'battered', 'assassin', 'duel', 'spots', 'affluent', 'granddaughter', 'suspiciously', 'oz', 'myra', 'judy', 'musician', 'beings', 'kyle', 'monkeys', 'subjective', 'nazi', 'luna', 'applauded', 'mildly', 'clearer', 'horrified', 'frenetic', 'reasoning', 'visitor', 'sailors', 'manipulated', 'lumet', 'alot', 'phenomenal', 'boorish', 'grimy', 'tastes', 'convicted', 'glance', 'beam', 'loy', 'authors', 'hitchhiker', 'lounge', 'threw', 'ravishing', 'thurman', 'pickup', 'scripting', 'naivety', 'chord', 'hooks', 'intention', 'blindly', 'helicopters', 'barton', 'threatened', 'flirting', 'ordered', 'elevator', 'iraq', 'extend', 'albeit', 'enthusiasts', 'excellently', 'adore', 'rebuild', 'nolan', 'deserted', 'aggression', 'specialty', 'organization', 'sammy', 'deol', 'bangkok', 'fraud', 'blocked', 'claw', 'counterpoint', 'marin', 'mayor', 'stella', 'disdain', 'fido', 'sliced', 'suckered', 'drawer', 'sneak', 'poignantly', 'teasing', 'extension', 'dandy', 'clive', 'verne', 'cameraman', 'namely', 'cobbled', 'serviceable', 'glaring', 'prank', 'collecting', 'commission', 'contradict', 'observations', 'garage', 'tori', 'hussein', 'november', 'nixon', 'nationality', 'forsythe', 'stagy', 'messed', 'gist', 'kicker', 'reflections', 'unsubtle', 'mode', 'crammed', 'lords', 'looses', 'candidate', 'messes', 'anonymous', 'keller', 'waster', 'weirdo', 'irani', 'startled', 'custom', 'weeping', 'ranging', 'prude', 'rockwell', 'viva', 'ticks', 'mole', 'bronx', 'retire', 'korman', 'misty', 'financed', 'weirder', 'marketed', 'counterpart', 'dickinson', 'contaminated', 'undone', 'sarandon', 'brighton', 'angelopoulos', 'infiltrate', 'voluptuous', 'trading', 'brittany', 'seminal', 'overcoming', 'freakin', 'modesty', 'ancestors', 'conquest', 'striving', 'backward', 'carney', 'stuffing', 'robocop', 'revue', 'carolina', 'myriad', 'hesitant', 'replicate', 'bulls', 'vantage', 'frigid', 'michigan', 'nichols', 'godawful', 'prima', 'cates']\n"
          ],
          "name": "stdout"
        }
      ]
    },
    {
      "cell_type": "code",
      "metadata": {
        "id": "yRQvlCRgyv97",
        "colab_type": "code",
        "colab": {}
      },
      "source": [
        ""
      ],
      "execution_count": 0,
      "outputs": []
    }
  ]
}