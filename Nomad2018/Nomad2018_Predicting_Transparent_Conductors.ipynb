{
  "nbformat": 4,
  "nbformat_minor": 0,
  "metadata": {
    "colab": {
      "name": "Nomad2018 Predicting Transparent Conductors.ipynb",
      "version": "0.3.2",
      "provenance": []
    },
    "kernelspec": {
      "name": "python3",
      "display_name": "Python 3"
    }
  },
  "cells": [
    {
      "cell_type": "code",
      "metadata": {
        "id": "DRNLvjBAv5M5",
        "colab_type": "code",
        "colab": {}
      },
      "source": [
        "import numpy as np # linear algebra\n",
        "import pandas as pd # data processing, CSV file I/O (e.g. pd.read_csv)\n",
        "\n",
        "# Input data files are available in the \"../input/\" directory.\n",
        "# For example, running this (by clicking run or pressing Shift+Enter) will list the files in the input directory\n",
        "\n",
        "from subprocess import check_output\n",
        "\n",
        "# Any results you write to the current directory are saved as output.\n",
        "\n",
        "from sklearn.metrics import mean_squared_error\n",
        "from sklearn import model_selection\n",
        "from catboost import CatBoostRegressor\n",
        "from sklearn.decomposition import PCA\n",
        "\n",
        "from google.colab import files"
      ],
      "execution_count": 0,
      "outputs": []
    },
    {
      "cell_type": "code",
      "metadata": {
        "id": "Wex-Hp83wW2f",
        "colab_type": "code",
        "colab": {}
      },
      "source": [
        "def rmsle(h, y): \n",
        "    \"\"\"\n",
        "    Compute the Root Mean Squared Log Error for hypthesis h and targets y\n",
        "\n",
        "    Args:\n",
        "        h - numpy array containing predictions with shape (n_samples, n_targets)\n",
        "        y - numpy array containing targets with shape (n_samples, n_targets)\n",
        "    \"\"\"\n",
        "    return np.sqrt(np.square(np.log(h + 1) - np.log(y + 1)).mean())"
      ],
      "execution_count": 0,
      "outputs": []
    },
    {
      "cell_type": "code",
      "metadata": {
        "id": "WTaXJbZNwR4i",
        "colab_type": "code",
        "colab": {}
      },
      "source": [
        "train = pd.read_csv(\"train (1).csv\")\n",
        "test = pd.read_csv(\"test (1).csv\")\n",
        "test_id=test.id\n",
        "\n",
        "#train = train.drop(['id'], axis=1)\n",
        "#train = train.drop_duplicates()\n",
        "\n",
        "#train = train.reset_index(drop=True)"
      ],
      "execution_count": 0,
      "outputs": []
    },
    {
      "cell_type": "code",
      "metadata": {
        "id": "87MZKZC73lAv",
        "colab_type": "code",
        "outputId": "da113af9-41f4-4c9d-91a2-9665ba5227bf",
        "colab": {
          "base_uri": "https://localhost:8080/",
          "height": 217
        }
      },
      "source": [
        "train.head()"
      ],
      "execution_count": 0,
      "outputs": [
        {
          "output_type": "execute_result",
          "data": {
            "text/html": [
              "<div>\n",
              "<style scoped>\n",
              "    .dataframe tbody tr th:only-of-type {\n",
              "        vertical-align: middle;\n",
              "    }\n",
              "\n",
              "    .dataframe tbody tr th {\n",
              "        vertical-align: top;\n",
              "    }\n",
              "\n",
              "    .dataframe thead th {\n",
              "        text-align: right;\n",
              "    }\n",
              "</style>\n",
              "<table border=\"1\" class=\"dataframe\">\n",
              "  <thead>\n",
              "    <tr style=\"text-align: right;\">\n",
              "      <th></th>\n",
              "      <th>id</th>\n",
              "      <th>spacegroup</th>\n",
              "      <th>number_of_total_atoms</th>\n",
              "      <th>percent_atom_al</th>\n",
              "      <th>percent_atom_ga</th>\n",
              "      <th>percent_atom_in</th>\n",
              "      <th>lattice_vector_1_ang</th>\n",
              "      <th>lattice_vector_2_ang</th>\n",
              "      <th>lattice_vector_3_ang</th>\n",
              "      <th>lattice_angle_alpha_degree</th>\n",
              "      <th>lattice_angle_beta_degree</th>\n",
              "      <th>lattice_angle_gamma_degree</th>\n",
              "      <th>formation_energy_ev_natom</th>\n",
              "      <th>bandgap_energy_ev</th>\n",
              "      <th>vector_pca0</th>\n",
              "    </tr>\n",
              "  </thead>\n",
              "  <tbody>\n",
              "    <tr>\n",
              "      <th>0</th>\n",
              "      <td>1</td>\n",
              "      <td>33</td>\n",
              "      <td>80.0</td>\n",
              "      <td>0.6250</td>\n",
              "      <td>0.3750</td>\n",
              "      <td>0.000</td>\n",
              "      <td>9.9523</td>\n",
              "      <td>8.5513</td>\n",
              "      <td>9.1775</td>\n",
              "      <td>90.0026</td>\n",
              "      <td>90.0023</td>\n",
              "      <td>90.0017</td>\n",
              "      <td>0.0680</td>\n",
              "      <td>3.4387</td>\n",
              "      <td>2.303089</td>\n",
              "    </tr>\n",
              "    <tr>\n",
              "      <th>1</th>\n",
              "      <td>2</td>\n",
              "      <td>194</td>\n",
              "      <td>80.0</td>\n",
              "      <td>0.6250</td>\n",
              "      <td>0.3750</td>\n",
              "      <td>0.000</td>\n",
              "      <td>6.1840</td>\n",
              "      <td>6.1838</td>\n",
              "      <td>23.6287</td>\n",
              "      <td>90.0186</td>\n",
              "      <td>89.9980</td>\n",
              "      <td>120.0025</td>\n",
              "      <td>0.2490</td>\n",
              "      <td>2.9210</td>\n",
              "      <td>-10.413997</td>\n",
              "    </tr>\n",
              "    <tr>\n",
              "      <th>2</th>\n",
              "      <td>3</td>\n",
              "      <td>227</td>\n",
              "      <td>40.0</td>\n",
              "      <td>0.8125</td>\n",
              "      <td>0.1875</td>\n",
              "      <td>0.000</td>\n",
              "      <td>9.7510</td>\n",
              "      <td>5.6595</td>\n",
              "      <td>13.9630</td>\n",
              "      <td>90.9688</td>\n",
              "      <td>91.1228</td>\n",
              "      <td>30.5185</td>\n",
              "      <td>0.1821</td>\n",
              "      <td>2.7438</td>\n",
              "      <td>-1.223099</td>\n",
              "    </tr>\n",
              "    <tr>\n",
              "      <th>3</th>\n",
              "      <td>4</td>\n",
              "      <td>167</td>\n",
              "      <td>30.0</td>\n",
              "      <td>0.7500</td>\n",
              "      <td>0.0000</td>\n",
              "      <td>0.250</td>\n",
              "      <td>5.0036</td>\n",
              "      <td>5.0034</td>\n",
              "      <td>13.5318</td>\n",
              "      <td>89.9888</td>\n",
              "      <td>90.0119</td>\n",
              "      <td>120.0017</td>\n",
              "      <td>0.2172</td>\n",
              "      <td>3.3492</td>\n",
              "      <td>-4.410966</td>\n",
              "    </tr>\n",
              "    <tr>\n",
              "      <th>4</th>\n",
              "      <td>5</td>\n",
              "      <td>194</td>\n",
              "      <td>80.0</td>\n",
              "      <td>0.0000</td>\n",
              "      <td>0.6250</td>\n",
              "      <td>0.375</td>\n",
              "      <td>6.6614</td>\n",
              "      <td>6.6612</td>\n",
              "      <td>24.5813</td>\n",
              "      <td>89.9960</td>\n",
              "      <td>90.0006</td>\n",
              "      <td>119.9893</td>\n",
              "      <td>0.0505</td>\n",
              "      <td>1.3793</td>\n",
              "      <td>-10.700240</td>\n",
              "    </tr>\n",
              "  </tbody>\n",
              "</table>\n",
              "</div>"
            ],
            "text/plain": [
              "   id  spacegroup  ...  bandgap_energy_ev  vector_pca0\n",
              "0   1          33  ...             3.4387     2.303089\n",
              "1   2         194  ...             2.9210   -10.413997\n",
              "2   3         227  ...             2.7438    -1.223099\n",
              "3   4         167  ...             3.3492    -4.410966\n",
              "4   5         194  ...             1.3793   -10.700240\n",
              "\n",
              "[5 rows x 15 columns]"
            ]
          },
          "metadata": {
            "tags": []
          },
          "execution_count": 18
        }
      ]
    },
    {
      "cell_type": "code",
      "metadata": {
        "id": "Xhgq4qLtwVQr",
        "colab_type": "code",
        "colab": {}
      },
      "source": [
        "vector = np.vstack((train[['lattice_vector_1_ang', 'lattice_vector_2_ang','lattice_vector_3_ang']].values,\n",
        "                    test[['lattice_vector_1_ang', 'lattice_vector_2_ang','lattice_vector_3_ang']].values))"
      ],
      "execution_count": 0,
      "outputs": []
    },
    {
      "cell_type": "code",
      "metadata": {
        "id": "vt5ILrEKwJJS",
        "colab_type": "code",
        "colab": {}
      },
      "source": [
        "pca = PCA().fit(vector)\n",
        "train['vector_pca0'] = pca.transform(train[['lattice_vector_1_ang', 'lattice_vector_2_ang','lattice_vector_3_ang']])[:, 0]\n",
        "test['vector_pca0'] = pca.transform(test[['lattice_vector_1_ang', 'lattice_vector_2_ang','lattice_vector_3_ang']])[:, 0]\n",
        "\n",
        "\n",
        "X = train.drop(['id','bandgap_energy_ev','formation_energy_ev_natom'], axis=1)\n",
        "Y_feen = np.log(train['formation_energy_ev_natom']+1)\n",
        "Y_bee = np.log(train['bandgap_energy_ev']+1)\n",
        "\n",
        "test = test.drop(['id'], axis = 1)"
      ],
      "execution_count": 0,
      "outputs": []
    },
    {
      "cell_type": "code",
      "metadata": {
        "id": "Vg_t7JqMwJF7",
        "colab_type": "code",
        "colab": {}
      },
      "source": [
        "def runCatBoost(x_train, y_train,x_test, y_test,test,depth):\n",
        "    model=CatBoostRegressor(iterations=1200,\n",
        "                            learning_rate=0.03,\n",
        "                            depth=depth,\n",
        "                            loss_function='RMSE',\n",
        "                            eval_metric='RMSE',\n",
        "                            random_seed=99,\n",
        "                            od_type='Iter',\n",
        "                            od_wait=50)\n",
        "    model.fit(x_train, y_train, eval_set=(x_test, y_test), use_best_model=True, verbose=False)\n",
        "    y_pred_train=model.predict(x_test)\n",
        "    rmsle_result = rmsle(np.exp(y_pred_train)-1,np.exp(y_test)-1)\n",
        "    y_pred_test=model.predict(test)\n",
        "    return y_pred_train,rmsle_result,y_pred_test"
      ],
      "execution_count": 0,
      "outputs": []
    },
    {
      "cell_type": "code",
      "metadata": {
        "id": "bAyuglA5wJC4",
        "colab_type": "code",
        "outputId": "227a07ec-14cc-4c8a-f885-8e7b043ce1c7",
        "colab": {
          "base_uri": "https://localhost:8080/",
          "height": 34
        }
      },
      "source": [
        "pred_full_test_cat_feen = 0\n",
        "mse_cat_list_feen=[]\n",
        "kf = model_selection.KFold(n_splits=10, shuffle=True, random_state=30)\n",
        "for dev_index, val_index in kf.split(X):\n",
        "    dev_X, val_X = X.loc[dev_index], X.loc[val_index]\n",
        "    dev_y, val_y = Y_feen.loc[dev_index], Y_feen.loc[val_index]\n",
        "    y_pred_feen,rmsle_feen,y_pred_test_feen=runCatBoost(dev_X, dev_y, val_X, val_y,test,depth=4)\n",
        "    mse_cat_list_feen.append(rmsle_feen)\n",
        "    pred_full_test_cat_feen = pred_full_test_cat_feen + y_pred_test_feen\n",
        "mse_cat_feen_mean=np.mean(mse_cat_list_feen)\n",
        "print(\"Mean cv score : \", np.mean(mse_cat_feen_mean))\n",
        "y_pred_test_feen=pred_full_test_cat_feen/10"
      ],
      "execution_count": 0,
      "outputs": [
        {
          "output_type": "stream",
          "text": [
            "Mean cv score :  0.032157606465501275\n"
          ],
          "name": "stdout"
        }
      ]
    },
    {
      "cell_type": "code",
      "metadata": {
        "id": "CYtIYYSRwJAQ",
        "colab_type": "code",
        "outputId": "b7f8cbea-2119-4b21-e435-c9b62cd32574",
        "colab": {
          "base_uri": "https://localhost:8080/",
          "height": 34
        }
      },
      "source": [
        "pred_full_test_cat_bee = 0\n",
        "mse_cat_list_bee=[]\n",
        "kf = model_selection.KFold(n_splits=10, shuffle=True, random_state=30)\n",
        "for dev_index, val_index in kf.split(X):\n",
        "    dev_X, val_X = X.loc[dev_index], X.loc[val_index]\n",
        "    dev_y, val_y = Y_bee.loc[dev_index], Y_bee.loc[val_index]\n",
        "    y_pred_bee,rmsle_bee,y_pred_test_bee=runCatBoost(dev_X, dev_y, val_X, val_y,test,depth=4)\n",
        "    mse_cat_list_bee.append(rmsle_bee)\n",
        "    pred_full_test_cat_bee = pred_full_test_cat_bee + y_pred_test_bee\n",
        "mse_cat_bee_mean=np.mean(mse_cat_list_bee)\n",
        "print(\"Mean cv score : \", np.mean(mse_cat_bee_mean))\n",
        "y_pred_test_bee=pred_full_test_cat_bee/10"
      ],
      "execution_count": 0,
      "outputs": [
        {
          "output_type": "stream",
          "text": [
            "Mean cv score :  0.08645899596386686\n"
          ],
          "name": "stdout"
        }
      ]
    },
    {
      "cell_type": "code",
      "metadata": {
        "id": "i8ukvoykwI-N",
        "colab_type": "code",
        "outputId": "a7fc6992-7e34-4543-dce4-f9771f45bed4",
        "colab": {
          "base_uri": "https://localhost:8080/",
          "height": 34
        }
      },
      "source": [
        "sub=pd.DataFrame()\n",
        "sub[\"id\"]=test_id\n",
        "sub[\"formation_energy_ev_natom\"]=np.clip(np.exp(y_pred_test_feen)-1, 0, None)\n",
        "sub[\"bandgap_energy_ev\"]=np.clip(np.exp(y_pred_test_bee)-1, 0, None)\n",
        "rmsle_total=np.mean([mse_cat_bee_mean,mse_cat_feen_mean])\n",
        "print(rmsle_total)\n",
        "sub.to_csv(\"Nomad2018.csv\",index=False)"
      ],
      "execution_count": 0,
      "outputs": [
        {
          "output_type": "stream",
          "text": [
            "0.05930830121468407\n"
          ],
          "name": "stdout"
        }
      ]
    },
    {
      "cell_type": "code",
      "metadata": {
        "id": "uNnLhJZ70ZHu",
        "colab_type": "code",
        "colab": {}
      },
      "source": [
        "sub.to_csv(\"Nomad2018.csv\",index=False)\n",
        "files.download(\"Nomad2018.csv\")"
      ],
      "execution_count": 0,
      "outputs": []
    },
    {
      "cell_type": "code",
      "metadata": {
        "id": "JUrqx9aU0cox",
        "colab_type": "code",
        "colab": {}
      },
      "source": [
        ""
      ],
      "execution_count": 0,
      "outputs": []
    }
  ]
}